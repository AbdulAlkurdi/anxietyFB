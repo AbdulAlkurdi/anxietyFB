{
 "cells": [
  {
   "cell_type": "markdown",
   "id": "6a8af7f1",
   "metadata": {},
   "source": [
    "## Imports"
   ]
  },
  {
   "cell_type": "code",
   "execution_count": 1,
   "id": "20604081",
   "metadata": {},
   "outputs": [],
   "source": [
    "## Link: https://github.com/WJMatthew/WESAD/blob/master/data_wrangling.py\n",
    "%load_ext autoreload\n",
    "%autoreload 2\n",
    "\n",
    "import os\n",
    "import re\n",
    "import pickle\n",
    "import numpy as np\n",
    "import pandas as pd\n",
    "import seaborn as sns\n",
    "import itertools\n",
    "\n",
    "import scipy.signal as scisig\n",
    "from scipy.signal import find_peaks\n",
    "import matplotlib.pyplot as plt\n",
    "import matplotlib as mpl\n",
    "import heartpy as hp\n",
    "import biosppy\n",
    "import neurokit2 as nk\n",
    "from heartpy.datautils import *\n",
    "from heartpy.peakdetection import *\n",
    "mpl.rcParams['agg.path.chunksize'] = 10000\n",
    "from time import time\n",
    "from scipy import stats\n",
    "from sklearn.model_selection import train_test_split\n",
    "from sklearn.metrics import confusion_matrix, accuracy_score\n",
    "from sklearn.discriminant_analysis import LinearDiscriminantAnalysis\n",
    "from sklearn.model_selection import cross_val_score, cross_val_predict\n",
    "from sklearn.inspection import PartialDependenceDisplay\n",
    "from sklearn.inspection import partial_dependence\n",
    "from sklearn.ensemble import RandomForestClassifier\n",
    "from sklearn.preprocessing import StandardScaler\n",
    "from sklearn.svm import SVC\n",
    "from sklearn import tree\n",
    "from sklearn.ensemble import AdaBoostClassifier\n",
    "from sklearn.neighbors import NearestNeighbors\n",
    "from sklearn.neighbors import KNeighborsClassifier\n",
    "from sklearn.neighbors import NeighborhoodComponentsAnalysis\n",
    "from sklearn.pipeline import Pipeline\n",
    "import csv \n",
    "from multiprocessing import Pool\n",
    "from copy import copy\n",
    "\n",
    "import warnings\n",
    "warnings.filterwarnings('ignore')\n",
    "from fb_models import *\n",
    "from datetime import datetime\n",
    "import logging\n",
    "now = datetime.now().strftime('%Y-%m-%d-%H-%M%p')\n",
    "\n",
    "logging.basicConfig(level=logging.INFO, filename='logs/'+now+'.log', force=True)\n",
    "\n"
   ]
  },
  {
   "cell_type": "markdown",
   "id": "ed758cf9",
   "metadata": {},
   "source": [
    "# Feature Extraction"
   ]
  },
  {
   "cell_type": "markdown",
   "id": "713b4bf2",
   "metadata": {},
   "source": [
    "Features coded:\n",
    "\n",
    "ECG: mean, std, min, max, bpm, ibi, sdnn, sdsd, rmssd, pnn20, pnn50, \n",
    "\n",
    "\n",
    "PPG/BVP: mean, std, min, max, peak_freq\n",
    "\n",
    "TEMP:mean, std, min, max, drange, slope\n",
    "\n",
    "RESP: mean, std, min, max, rate; Inh: mean, std; Exh: mean, std, I/E\n",
    "\n",
    "\n",
    "EDA: mean, std, min, max, slipe, drange; SCR: mean, std, min, max; SCL: mean, std, min, max\n",
    "\n",
    "ACC x,y,z; chest, wrist:  mean, std, min, max, abs_integral, peak_freq\n",
    "Acc net: mean, std, min, max, abs_integral, peak_freq\n",
    "\n",
    "\n",
    "Features not coded yet:\n",
    "\n",
    "\n",
    "To replicate this study with similar modalities to RADWear, I will drop the following signals: EDA_c, EMG, TEMP_C"
   ]
  },
  {
   "cell_type": "markdown",
   "id": "24314e2f",
   "metadata": {},
   "source": [
    "## Parameters"
   ]
  },
  {
   "cell_type": "code",
   "execution_count": 2,
   "id": "23cd49cd",
   "metadata": {},
   "outputs": [],
   "source": [
    "# E4 (wrist) Sampling Frequencies\n",
    "fs_dict = {\n",
    "    'ACC': 32,\n",
    "    'BVP': 64,\n",
    "    'EDA': 4,\n",
    "    'TEMP': 4,\n",
    "    'label': 700,\n",
    "    'Resp': 700,\n",
    "    'ECG': 700,\n",
    "    'chest': 700,\n",
    "}\n",
    "# Window size\n",
    "WINDOW_IN_SECONDS = 60\n",
    "stride = 10\n",
    "\n",
    "# Labels\n",
    "label_dict = {'baseline': 1, 'stress': 2, 'amusement': 0}\n",
    "# Int to label mappings\n",
    "int_to_label = {1: 'baseline', 2: 'stress', 0: 'amusement'}\n",
    "# Feature names\n",
    "feat_names = None\n",
    "# Where to save the data\n",
    "drive = 'E:/'\n",
    "#loadPath = '/C/Users/alkurdi/Desktop/Vansh/data/WESAD'\n",
    "loadPath = \"E:/Users/alkurdi/data/WESAD\"\n",
    "#loadPath_GN = '/C/Users/alkurdi/Desktop/Vansh/data/GN-WESAD'\n",
    "loadPath_GN = \"E:/Users/alkurdi/data/GN-WESAD\"\n",
    "\n",
    "# Where to get the data\n",
    "subject_feature_path = '/subject_feats'\n",
    "fb_model_list = ['DT', 'RF', 'SVM', 'LDA', 'KNN', 'AB','XGB']\n",
    "\n",
    "if not os.path.exists(loadPath):\n",
    "    os.makedirs(loadPath)\n",
    "if not os.path.exists(loadPath + subject_feature_path):\n",
    "    os.makedirs(loadPath + subject_feature_path)"
   ]
  },
  {
   "cell_type": "markdown",
   "id": "a7f8c968",
   "metadata": {},
   "source": [
    "We want to reduce modalities in WESAD data such that it matches RADWear modalities. "
   ]
  },
  {
   "cell_type": "code",
   "execution_count": 3,
   "id": "9c12d804",
   "metadata": {},
   "outputs": [],
   "source": [
    "# Data import\n",
    "def read_n_reduce(path):\n",
    "    df = pd.read_csv(path, index_col=0)\n",
    "    df = df.drop(columns=['subject'], axis=1)\n",
    "    pd.set_option('display.max_columns', None)\n",
    "    # We want to drop columns in df that are not in RADWear to match modalities.\n",
    "    # drop _c columns\n",
    "    columns_list = df.columns.tolist()\n",
    "    drop_list = []\n",
    "    # df.drop(columns=['Resp_C'])\n",
    "    for column in columns_list:\n",
    "        if (\n",
    "            'EMG' in column\n",
    "            or 'EDA_C' in column\n",
    "            or 'Temp_C' in column\n",
    "            or 'TEMP_C' in column\n",
    "            or 'SCR_C' in column\n",
    "            or 'SCL_C' in column\n",
    "        ):\n",
    "            drop_list.append(column)\n",
    "\n",
    "    reduced_df = df.drop(columns=drop_list)\n",
    "    df = reduced_df\n",
    "    return df\n",
    "\n",
    "rel_path = '/subject_feats/WESADfeatures-win60stride10.csv'\n",
    "df = read_n_reduce(loadPath + rel_path)\n",
    "\n",
    "#df = read_n_reduce(loadPath + subject_feature_path + '/oct5_feats4.csv')\n",
    "\n"
   ]
  },
  {
   "cell_type": "markdown",
   "id": "fa47677b",
   "metadata": {},
   "source": [
    "## Generate correlation between features and labels"
   ]
  },
  {
   "cell_type": "code",
   "execution_count": 4,
   "metadata": {},
   "outputs": [],
   "source": [
    "#drop_list = ['net_acc_C_mean'\t,'net_acc_C_std',\t'net_acc_C_min'\t,'net_acc_C_max', 'EDA_min',\t'EDA_max',TEMP_min\tTEMP_max net_acc_mean\tnet_acc_std\tnet_acc_min] EDA_SCR_mean EDA_SCL_std BVP_mean BVP_min BVP_max TEMP_mean TEMP_std TEMP_min\t\n",
    "#corr.drop(columns=drop_list) "
   ]
  },
  {
   "cell_type": "code",
   "execution_count": 5,
   "id": "3385104c",
   "metadata": {},
   "outputs": [],
   "source": [
    "vals = abs(df.corr()['label']).sort_values(ascending=False)\n",
    "if False:\n",
    "    for i in range(len(vals)):\n",
    "        print(vals.index[i], vals[i])\n",
    "\n",
    "corr = df.corr()\n",
    "drop_list = ['net_acc_C_mean'\t,'net_acc_C_std',\t'net_acc_C_min'\t,'net_acc_C_max', 'EDA_min',\t'EDA_max',]\n",
    "plot_corr = False\n",
    "if plot_corr:\n",
    "    plt.figure(figsize=(16, 10))\n",
    "    sns.heatmap(corr, square=True)"
   ]
  },
  {
   "cell_type": "code",
   "execution_count": 6,
   "metadata": {},
   "outputs": [
    {
     "data": {
      "text/plain": [
       "(90, 90)"
      ]
     },
     "execution_count": 6,
     "metadata": {},
     "output_type": "execute_result"
    }
   ],
   "source": [
    "corr = abs(df.drop(columns=['ECG_ibi', 'Resp_C_Exhal_mean', 'ECG_pnn20']).corr())\n",
    "corr.shape"
   ]
  },
  {
   "cell_type": "code",
   "execution_count": 7,
   "metadata": {},
   "outputs": [
    {
     "data": {
      "image/png": "[encoded data removed]",
      "text/plain": [
       "<Figure size 1600x1000 with 2 Axes>"
      ]
     },
     "metadata": {},
     "output_type": "display_data"
    }
   ],
   "source": [
    "from calendar import c\n",
    "import matplotlib.cm as cm\n",
    "drop_list = ['net_acc_C_mean', 'net_acc_C_std', 'net_acc_C_min',\n",
    "             'net_acc_C_max','ECG_ibi', 'Resp_C_Exhal_mean', 'ECG_pnn20',\n",
    "             'net_acc_abs_integral', 'ACC_x_abs_integral',\n",
    "             'ACC_y_abs_integral', 'ACC_z_abs_integral', 'net_acc_C_abs_integral',\n",
    "             'ACC_y_std', 'ACC_y_min', 'ACC_y_max', 'ACC_z_mean', 'ACC_z_std',\n",
    "             'ACC_z_min', 'ACC_z_max',\n",
    "             'ACC_y_C_mean', 'ACC_y_C_std', 'ACC_y_C_min', 'ACC_y_C_max',\n",
    "             'ACC_z_C_mean', 'ACC_z_C_std', 'ACC_z_C_min', 'ACC_z_C_max','Resp_C_max',\n",
    "             'EDA_SCL_mean', 'EDA_SCL_min', 'TEMP_min', 'TEMP_max',\n",
    "             'ACC_x_C_abs_integral','ACC_y_C_abs_integral', 'ACC_z_C_abs_integral',\n",
    "             'TEMP_drange', 'ACC_y_mean', 'EDA_min']\n",
    "corr_df = df.copy()#.reindex(sorted(df.columns), axis=1)\n",
    "corr = abs(corr_df.drop(columns=drop_list).corr())\n",
    "\n",
    "\n",
    "#conditions for filtering 0.6<=r<=0.9\n",
    "val_min = 0.6\n",
    "val_max = 0.9999\n",
    "\n",
    "\n",
    "#two axis objects just for comparison purposes\n",
    "labels = corr.columns.to_list()\n",
    "my_cmap = copy(cm.RdBu_r)\n",
    "#my_cmap.set_over(\"blue\")\n",
    "#my_cmap.set_under(\"white\")\n",
    "\n",
    "corr = corr.to_numpy()\n",
    "\n",
    "#delete columns where all elements do not fulfill the conditions\n",
    "ind_x,  = np.where(np.all(np.logical_or(corr<val_min, corr>val_max), axis=0))\n",
    "ind_x = ind_x.tolist();ind_x.pop(-1)\n",
    "corr = np.delete(corr, ind_x, 0)\n",
    "corr = np.delete(corr, ind_x, 1)\n",
    "map_labels = list(filter(lambda x: labels.index(x) not in ind_x, labels))\n",
    "\n",
    "\n",
    "#now the same for rows \n",
    "ind_y, = np.where(np.all(np.logical_or(corr<val_min, corr>val_max), axis=1))\n",
    "ind_y = ind_y.tolist();ind_y.pop(-1)\n",
    "corr = np.delete(corr, ind_y, 0)\n",
    "corr = np.delete(corr, ind_y, 1)\n",
    "\n",
    "#update labels\n",
    "map_labels = list(filter(lambda x: map_labels.index(x) not in ind_y, map_labels))\n",
    "\n",
    "# use only lower triangle\n",
    "corr = np.tril(corr)\n",
    "\n",
    "#update labels\n",
    "plt.figure(figsize=(16, 10))\n",
    "#plot heatmap\n",
    "g = sns.heatmap(corr,\n",
    "    xticklabels=map_labels,\n",
    "    yticklabels=map_labels,\n",
    "    vmin=.3, #val_min,\n",
    "    #vmax=val_max, \n",
    "    cmap=my_cmap,\n",
    "    square=True)\n",
    "g.set_title(\"Reduced heatmap\")\n",
    "plt.show()"
   ]
  },
  {
   "cell_type": "code",
   "execution_count": 8,
   "id": "eb6d39e7",
   "metadata": {},
   "outputs": [],
   "source": [
    "# df = df.loc[:, df.columns != 'Resp_C_rate'] #I don't know why this is here.\n",
    "\n",
    "features = df.loc[:, df.columns != 'label'].columns\n",
    "print_feats_list = False\n",
    "if print_feats_list:\n",
    "    for ft_idx in range(len(features)):\n",
    "        print(features[ft_idx], ft_idx)"
   ]
  },
  {
   "cell_type": "markdown",
   "id": "e2293566",
   "metadata": {},
   "source": [
    "## split data into train and test set"
   ]
  },
  {
   "cell_type": "code",
   "execution_count": 9,
   "id": "3a6898be",
   "metadata": {},
   "outputs": [],
   "source": [
    "X = df.drop('label', axis=1).values\n",
    "y = df['label'].values\n",
    "X_train, X_test, y_train, y_test = train_test_split(X, y, test_size=0.2, random_state=0)"
   ]
  },
  {
   "cell_type": "markdown",
   "id": "95a4ee52",
   "metadata": {},
   "source": [
    "# Modeling"
   ]
  },
  {
   "cell_type": "markdown",
   "id": "aae0b4a2",
   "metadata": {},
   "source": [
    "## Cross Validation"
   ]
  },
  {
   "cell_type": "markdown",
   "id": "d06f7df5",
   "metadata": {},
   "source": [
    "### K-Fold Cross Validation"
   ]
  },
  {
   "cell_type": "markdown",
   "id": "10675fc1",
   "metadata": {},
   "source": [
    "### Leave-One-Out Cross Validation"
   ]
  },
  {
   "cell_type": "markdown",
   "id": "5e911602",
   "metadata": {},
   "source": [
    "# Models "
   ]
  },
  {
   "cell_type": "markdown",
   "id": "67e3591f",
   "metadata": {},
   "source": [
    "The models will be included in this study are: \n",
    "\n",
    "DT, RF, SVM, AB, LDA and kNN. \n",
    "\n",
    "Completed: LDA, RF, SVM, AB, DT, kNN \n",
    "\n",
    "Incomplete: NaN "
   ]
  },
  {
   "cell_type": "markdown",
   "id": "ffc9b03e",
   "metadata": {},
   "source": [
    "## Linear Discriminant Analysis"
   ]
  },
  {
   "cell_type": "code",
   "execution_count": 62,
   "metadata": {},
   "outputs": [
    {
     "name": "stdout",
     "output_type": "stream",
     "text": [
      "--- 0.05635404586791992 seconds ---\n"
     ]
    },
    {
     "data": {
      "text/plain": [
       "<Figure size 640x480 with 0 Axes>"
      ]
     },
     "metadata": {},
     "output_type": "display_data"
    },
    {
     "data": {
      "image/png": "[encoded data removed]",
      "text/plain": [
       "<Figure size 640x480 with 1 Axes>"
      ]
     },
     "metadata": {},
     "output_type": "display_data"
    }
   ],
   "source": [
    "start_time = time()\n",
    "lda_baseline_acc = run_lda(X_train, X_test, y_train, y_test)\n",
    "lda_coefs = lda_baseline_acc['FI']\n",
    "print(\"--- %s seconds ---\" % (time() - start_time))\n",
    "\n",
    "lda_importances = pd.Series(abs(lda_coefs[0]), index=features).sort_values(ascending=False)\n",
    "\n",
    "\n",
    "# Sort the feature importances in descending order and select the top 5\n",
    "top_5_importances = lda_importances.sort_values(ascending=False).head(7)\n",
    "plt.figure()\n",
    "fig, ax = plt.subplots()\n",
    "top_5_importances.plot.bar(ax=ax)\n",
    "ax.set_title(\"Feature importances for LDA (Top 7 Features)\")\n",
    "#ax.set_ylabel(\"Mean decrease in impurity\")\n",
    "fig.tight_layout()\n",
    "ax.set_xticklabels(top_5_importances.index, rotation=45)\n",
    "plt.show()"
   ]
  },
  {
   "cell_type": "markdown",
   "id": "d0637984",
   "metadata": {},
   "source": [
    "### Feature Importance (Top 20)"
   ]
  },
  {
   "cell_type": "markdown",
   "id": "0e58bc21",
   "metadata": {},
   "source": [
    "## Random Forest Classifier"
   ]
  },
  {
   "cell_type": "code",
   "execution_count": 53,
   "metadata": {},
   "outputs": [
    {
     "name": "stdout",
     "output_type": "stream",
     "text": [
      "--- 0.46640872955322266 seconds ---\n"
     ]
    },
    {
     "data": {
      "text/plain": [
       "<Figure size 640x480 with 0 Axes>"
      ]
     },
     "metadata": {},
     "output_type": "display_data"
    },
    {
     "data": {
      "image/png": "[encoded data removed]",
      "text/plain": [
       "<Figure size 640x480 with 1 Axes>"
      ]
     },
     "metadata": {},
     "output_type": "display_data"
    }
   ],
   "source": [
    "start_time = time()\n",
    "rf_baseline_acc = run_rf(X_train, X_test, y_train, y_test)\n",
    "importances = rf_baseline_acc['FI']\n",
    "features = df.drop('label', axis=1).columns\n",
    "forest_importances = pd.Series(importances, index=features).sort_values(ascending=False)\n",
    "#print(forest_importances)\n",
    "print(\"--- %s seconds ---\" % (time() - start_time))\n",
    "\n",
    "# Sort the feature importances in descending order and select the top 5\n",
    "top_5_importances = forest_importances.sort_values(ascending=False).head(7)\n",
    "plt.figure()\n",
    "fig, ax = plt.subplots()\n",
    "top_5_importances.plot.bar(ax=ax)\n",
    "ax.set_title(\"Feature importances for RF (Top 7 Features)\")\n",
    "#ax.set_ylabel(\"Mean decrease in impurity\")\n",
    "fig.tight_layout()\n",
    "ax.set_xticklabels(top_5_importances.index, rotation=45)\n",
    "plt.show()"
   ]
  },
  {
   "cell_type": "markdown",
   "id": "a44af091",
   "metadata": {},
   "source": [
    "### Feature Importance (Top 20)"
   ]
  },
  {
   "cell_type": "markdown",
   "id": "14d21bf1",
   "metadata": {},
   "source": [
    "fig, ax = plt.subplots(figsize=(12, 5))\n",
    "forest_importances[:20].plot.barh(ax=ax)\n",
    "ax.set_title(\"Feature importances using MDI\")\n",
    "ax.set_ylabel(\"Mean decrease in impurity\")\n",
    "fig.tight_layout()"
   ]
  },
  {
   "cell_type": "markdown",
   "id": "ac1af563",
   "metadata": {},
   "source": [
    "## Support Vector Machine"
   ]
  },
  {
   "cell_type": "markdown",
   "id": "7dd5e3e0",
   "metadata": {},
   "source": [
    "### Linear SVM"
   ]
  },
  {
   "cell_type": "code",
   "execution_count": 54,
   "id": "0416733b",
   "metadata": {},
   "outputs": [
    {
     "name": "stdout",
     "output_type": "stream",
     "text": [
      "--- 11.024158239364624 seconds ---\n"
     ]
    },
    {
     "data": {
      "text/plain": [
       "<Figure size 640x480 with 0 Axes>"
      ]
     },
     "metadata": {},
     "output_type": "display_data"
    },
    {
     "data": {
      "image/png": "[encoded data removed]",
      "text/plain": [
       "<Figure size 640x480 with 1 Axes>"
      ]
     },
     "metadata": {},
     "output_type": "display_data"
    }
   ],
   "source": [
    "# measure time to run\n",
    "\n",
    "start_time = time()\n",
    "svm_baseline_acc = run_svm(X_train, X_test, y_train, y_test)\n",
    "print(\"--- %s seconds ---\" % (time() - start_time))\n",
    "perm_importance = svm_baseline_acc['FI']\n",
    "\n",
    "#svm2_baseline_acc = run_svm(\n",
    "#    X_train, X_test, y_train, y_test, C=0.9\n",
    "#)  # linear svm lambda 2\n",
    "\n",
    "svm_importances = pd.Series(perm_importance.importances_mean, index=features).sort_values(ascending=False)\n",
    "top_5_importances = svm_importances.sort_values(ascending=False).head(7)\n",
    "plt.figure()\n",
    "fig, ax = plt.subplots()\n",
    "top_5_importances.plot.bar(ax=ax)\n",
    "ax.set_title(\"Feature importances for SVM (Top 7 Features)\")\n",
    "fig.tight_layout()\n",
    "ax.set_xticklabels(top_5_importances.index, rotation=45)\n",
    "plt.show()"
   ]
  },
  {
   "cell_type": "markdown",
   "id": "1434fc1f",
   "metadata": {},
   "source": [
    "## Adaboost "
   ]
  },
  {
   "cell_type": "code",
   "execution_count": 58,
   "id": "fdd38445",
   "metadata": {},
   "outputs": [
    {
     "data": {
      "text/plain": [
       "<Figure size 640x480 with 0 Axes>"
      ]
     },
     "metadata": {},
     "output_type": "display_data"
    },
    {
     "data": {
      "image/png": "[encoded data removed]",
      "text/plain": [
       "<Figure size 640x480 with 1 Axes>"
      ]
     },
     "metadata": {},
     "output_type": "display_data"
    },
    {
     "name": "stdout",
     "output_type": "stream",
     "text": [
      "--- 0.989433765411377 seconds ---\n"
     ]
    }
   ],
   "source": [
    "# measure time to run\n",
    "\n",
    "start_time = time()\n",
    "ab_baseline = run_ab(X_train, X_test, y_train, y_test)\n",
    "\n",
    "ab_importances = pd.Series(ab_baseline['FI'], index=features).sort_values(ascending=False)\n",
    "top_5_importances = ab_importances.sort_values(ascending=False).head(7)\n",
    "plt.figure()\n",
    "fig, ax = plt.subplots()\n",
    "top_5_importances.plot.bar(ax=ax)\n",
    "ax.set_title(\"Feature importances for AB (Top 7 Features)\")\n",
    "fig.tight_layout()\n",
    "ax.set_xticklabels(top_5_importances.index, rotation=45)\n",
    "plt.show()\n",
    "\n",
    "print(\"--- %s seconds ---\" % (time() - start_time))"
   ]
  },
  {
   "cell_type": "markdown",
   "metadata": {},
   "source": [
    "## Xgboost "
   ]
  },
  {
   "cell_type": "code",
   "execution_count": 59,
   "metadata": {},
   "outputs": [
    {
     "name": "stdout",
     "output_type": "stream",
     "text": [
      "--- 0.30976176261901855 seconds ---\n"
     ]
    },
    {
     "data": {
      "text/plain": [
       "<Figure size 640x480 with 0 Axes>"
      ]
     },
     "metadata": {},
     "output_type": "display_data"
    },
    {
     "data": {
      "image/png": "[encoded data removed]",
      "text/plain": [
       "<Figure size 640x480 with 1 Axes>"
      ]
     },
     "metadata": {},
     "output_type": "display_data"
    }
   ],
   "source": [
    "# measure time to run\n",
    "\n",
    "start_time = time()\n",
    "xgb_baseline = run_xgb(X_train, X_test, y_train, y_test)\n",
    "print(\"--- %s seconds ---\" % (time() - start_time))\n",
    "#print('decision tree baseline accuracy: ' + str(xgb_baseline))\n",
    "\n",
    "xgb_importances = pd.Series(xgb_baseline['FI'], index=features).sort_values(ascending=False)\n",
    "top_5_importances = xgb_importances.sort_values(ascending=False).head(7)\n",
    "plt.figure()\n",
    "fig, ax = plt.subplots()\n",
    "top_5_importances.plot.bar(ax=ax)\n",
    "ax.set_title(\"Feature importances for XGB (Top 7 Features)\")\n",
    "fig.tight_layout()\n",
    "ax.set_xticklabels(top_5_importances.index, rotation=45)\n",
    "plt.show()\n"
   ]
  },
  {
   "cell_type": "markdown",
   "id": "a528f305",
   "metadata": {},
   "source": [
    "## Decision Tree "
   ]
  },
  {
   "cell_type": "code",
   "execution_count": 60,
   "id": "09ac84a8",
   "metadata": {},
   "outputs": [
    {
     "name": "stdout",
     "output_type": "stream",
     "text": [
      "--- 0.09073352813720703 seconds ---\n"
     ]
    },
    {
     "data": {
      "text/plain": [
       "<Figure size 640x480 with 0 Axes>"
      ]
     },
     "metadata": {},
     "output_type": "display_data"
    },
    {
     "data": {
      "image/png": "[encoded data removed]",
      "text/plain": [
       "<Figure size 640x480 with 1 Axes>"
      ]
     },
     "metadata": {},
     "output_type": "display_data"
    }
   ],
   "source": [
    "# measure time to run\n",
    "\n",
    "start_time = time()\n",
    "dt_baseline_acc = run_dt(X_train, X_test, y_train, y_test)\n",
    "print(\"--- %s seconds ---\" % (time() - start_time))\n",
    "#print('decision tree baseline accuracy: ' + str(dt_baseline_acc))\n",
    "\n",
    "dt_importances = pd.Series(dt_baseline_acc['FI'], index=features).sort_values(ascending=False)\n",
    "top_5_importances = dt_importances.sort_values(ascending=False).head(7)\n",
    "plt.figure()\n",
    "fig, ax = plt.subplots()\n",
    "top_5_importances.plot.bar(ax=ax)\n",
    "ax.set_title(\"Feature importances for DT (Top 7 Features)\")\n",
    "fig.tight_layout()\n",
    "ax.set_xticklabels(top_5_importances.index, rotation=45)\n",
    "plt.show()\n"
   ]
  },
  {
   "cell_type": "markdown",
   "id": "b32b373f",
   "metadata": {},
   "source": [
    "### Feature Importance (Top 20)"
   ]
  },
  {
   "cell_type": "markdown",
   "id": "5c30a330",
   "metadata": {},
   "source": [
    "## k-Nearest Neighbors "
   ]
  },
  {
   "cell_type": "code",
   "execution_count": 63,
   "id": "bf4d77b8",
   "metadata": {},
   "outputs": [
    {
     "name": "stdout",
     "output_type": "stream",
     "text": [
      "--- 51.42097878456116 seconds ---\n"
     ]
    },
    {
     "data": {
      "text/plain": [
       "<Figure size 640x480 with 0 Axes>"
      ]
     },
     "metadata": {},
     "output_type": "display_data"
    },
    {
     "data": {
      "image/png": "[encoded data removed]",
      "text/plain": [
       "<Figure size 640x480 with 1 Axes>"
      ]
     },
     "metadata": {},
     "output_type": "display_data"
    }
   ],
   "source": [
    "# measure time to run\n",
    "\n",
    "start_time = time()\n",
    "knn_baseline_acc = run_knn(X_train, X_test, y_train, y_test)\n",
    "print(\"--- %s seconds ---\" % (time() - start_time))\n",
    "\n",
    "perm_importance = knn_baseline_acc['FI']\n",
    "knn_importances = pd.Series(perm_importance.importances_mean, index=features).sort_values(ascending=False)\n",
    "top_5_importances = knn_importances.sort_values(ascending=False).head(7)\n",
    "plt.figure()\n",
    "fig, ax = plt.subplots()\n",
    "top_5_importances.plot.bar(ax=ax)\n",
    "ax.set_title(\"Feature importances for kNN (Top 7 Features)\")\n",
    "fig.tight_layout()\n",
    "ax.set_xticklabels(top_5_importances.index, rotation=45)\n",
    "plt.show()\n"
   ]
  },
  {
   "cell_type": "code",
   "execution_count": null,
   "id": "2b1150e2",
   "metadata": {},
   "outputs": [],
   "source": [
    "from fb_code.utils import calculate_binary_metrics\n",
    "\n",
    "knn_f1_bin = calculate_binary_metrics(knn_baseline_acc['Confusion Matrix'])\n",
    "dt_f1_bin = calculate_binary_metrics(dt_baseline_acc['Confusion Matrix'])\n",
    "xgb_f1_bin = calculate_binary_metrics(xgb_baseline['Confusion Matrix'])\n",
    "ab_f1_bin = calculate_binary_metrics(ab_baseline['Confusion Matrix'])\n",
    "svm_f1_bin = calculate_binary_metrics(svm_baseline_acc['Confusion Matrix'])\n",
    "rf_f1_bin = calculate_binary_metrics(rf_baseline_acc['Confusion Matrix'])\n",
    "lda_f1_bin = calculate_binary_metrics(lda_baseline_acc['Confusion Matrix'])\n",
    "\n",
    "print('kNN', round(100*knn_f1_bin,1),'%')\n",
    "print('DT', round(100*dt_f1_bin,1),'%')\n",
    "print('XGB', round(100*xgb_f1_bin,1),'%')\n",
    "print('AB', round(100*ab_f1_bin,1),'%')\n",
    "print('SVM', round(100*svm_f1_bin,1),'%')\n",
    "print('RF', round(100*rf_f1_bin,1),'%')\n",
    "print('LDA', round(100*lda_f1_bin,1),'%')\n"
   ]
  },
  {
   "cell_type": "markdown",
   "id": "014b3084",
   "metadata": {},
   "source": [
    "# Adding Noise"
   ]
  },
  {
   "cell_type": "markdown",
   "id": "0d737390",
   "metadata": {},
   "source": [
    "## Signal to Noise Ratio"
   ]
  },
  {
   "cell_type": "markdown",
   "id": "b099bbe0",
   "metadata": {},
   "source": [
    "For a non-constant signal $S$ and noise $N$, the signal to noise ratio is defined as the following:\n",
    "$$ SNR = \\frac{\\mathbb{E}[S^2]}{\\mathbb{E}[N^2]} $$"
   ]
  },
  {
   "cell_type": "markdown",
   "id": "5d70b232",
   "metadata": {},
   "source": [
    "The expected value $\\mathbb{E}[X]$ of any continuous random variable $X$ is $\\int_{-\\infty}^{\\infty} x p(x) dx $, where $p(x)$ is its associated probability density function."
   ]
  },
  {
   "cell_type": "markdown",
   "id": "3aa6d01d",
   "metadata": {},
   "source": [
    "For homoskedastic noise, we can use closed form expressions to compute $E[N^2]$.\n",
    "\n",
    "- For Gaussian distributed noise $N$ ~ $n(\\mu, \\sigma^2)$, notice that $\\text{V}[N] = \\mathbb{E}[N^2] - (\\mathbb{E}[N])^2,$ so $\\mathbb{E}[N^2] = \\text{V}[N] + (\\mathbb{E}[N])^2 = \\sigma^2 + \\mu$. In our case $\\mu = 0$, so $\\mathbb{E}[N^2] = \\sigma^2$.\n",
    "\n",
    "- For uniformly distributed noise $N$ ~ $u(\\alpha, \\beta)$, by the same logic as above $\\mathbb{E}[N^2] = \\left(\\frac{\\alpha - \\beta}{2}\\right)^2$.\n",
    "\n",
    "- For frequency-domain noise $N$ of the form $A\\sin(2\\pi x \\frac{1}{f}) + y, \\mathbb{E}[N^2] \\approx y^2 + \\frac{A^2}{2}$. Note the $\\approx$ since we cannot guarantee that the signal will end precisely on the end of the sin wave.\n",
    "\n",
    "For heteroskedastic noise, because there is no closed form expression, we simply take `N.mean()` where $N$ is our noise"
   ]
  },
  {
   "cell_type": "markdown",
   "id": "ccd0cc25",
   "metadata": {},
   "source": [
    "## Denoising Using Principal Component Analysis"
   ]
  },
  {
   "cell_type": "markdown",
   "id": "6d92c4d9",
   "metadata": {},
   "source": [
    "Let $X$ represent our set of physiological signals and $\\textbf{x}_i$ denote the *i*-th column of $X$. In our case, $\\textbf{x}_i$ is one of the ECG, BVP, EDA, ACC, etc. The post-noise signal we observe $\\textbf{x}_i = \\widetilde{\\textbf{x}}_i + \\xi_i$ is composed of the original raw signal and Gaussian distributed noise with $\\mathbb{E}[\\xi] = 0$ and $V[\\xi] = E[N^2] = \\sigma^2 = \\frac{\\mathbb{E}[S^2]}{SNR}$. Literature has indicated that a principal component analysis of $\\textbf{x}_i$ can produce an estimate of $\\widetilde{\\textbf{x}}_i$ that is closer than the noisy measurements are (citation needed)."
   ]
  },
  {
   "cell_type": "markdown",
   "id": "f542fdb4",
   "metadata": {},
   "source": [
    "## Calculate Distribution Parameters from SNR"
   ]
  },
  {
   "cell_type": "markdown",
   "id": "bebb7d2c",
   "metadata": {},
   "source": [
    "Given a signal $S$, we can specify a signal to noise ratio $SNR = \\frac{\\mathbb{E}[S^2]}{\\mathbb{E}[N^2]}$ and use this to calculate $\\mathbb{E}[N^2]$ because $SNR$ and $\\mathbb{E}[S^2]$ are known. So $\\mathbb{E}[N^2] = \\frac{\\mathbb{E}[S^2]}{SNR}$.\n",
    "\n",
    "Then, for any homoskedastic noise following a well-defined probability density function (PDF), we can solve for the parameters of the PDF using the known value $\\mathbb{E}[N^2]$.\n",
    "\n",
    "- For Gaussian distributed noise $N$ ~ $n(\\mu, \\sigma^2)$, notice that $\\text{V}[N] = \\mathbb{E}[N^2] - (\\mathbb{E}[N])^2,$ so $\\mathbb{E}[N^2] = \\text{V}[N] + (\\mathbb{E}[N])^2 = \\sigma^2 + \\mu$. In our case $\\mu = 0$, so $\\mathbb{E}[N^2] = \\sigma^2$. Thus, $\\sigma^2 = \\frac{\\mathbb{E}[S^2]}{SNR}$."
   ]
  },
  {
   "cell_type": "markdown",
   "id": "3819be01",
   "metadata": {},
   "source": [
    "## Gaussian Noise"
   ]
  },
  {
   "cell_type": "markdown",
   "id": "99319416",
   "metadata": {},
   "source": [
    "The Gaussian probability density function is of the following form:\n",
    "\\begin{equation}\n",
    "f(x) = \\frac{1}{\\sigma \\sqrt{2 \\pi}}exp\\left(-\\frac{1}{2}\\left(\\frac{x-\\mu}{\\sigma}\\right)^2\\right)\n",
    "\\end{equation}"
   ]
  },
  {
   "cell_type": "markdown",
   "id": "a4198cb0",
   "metadata": {},
   "source": [
    "### Estimating $\\mu$ and $\\sigma$ of the Gaussian"
   ]
  },
  {
   "cell_type": "markdown",
   "id": "1330a231",
   "metadata": {},
   "source": [
    "#### Greatest $n$-Differential with Homoskedasticity Approach"
   ]
  },
  {
   "cell_type": "markdown",
   "id": "e6a4116e",
   "metadata": {},
   "source": [
    "For a signal $S$, the greatest $n$-differential with homoskedasticity approach constructs a Gaussian distribution such that $\\mu$ = 0 and $\\sigma = \\alpha \\cdot max(|S_i - S_{i+n}|)$, where $max(|S_i - S_{i+n}|)$ denotes the maximum absolute difference of the signal between index $i$ and $i+n$ in the entire signal, and $\\alpha$ is a parameter that multiplicatively scales the intensity of the added noise. We can choose to set $n$ to any value, although we have empirically found $n = 5$ to be the best. We set $\\mu$ to $0$ so we don't vertically shift the original signal after adding noise. \n",
    "\n",
    "In conclusion, we randomly sample from the following probability density function:\n",
    "$$\n",
    "f(x) = \\frac{1}{\\alpha \\cdot max(|S_i - S_{i+n}|) \\sqrt{2 \\pi}}exp\\left(-\\frac{1}{2}\\left(\\frac{x}{\\alpha \\cdot max(|S_i - S_{i+n}|)}\\right)^2\\right)\n",
    "$$\n",
    "\n",
    "This noise exhbits homoskedasticity because it does not vary with time."
   ]
  },
  {
   "cell_type": "markdown",
   "id": "5ca5a055",
   "metadata": {
    "scrolled": true
   },
   "source": [
    "fig, axs = plt.subplots(nrows=1, ncols=5, figsize=(16,4))\n",
    "axs[0].plot(np.ravel(patients_new_noise1[0]['signal']['chest']['Resp']))\n",
    "axs[0].set_title('SNR: 0.01')\n",
    "axs[1].plot(np.ravel(patients_new_noise2[0]['signal']['chest']['Resp']))\n",
    "axs[1].set_title('SNR: 0.05')\n",
    "axs[2].plot(np.ravel(patients_new_noise3[0]['signal']['chest']['Resp']))\n",
    "axs[2].set_title('SNR: 0.1')\n",
    "axs[3].plot(np.ravel(patients_new_noise4[0]['signal']['chest']['Resp']))\n",
    "axs[3].set_title('SNR: 0.2')\n",
    "axs[4].plot(np.ravel(patients_new_noise5[0]['signal']['chest']['Resp']))\n",
    "axs[4].set_title('SNR: 0.5')"
   ]
  },
  {
   "cell_type": "markdown",
   "id": "38022334",
   "metadata": {},
   "source": [
    "# Data Preparation (pt. 2)"
   ]
  },
  {
   "cell_type": "markdown",
   "id": "4ce48d1c",
   "metadata": {},
   "source": [
    "Prepare the data again, this time with the noisy data"
   ]
  },
  {
   "cell_type": "code",
   "execution_count": 64,
   "id": "e5b8073b",
   "metadata": {},
   "outputs": [],
   "source": [
    "# snrs = [0.00001, 0.0001,  0.001, 0.01, 0.05, 0.1, 0.15, 0.2, 0.3, 0.4, 0.5, 0.6] # this is biggest list we'd need\n",
    "snrs = [\n",
    "    0.0001,\n",
    "    0.001,\n",
    "    0.01,\n",
    "    0.05,\n",
    "    0.1,\n",
    "    0.15,\n",
    "    0.2,\n",
    "    0.3,\n",
    "    0.4,\n",
    "    0.5,\n",
    "    0.6,\n",
    "]  # this is what we ran #0.00001,\n",
    "n_samples = 10  # number of samples taken per SNR\n",
    "subject_feature_path = '/subject_feats'\n",
    "n_samples = 10\n",
    "subject_ids = [2, 3, 4, 5, 6, 7, 8, 9, 10, 11, 13, 14, 15, 16, 17]\n",
    "fb_model_list = ['DT', 'RF', 'LDA', 'KNN', 'AB', 'SVM', 'XGB']\n",
    "cases = ['WESAD', 'GN-WESAD', 'PR-WESAD']"
   ]
  },
  {
   "cell_type": "markdown",
   "id": "afbb3726",
   "metadata": {},
   "source": [
    "# Modeling (pt. 2)"
   ]
  },
  {
   "cell_type": "markdown",
   "id": "3a99893b",
   "metadata": {},
   "source": [
    "Model again, this time with the noisy data"
   ]
  },
  {
   "cell_type": "code",
   "execution_count": null,
   "id": "4c3e98e9",
   "metadata": {},
   "outputs": [],
   "source": [
    "features = df.loc[:, df.columns != 'label'].columns"
   ]
  },
  {
   "cell_type": "markdown",
   "id": "5973d694",
   "metadata": {},
   "source": [
    "# Compare Results"
   ]
  },
  {
   "cell_type": "markdown",
   "id": "f96f4551",
   "metadata": {},
   "source": [
    "Compare the results of the noisy data models and the clean data models"
   ]
  },
  {
   "cell_type": "markdown",
   "id": "dafb53c5",
   "metadata": {},
   "source": [
    "- Plots of SNR (x-axis) vs. accuracy (y-axis)\n",
    "- Compare feature importances across different noise regimes\n",
    "    - Develop dynamic evaluation method based on original feature importance / added noise"
   ]
  },
  {
   "cell_type": "markdown",
   "id": "bb7a0de9",
   "metadata": {},
   "source": [
    "## Test Each Model Architecture"
   ]
  },
  {
   "cell_type": "code",
   "execution_count": null,
   "id": "8f10e7da",
   "metadata": {
    "scrolled": true
   },
   "outputs": [],
   "source": [
    "# read data\n",
    "gn_wesad_day = '2023-11-13'\n",
    "e2e_model_list = ['LSTM', 'CNN', 'GRU', 'RNN']  # placeholder for now\n",
    "cases = ['WESAD', 'GN-WESAD', 'PR-WESAD']"
   ]
  },
  {
   "cell_type": "markdown",
   "metadata": {},
   "source": [
    "results_table = pd.DataFrame(columns=['SNR', 'Accuracy', 'F1-Score',\n",
    "                                          'dataset', 'n_i', 'noise gen function',\n",
    "                                          'Precision', 'Recall','Model'])\n",
    "print(type(results_table))\n",
    "\n",
    "results_table = pd.concat([results_table, pd.Series({'SNR' : 'N / A',\n",
    "                                                'Accuracy' : 0,\n",
    "                                                'F1 Score' : 0,\n",
    "                                                'dataset': 'WESAD',\n",
    "                                                'n_i': 0, \n",
    "                                                'noise gen function': 'None',\n",
    "                                                'Precision': 0,\n",
    "                                                'Recall': 0,\n",
    "                                                'Model': 0})] )\n",
    "j = 0"
   ]
  },
  {
   "cell_type": "code",
   "execution_count": null,
   "metadata": {},
   "outputs": [],
   "source": [
    "logging.basicConfig(\n",
    "    level=logging.INFO, filename='logs/testing.log', filemode='w', force=True\n",
    ")  # remove after testing\n",
    "logging.getLogger().addHandler(logging.StreamHandler())\n",
    "\n",
    "from fb_models import *  # i need this here for testing to reload modules everytime.\n",
    "\n",
    "\n",
    "def gn_wesad_path(n_i, snr):\n",
    "    #loadPath = '/mnt/d/Users/alkurdi/data/GN-WESAD'\n",
    "    # print(f'{loadPath}/n_{n_i}/snr_{snr}{subject_feature_path}/{gn_wesad_day}_feats2.csv')\n",
    "    return (\n",
    "        f'{loadPath_GN}/n_{n_i}/snr_{snr}{subject_feature_path}/{gn_wesad_day}_feats2.csv'\n",
    "    )\n",
    "\n",
    "\n",
    "def e2e_model(df, model):\n",
    "    # this is mostly going to be fetching the data.\n",
    "    # maybe check if results are already there. if yes, return them.\n",
    "    # if not, run the model via sbatch script and return the results.\n",
    "    e2e_results_path = '../data/e2e_results'  # this is just a placeholder for now\n",
    "    accuracy = []\n",
    "    precision = []\n",
    "    f1 = []\n",
    "\n",
    "    return {\n",
    "        'accuracy': accuracy,\n",
    "        'precision': precision,\n",
    "        'recall': precision,\n",
    "        'f1_score': f1,\n",
    "    }  # ab_baseline_acc, ab2_baseline_acc, f1\n",
    "\n",
    "\n",
    "def get_model(the_splits, model, n_i, snr):\n",
    "    model_output = {}\n",
    "    logging.info(\n",
    "        'started model: ' + model + ' for SNR: ' + str(snr) + ' n_i: ' + str(n_i)\n",
    "    )\n",
    "    X_train, X_test, y_train, y_test = the_splits\n",
    "    if model == 'SVM':\n",
    "        model_output = run_svm(X_train, X_test, y_train, y_test)\n",
    "    elif model == 'KNN':\n",
    "        model_output = run_knn(X_train, X_test, y_train, y_test)\n",
    "    elif model == 'DT':\n",
    "        model_output = run_dt(X_train, X_test, y_train, y_test)\n",
    "    elif model == 'LDA':\n",
    "        model_output = run_lda(X_train, X_test, y_train, y_test)\n",
    "    elif model == 'RF':\n",
    "        model_output = run_rf(X_train, X_test, y_train, y_test)\n",
    "    elif model == 'AB':\n",
    "        model_output = run_ab(X_train, X_test, y_train, y_test)\n",
    "    elif model == 'XGB':\n",
    "        model_output = run_xgb(X_train, X_test, y_train, y_test)\n",
    "    if snr == 'N/A':\n",
    "        dataset = 'WESAD'\n",
    "        n_samples = 1\n",
    "    else:\n",
    "        dataset = 'GN-WESAD'\n",
    "        n_samples = 10\n",
    "    results_table = pd.Series(\n",
    "        {\n",
    "            'SNR': snr,\n",
    "            'Accuracy': model_output['Accuracy'],\n",
    "            'F1 Score': model_output['F1 Score'],\n",
    "            'dataset': dataset,\n",
    "            'n_i': n_i,\n",
    "            'n': n_samples,\n",
    "            'noise gen function': 'Gaussian Noise',\n",
    "            'Precision': model_output['Precision'],\n",
    "            'Recall': model_output['Recall'],\n",
    "            'Model': model,\n",
    "        }\n",
    "    )\n",
    "    classification_report = {\n",
    "        'Classification Report': model_output['Classification Report'],\n",
    "        'id': [snr, n_i, model],\n",
    "    }\n",
    "    confusion_matrix = {\n",
    "        'Confusion Matrix': model_output['Confusion Matrix'],\n",
    "        'id': [snr, n_i, model],\n",
    "    }\n",
    "    logging.info(\n",
    "        'completed model: ' + model + ' for SNR: ' + str(snr) + ' n_i: ' + str(n_i)\n",
    "    )\n",
    "    return results_table, confusion_matrix, classification_report\n",
    "\n",
    "\n",
    "def split_data(df, test_size=0.2, random_state=0):\n",
    "    # split data into features and labels\n",
    "    X = df.drop('label', axis=1).values\n",
    "    y = df['label'].values\n",
    "    X_train, X_test, y_train, y_test = train_test_split(\n",
    "        X, y, test_size=test_size, random_state=random_state\n",
    "    )\n",
    "    return [X_train, X_test, y_train, y_test]\n",
    "\n",
    "\n",
    "def run_wesad_models():\n",
    "    # check if wesad_model_results.csv exists\n",
    "    target_file = (\n",
    "        loadPath +'/wesad_models_results-win60stride1_wcm_wcr_1-12-2024.csv'\n",
    "    )\n",
    "    if os.path.isfile(target_file) and False:\n",
    "        logging.info('WESAD results table found. Loading...')\n",
    "        results_table = pd.read_csv(target_file, index_col=0)\n",
    "        cm_cr_dict = pickle.load(\n",
    "            open(loadPath+'/cm_cr_dict.pickle', 'rb')\n",
    "        )\n",
    "    else:\n",
    "        logging.info('WESAD results table not found. Running models...')\n",
    "        #loadPath = '/mnt/d/Users/alkurdi/data/WESAD'\n",
    "        rel_path = '/subject_feats/WESADfeatures-win60stride10.csv'\n",
    "        df = read_n_reduce(loadPath + rel_path)\n",
    "        # print('features used for fb_models\\n', *df.columns, sep='\\n')\n",
    "        cm_list = []\n",
    "        cr_list = []\n",
    "        results_table = pd.DataFrame(\n",
    "            columns=[\n",
    "                'SNR',\n",
    "                'Accuracy',\n",
    "                'F1 Score',\n",
    "                'dataset',\n",
    "                'n_i',\n",
    "                'n',\n",
    "                'noise gen function',\n",
    "                'Precision',\n",
    "                'Recall',\n",
    "                'Model',\n",
    "            ]\n",
    "        )\n",
    "        print('Initlizing results table...')\n",
    "        the_splits = split_data(df)\n",
    "        for model in fb_model_list:\n",
    "            model_output, cm, classification_report = get_model(\n",
    "                the_splits, model, 1, 'N/A'\n",
    "            )\n",
    "            cm_list.append(cm)\n",
    "            cr_list.append(classification_report)\n",
    "            results_table = results_table.append(model_output, ignore_index=True) # type: ignore\n",
    "        results_table.to_csv(target_file)\n",
    "        cm_cr_dict = {'cm': cm_list, 'cr': cr_list}\n",
    "        with open(loadPath + '/cm_cr_dict.pickle', 'wb') as handle:\n",
    "            pickle.dump(cm_cr_dict, handle, protocol=pickle.HIGHEST_PROTOCOL)\n",
    "        logging.info(\n",
    "            'WESAD models ran and results generated and saved in: ' + target_file\n",
    "        )\n",
    "    return results_table, cm_cr_dict\n",
    "\n",
    "\n",
    "def each_n_snr(n_i, snr):\n",
    "    logging.info('SNR: ' + str(snr) + ' n_i: ' + str(n_i) + ' started.')\n",
    "    cm_list = []\n",
    "    instance_table = pd.DataFrame(\n",
    "        columns=[\n",
    "            'SNR',\n",
    "            'Accuracy',\n",
    "            'F1 Score',\n",
    "            'dataset',\n",
    "            'n_i',\n",
    "            'n',\n",
    "            'noise gen function',\n",
    "            'Precision',\n",
    "            'Recall',\n",
    "            'Model',\n",
    "        ]\n",
    "    )\n",
    "    logging.info('progress: ' + str(i) + '/' + str(n_samples * len(snrs)))\n",
    "    file_path = gn_wesad_path(n_i, snr)\n",
    "    df = read_n_reduce(file_path)\n",
    "    df = df.dropna()\n",
    "    the_splits = split_data(df)\n",
    "    with Pool() as pool:\n",
    "        # run each model for each snr ni pair in parallel\n",
    "        instance_table, classification_report = pool.map(\n",
    "        get_model, zip(the_splits, fb_model_list, [n_i] * len(fb_model_list), [snr] * len(fb_model_list)) # type: ignore\n",
    "        )\n",
    "        pool.close()\n",
    "        \n",
    "            \n",
    "    '''\n",
    "    for model in fb_model_list:\n",
    "        logging.info('started model: '+ model+ ' for SNR: '+ str(snr)+ ' n_i: '+ str(n_i))\n",
    "        model_output, classification_report = get_model(the_splits, model, n_i, snr)\n",
    "        instance_table = instance_table.append(model_output, ignore_index=True)\n",
    "    '''\n",
    "    logging.info('SNR: ' + str(snr) + ' n_i: ' + str(n_i) + ' done.')\n",
    "    return instance_table, classification_report\n",
    "\n",
    "\n",
    "def run_GN_models():\n",
    "    # check if GN wesad_model_results.csv exists\n",
    "    tgt_file = loadPath_GN + '/GN_wesad_models_results_wcm_wcr.csv'\n",
    "    if os.path.isfile(tgt_file):\n",
    "        logging.info('GN-WESAD results table found. Loading...')\n",
    "        results_table = pd.read_csv(tgt_file, index_col=0)\n",
    "        cm_cr_dict = pickle.load(\n",
    "            open(loadPath_GN + '/cm_cr_dict.pickle', 'rb')\n",
    "        )\n",
    "    else:\n",
    "        logging.info('GN-WESAD results table not found. Running models...')\n",
    "        i = 0\n",
    "        cm_list = []\n",
    "        cr_list = []\n",
    "        results_table = pd.DataFrame(\n",
    "            columns=[\n",
    "                'SNR',\n",
    "                'Accuracy',\n",
    "                'F1 Score',\n",
    "                'dataset',\n",
    "                'n_i',\n",
    "                'n',\n",
    "                'noise gen function',\n",
    "                'Precision',\n",
    "                'Recall',\n",
    "                'Model',\n",
    "            ]\n",
    "        )\n",
    "        # the difference mainly between WESAD and GN-WESAD is that GN-WESAD has multiple snrs.\n",
    "        \n",
    "        ##############################\n",
    "        for n_i in range(n_samples):\n",
    "            for snr in snrs:\n",
    "                i += 1\n",
    "                logging.info('progress: ' + str(i) + '/' + str(n_samples * len(snrs)))\n",
    "                file_path = gn_wesad_path(n_i, snr)\n",
    "                df = read_n_reduce(file_path)\n",
    "                df = df.dropna()\n",
    "                df = df.drop(columns=['n_i', 'snr'])\n",
    "                # print('features used for GN fb_models\\n', *df.columns, sep='\\n')\n",
    "                the_splits = split_data(df)\n",
    "                for model in fb_model_list:\n",
    "                    model_output, cm, classification_report = get_model(\n",
    "                        the_splits, model, n_i, snr\n",
    "                    )\n",
    "                    cm_list.append(cm)\n",
    "                    cr_list.append(classification_report)\n",
    "                    results_table = results_table.append(\n",
    "                        model_output, ignore_index=True\n",
    "                    ) # type: ignore\n",
    "                    '''\n",
    "                    results_table = pd.concat([results_table, pd.Series({'SNR' : snr,\n",
    "                                                        'Accuracy' : model_output['Accuracy'],\n",
    "                                                        'F1 Score' : model_output['F1 Score'],\n",
    "                                                        'dataset': 'GN-WESAD',\n",
    "                                                        'n_i': n_i, 'n': n_samples,\n",
    "                                                        'noise gen function': 'Gaussian Noise',\n",
    "                                                        'Precision': model_output['Precision'],\n",
    "                                                        'Recall': model_output['Recall'],\n",
    "                                                        'Model': model})])\n",
    "                    '''\n",
    "        ####################################\n",
    "        results_table.to_csv(tgt_file)\n",
    "        cm_cr_dict = {'cm': cm_list, 'cr': cr_list}\n",
    "        with open(loadPath_GN+'/cm_cr_dict.pickle', 'wb') as handle:\n",
    "            pickle.dump(cm_cr_dict, handle, protocol=pickle.HIGHEST_PROTOCOL)\n",
    "        logging.info(\n",
    "            'GN-WESAD models ran and results generated and saved in: ' + tgt_file\n",
    "        )\n",
    "    return results_table, cm_cr_dict"
   ]
  },
  {
   "cell_type": "code",
   "execution_count": null,
   "metadata": {},
   "outputs": [],
   "source": [
    "# For each case of the study to noise ratio\n",
    "for case in cases:\n",
    "    if case == 'WESAD':\n",
    "        logging.info('Running WESAD case...')\n",
    "        WESAD_model_results, wesad_cm_cr_dict = run_wesad_models()\n",
    "    if case == 'GN-WESAD':\n",
    "        logging.info('Running GN-WESAD case...')\n",
    "        GN_model_results, gn_cm_cr_dict = run_GN_models()\n",
    "    if case == 'PR-WESAD':\n",
    "        logging.info('Running PR-WESAD case...')\n",
    "        #loadPath = '/mnt/d/Users/alkurdi/data/PR-WESAD'\n",
    "logging.info('Done running models. Generating results table...')"
   ]
  },
  {
   "cell_type": "markdown",
   "metadata": {},
   "source": [
    "## Ammend results with Binary F1 score"
   ]
  },
  {
   "cell_type": "code",
   "execution_count": null,
   "metadata": {},
   "outputs": [],
   "source": [
    "# class 2 is stress in WESAD for the FB models. \n",
    "gn_cm_cr_dict['cm']"
   ]
  },
  {
   "cell_type": "code",
   "execution_count": null,
   "metadata": {},
   "outputs": [],
   "source": [
    "GN_model_results"
   ]
  },
  {
   "cell_type": "code",
   "execution_count": null,
   "metadata": {},
   "outputs": [],
   "source": [
    "from fb_code.utils import  *\n",
    "\n",
    "wesad_results, gn_wesad_results = ammend_results_table(GN_model_results, gn_cm_cr_dict,\n",
    "                                                       WESAD_model_results, wesad_cm_cr_dict,\n",
    "                                                       cases)"
   ]
  },
  {
   "cell_type": "code",
   "execution_count": null,
   "metadata": {},
   "outputs": [],
   "source": [
    "wesad_results"
   ]
  },
  {
   "cell_type": "code",
   "execution_count": null,
   "metadata": {},
   "outputs": [],
   "source": [
    "gn_wesad_results"
   ]
  },
  {
   "cell_type": "code",
   "execution_count": null,
   "metadata": {},
   "outputs": [],
   "source": [
    "wesad_results['noise gen function'] = 'None'  #'noise gen function']\n",
    "gn_wesad_results['Binary F1'] = gn_wesad_results['Binary F1'].astype(float)"
   ]
  },
  {
   "cell_type": "markdown",
   "metadata": {},
   "source": [
    "## Exploring GN cases for E2E models \n",
    "\n",
    "After finding the results generated on the traditional ML models, we need to peform further refinmenet due to the significant cost related to running E2E models. Therefore, we would like to run minimal amounts of runs for with smallest n possible and and fewer snrs as possible. Picking the snrs from the plots was not difficult. The 3 snrs will be ran for the E2E models are going to be for the a snr where performance tanks, snr with performance is still good but impact is starting to be clear, and another snr in between both sides. These 3 snrs are: [0.01, .15, 0.4]. \n",
    "The next step is to evaluate how much difference has been observed when FB-ML algorithms were deployed. To do that, we need to see if there is a significant variance between the different samples for each of the 10 snrs, we ran. A box plot, or violin plot would be ideal for this task to exentuate the intra-sample difference. "
   ]
  },
  {
   "cell_type": "code",
   "execution_count": null,
   "metadata": {},
   "outputs": [],
   "source": [
    "wesad_results"
   ]
  },
  {
   "cell_type": "code",
   "execution_count": null,
   "metadata": {},
   "outputs": [],
   "source": [
    "import seaborn as sns\n",
    "\n",
    "sns.set_theme(style='whitegrid')\n",
    "sns.set_context('paper')\n",
    "sns.set(font_scale=1)\n",
    "sns.violinplot(\n",
    "    x='Model',\n",
    "    y='Binary F1',\n",
    "    #hue='',\n",
    "    data=gn_wesad_results,\n",
    "    palette='Set3',\n",
    "    linewidth = 2,\n",
    "    width=2,\n",
    "    \n",
    ")\n",
    "#make plot wider\n",
    "plt.title('Violin Plot of F1 Scores for GN-WESAD');"
   ]
  },
  {
   "cell_type": "markdown",
   "metadata": {},
   "source": [
    "The spread looks great for kNN but DT and SVM perform better on the higher end with tigher grouping. so it would be more appropriate to dig in deeper to learn more about their behaviours. So let's break the same data down across SNRS instead models. \n",
    "\n",
    "Below we can see the result of that. "
   ]
  },
  {
   "cell_type": "code",
   "execution_count": null,
   "metadata": {},
   "outputs": [],
   "source": [
    "import seaborn as sns\n",
    "\n",
    "sns.set_theme(style='whitegrid')\n",
    "sns.set_context('paper')\n",
    "sns.set(font_scale=1)\n",
    "sns.violinplot(\n",
    "    x='SNR',\n",
    "    y='Binary F1',\n",
    "    #hue='Model',\n",
    "    data=gn_wesad_results,\n",
    "    palette='Set3',\n",
    "    linewidth = 2,\n",
    "    width=2.5,\n",
    "    legend = 'full'\n",
    ")\n",
    "#make plot wider\n",
    "plt.ylim([.5,1.05])\n",
    "plt.title('Violin Plot of F1 Scores for GN-WESAD');\n",
    "\n",
    "plt.figure(figsize=(12, 8))\n",
    "import seaborn as sns\n",
    "\n",
    "sns.set_theme(style='whitegrid')\n",
    "sns.set_context('paper')\n",
    "sns.set(font_scale=1)\n",
    "sns.violinplot(\n",
    "    x='SNR',\n",
    "    y='Binary F1',\n",
    "    hue='Model',\n",
    "    data=gn_wesad_results,\n",
    "    palette='Set3',\n",
    "    linewidth = 1.5,\n",
    "    width=2.5,\n",
    "    legend = 'full'\n",
    ")\n",
    "#make plot wider\n",
    "plt.ylim([.5,1.05])\n",
    "\n",
    "plt.title('Violin Plot of F1 Scores for GN-WESAD');\n",
    "\n",
    "#make plot wider\n",
    "\n",
    "\n",
    "plt.figure(figsize=(12, 8))\n",
    "import seaborn as sns\n",
    "\n",
    "sns.set_theme(style='whitegrid')\n",
    "sns.set_context('paper')\n",
    "sns.set(font_scale=1)\n",
    "sns.violinplot(\n",
    "    x='SNR',\n",
    "    y='Binary F1',\n",
    "    #hue='Model',\n",
    "    data=gn_wesad_results[gn_wesad_results['Model'] != 'AB' ],\n",
    "    palette='Set3',\n",
    "    linewidth = 1.5,\n",
    "    width=1,\n",
    "    legend = 'full'\n",
    ")\n",
    "#make plot wider\n",
    "plt.ylim([.5,1.05])\n",
    "\n",
    "plt.title('Violin Plot of F1 Scores for GN-WESAD');\n",
    "\n",
    "#make plot wider\n",
    "\n",
    "\n",
    "\n"
   ]
  },
  {
   "cell_type": "markdown",
   "metadata": {},
   "source": [
    "Initially we see interesting behaviour. For some reason, the performance of the model is lower on average, in low noise, than with moderate noise, and then it gets worse, expectedly, as higher noise is added. This is not what we expected. We expected the model to perform better with less noise. This is not the case. We will investigate this further. I expect the culprit is AB, so i will isolate, and also breakdown the violens into smaller ones. And from the second and 3rd figure, what expect is indeed what we see from the data and removing AB shows better behavrious. \n",
    "\n",
    "It would be reasonable to assume that performance from 1 gaussian noise function to another, the variation is not significant, which is also shown by the p-value being 1 across all combinations, which is a strong evidence that the mean performances are indeed what they are, instead of being random. \n",
    "\n",
    "Just to confirm, I will, finally, plot another figure slicing across the sample sizes to see how the data is distributed. "
   ]
  },
  {
   "cell_type": "code",
   "execution_count": null,
   "metadata": {},
   "outputs": [],
   "source": [
    "import seaborn as sns\n",
    "\n",
    "sns.set_theme(style='whitegrid')\n",
    "sns.set_context('paper')\n",
    "sns.set(font_scale=1)\n",
    "sns.violinplot(\n",
    "    x='n_i',\n",
    "    y='Binary F1',\n",
    "    #hue='',\n",
    "    data=gn_wesad_results,\n",
    "    palette='Set3',\n",
    "    linewidth = 2,\n",
    "    width=2,\n",
    "    \n",
    ")\n",
    "#make plot wider\n",
    "plt.ylim([.5,1.05])\n",
    "plt.title('Violin Plot of F1 Scores for GN-WESAD');\n",
    "\n",
    "plt.figure()\n",
    "sns.set_theme(style='whitegrid')\n",
    "sns.set_context('paper')\n",
    "sns.set(font_scale=1)\n",
    "sns.violinplot(\n",
    "    x='n_i',\n",
    "    y='Binary F1',\n",
    "    #hue='',\n",
    "    data=gn_wesad_results[gn_wesad_results['Model'] != 'AB' ],\n",
    "    palette='Set3',\n",
    "    linewidth = 2,\n",
    "    width=2,\n",
    "    \n",
    ")\n",
    "#make plot wider\n",
    "plt.ylim([.5,1.05])\n",
    "\n",
    "plt.title('Violin Plot of F1 Scores for GN-WESAD');\n",
    "\n"
   ]
  },
  {
   "cell_type": "code",
   "execution_count": null,
   "metadata": {},
   "outputs": [],
   "source": [
    "import seaborn as sns\n",
    "plt.figure(figsize=(20, 4))\n",
    "\n",
    "sns.set_theme(style='whitegrid')\n",
    "sns.set_context('paper')\n",
    "sns.set(font_scale=1)\n",
    "sns.violinplot(\n",
    "    x='n_i',\n",
    "    y='Binary F1',\n",
    "    hue='Model',\n",
    "    data=gn_wesad_results,\n",
    "    palette='Set3',\n",
    "    linewidth = .3,\n",
    "    #width=1.3,\n",
    "    \n",
    ")\n",
    "#make plot wider\n",
    "\n",
    "plt.ylim([.5,1.05])\n",
    "plt.title('Violin Plot of F1 Scores for GN-WESAD');\n",
    "plt.savefig('out.eps', format='eps', dpi=1200)\n",
    "\n",
    "\n",
    "import seaborn as sns\n",
    "plt.figure(figsize=(20, 4))\n",
    "\n",
    "sns.set_theme(style='whitegrid')\n",
    "sns.set_context('paper')\n",
    "sns.set(font_scale=1)\n",
    "sns.violinplot(\n",
    "    x='n_i',\n",
    "    y='Binary F1',\n",
    "    hue='SNR',\n",
    "    data=gn_wesad_results,\n",
    "    palette='Set3',\n",
    "    linewidth = .3,\n",
    "    #width=1.3,\n",
    "    \n",
    ")\n",
    "#make plot wider\n",
    "\n",
    "plt.ylim([.5,1.05])\n",
    "plt.title('Violin Plot of F1 Scores for GN-WESAD');\n",
    "plt.savefig('out.eps', format='eps', dpi=1200)\n"
   ]
  },
  {
   "cell_type": "code",
   "execution_count": null,
   "metadata": {},
   "outputs": [],
   "source": [
    "sns.set_theme(style='whitegrid')\n",
    "sns.set_context('paper')\n",
    "sns.set(font_scale=1)\n",
    "sns.scatterplot(\n",
    "    x='SNR',\n",
    "    y='F1 Score',\n",
    "    hue='n_i',\n",
    "    data=gn_wesad_results[gn_wesad_results['Model'] == 'KNN' ],\n",
    "    palette='Set3',\n",
    "    #linewidth = 2,\n",
    "    #width=2.5,\n",
    "    #legend = 'full'\n",
    ")\n",
    "#make plot wider\n",
    "#plt.ylim([.5,1.05])\n",
    "\n",
    "plt.title('Violin Plot of F1 Scores for GN-WESAD');"
   ]
  },
  {
   "cell_type": "markdown",
   "metadata": {},
   "source": [
    "# What about Specificity?  \n",
    "\n",
    "While the F1 Score provides a balance between precision and recall for the positive class, specificity solely measures the accuracy of predictions for the negative class. Both are important for understanding different aspects of a classification model's performance.\n",
    "\n",
    "\n",
    "\n",
    "\n",
    "$$ F1 = 2 \\times \\frac{Precision \\times Recall}{Precision + Recall} $$\n",
    "$$ Specificity_i = \\frac{TN_i}{TN_i + FP_i} $$\n",
    "$$ TN_i = \\sum_{j=1}^{N} \\sum_{k=1}^{N} matrix[j][k] \\quad \\text{for} \\quad j \\neq i \\quad \\text{and} \\quad k \\neq i $$\n",
    "$$ FP_i = \\sum_{j=1}^{N} matrix[j][i] \\quad \\text{for} \\quad j \\neq i $$\n",
    "$$ Precision = \\frac{TP}{TP + FP} $$\n",
    "$$ Recall = \\frac{TP}{TP + FN} $$\n",
    "\n",
    "$$ where $$ \n",
    "Performance metric most important for health application is specificity. \n",
    "So let's reframe the discussion with specificity at the center... "
   ]
  },
  {
   "cell_type": "code",
   "execution_count": null,
   "metadata": {},
   "outputs": [],
   "source": [
    "g = sns.pairplot(gn_wesad_results.drop(columns=['n', 'Precision','Recall','Accuracy', 'F1 Score']), height=3.5,hue='Model')\n",
    "g.fig.suptitle('Pairplot of GN-WESAD Results hue= Model', y=1.08)\n",
    "\n",
    "h = sns.pairplot(gn_wesad_results.drop(columns=['n', 'Precision','Recall','Accuracy', 'F1 Score']), height=3.5,hue='SNR')\n",
    "h.fig.suptitle('Pairplot of GN-WESAD Results hue= SNR', y=1.08)\n",
    "\n",
    "i = sns.pairplot(gn_wesad_results.drop(columns=['n', 'Precision','Recall','Accuracy', 'F1 Score']), height=3.5,hue='n_i')\n",
    "i.fig.suptitle('Pairplot of GN-WESAD Results hue= n_i', y=1.08)\n",
    "\n"
   ]
  },
  {
   "cell_type": "code",
   "execution_count": null,
   "metadata": {},
   "outputs": [],
   "source": [
    "# tabulate and plot\n",
    "with open(loadPath + '/cm_cr_dict.pickle', 'rb') as handle:\n",
    "    WESAD_cm_cr_dict = pickle.load(handle)\n",
    "with open(loadPath_GN + '/cm_cr_dict.pickle', 'rb') as handle:\n",
    "    GN_cm_cr_dict = pickle.load(handle)\n",
    "combined_results = pd.concat([WESAD_model_results, GN_model_results])"
   ]
  },
  {
   "cell_type": "code",
   "execution_count": null,
   "id": "d35ed935",
   "metadata": {},
   "outputs": [],
   "source": [
    "combined_results"
   ]
  },
  {
   "cell_type": "code",
   "execution_count": null,
   "metadata": {},
   "outputs": [],
   "source": [
    "if os.path.isfile(loadPath_GN + '/gn_means_df.pickle'):\n",
    "    print('file exists, will load it')\n",
    "    gn_means_df = pd.read_pickle(\n",
    "        loadPath_GN + '/gn_means_df.pickle'\n",
    "    )\n",
    "else:\n",
    "    print('file does not exist, will create it')\n",
    "    gn_means_df = pd.DataFrame(\n",
    "        columns=[\n",
    "            'SNR',\n",
    "            'Accuracy',\n",
    "            'F1 Score',\n",
    "            'dataset',\n",
    "            'n_i',\n",
    "            'n',\n",
    "            'noise gen function',\n",
    "            'Precision',\n",
    "            'Recall',\n",
    "            'Model',\n",
    "        ]\n",
    "    )\n",
    "    for snr in snrs:\n",
    "        for model in fb_model_list:\n",
    "            # display(GN_model_results[GN_model_results['SNR'] == snr][GN_model_results['Model'] == model])\n",
    "            one_case = (\n",
    "                GN_model_results[GN_model_results['SNR'] == snr][\n",
    "                    GN_model_results['Model'] == model\n",
    "                ]\n",
    "                .mean(axis=0)\n",
    "                .rename('mean')\n",
    "            )\n",
    "            one_case_df = one_case.to_frame().T\n",
    "            one_case_df = pd.concat(\n",
    "                [\n",
    "                    one_case_df,\n",
    "                    GN_model_results[GN_model_results['SNR'] == snr][\n",
    "                        GN_model_results['Model'] == model\n",
    "                    ]\n",
    "                    .std(axis=0)\n",
    "                    .rename('std')\n",
    "                    .to_frame()\n",
    "                    .T,\n",
    "                ]\n",
    "            )\n",
    "            one_batch = GN_model_results[GN_model_results['SNR'] == snr][\n",
    "                GN_model_results['Model'] == model\n",
    "            ]\n",
    "            res = stats.ttest_1samp(\n",
    "                one_batch['F1 Score'].values,\n",
    "                one_batch['F1 Score'].mean(),\n",
    "            )\n",
    "            one_case_df['Model'] = model\n",
    "            one_case_df['dataset'] = 'GN-WESAD'\n",
    "            one_case_df['noise gen function'] = 'Gaussian Noise'\n",
    "            one_case_df['n'] = n_samples\n",
    "            one_case_df['SNR'] = snr\n",
    "            one_case_df['p-value'] = res.pvalue\n",
    "            gn_means_df = pd.concat([gn_means_df, one_case_df])\n",
    "            # deep_gn = pd.join(deep_gn, one_case)\n",
    "    gn_means_df.to_pickle(loadPath_GN + '/gn_means_df.pickle')\n",
    "gn_means_df['n'] = gn_means_df['n'].astype(int)\n",
    "# display(gn_means_df)"
   ]
  },
  {
   "cell_type": "code",
   "execution_count": null,
   "metadata": {},
   "outputs": [],
   "source": [
    "ggn_means_df = pd.DataFrame(\n",
    "    columns=[\n",
    "        'SNR',\n",
    "        'Accuracy',\n",
    "        'F1 Score',\n",
    "        'dataset',\n",
    "        'n_i',\n",
    "        'n',\n",
    "        'noise gen function',\n",
    "        'Precision',\n",
    "        'Recall',\n",
    "        'Model',\n",
    "    ]\n",
    ")\n",
    "for snr in snrs:\n",
    "    for model in fb_model_list:\n",
    "        # display(GN_model_results[GN_model_results['SNR'] == snr][GN_model_results['Model'] == model])\n",
    "        one_case = (\n",
    "            GN_model_results[GN_model_results['SNR'] == snr][\n",
    "                GN_model_results['Model'] == model\n",
    "            ]\n",
    "            .mean(axis=0)\n",
    "            .rename('mean')\n",
    "        )\n",
    "        one_case_df = one_case.to_frame().T\n",
    "        one_case_df = pd.concat(\n",
    "            [\n",
    "                one_case_df,\n",
    "                GN_model_results[GN_model_results['SNR'] == snr][\n",
    "                    GN_model_results['Model'] == model\n",
    "                ]\n",
    "                .std(axis=0)\n",
    "                .rename('std')\n",
    "                .to_frame()\n",
    "                .T,\n",
    "            ]\n",
    "        )\n",
    "\n",
    "        one_batch = GN_model_results[GN_model_results['SNR'] == snr][\n",
    "            GN_model_results['Model'] == model\n",
    "        ]\n",
    "        res = stats.ttest_1samp(\n",
    "            one_batch['F1 Score'].values[0:4],\n",
    "            one_batch['F1 Score'].mean(),\n",
    "        )\n",
    "        #print(res.pvalue)\n",
    "        one_case_df['Model'] = model\n",
    "        one_case_df['dataset'] = 'GN-WESAD'\n",
    "        one_case_df['noise gen function'] = 'Gaussian Noise'\n",
    "        one_case_df['n'] = n_samples\n",
    "        one_case_df['SNR'] = snr\n",
    "        one_case_df['p-value'] = res.pvalue\n",
    "        ggn_means_df = pd.concat([ggn_means_df, one_case_df])"
   ]
  },
  {
   "cell_type": "code",
   "execution_count": null,
   "metadata": {},
   "outputs": [],
   "source": [
    "wesad_file_wanted = loadPath + '/wesad_models_results-win60stride1_wbinaryf1.csv'\n",
    "wesad_acc = pd.read_csv(wesad_file_wanted,index_col=0,)"
   ]
  },
  {
   "cell_type": "markdown",
   "id": "d742139d",
   "metadata": {},
   "source": [
    "## Plot SNR vs. Accuracy"
   ]
  },
  {
   "cell_type": "code",
   "execution_count": null,
   "id": "7119a681",
   "metadata": {},
   "outputs": [],
   "source": [
    "import pandas as pd\n",
    "wesad_results.query('`Binary F1` > 0.98')\n"
   ]
  },
  {
   "cell_type": "code",
   "execution_count": null,
   "metadata": {},
   "outputs": [],
   "source": [
    "# subset.loc['mean']\n",
    "# plt.errorbar(x=snrs, y=subset.loc['mean']['Accuracy'], yerr=subset.loc['std']['Accuracy'], fmt='o')\n",
    "wesad_results, gn_wesad_results\n",
    "# now plot same with seaborn\n",
    "sns.set_theme(style=\"whitegrid\")\n",
    "sns.set_palette(\"Set2\")\n",
    "sns.set_context(\"paper\")\n",
    "sns.set(\n",
    "    font_scale=1.2,\n",
    ")\n",
    "sns.set_style(\"ticks\")\n",
    "plt.figure(figsize=(12, 8))\n",
    "ax = sns.lineplot(\n",
    "    x=\"SNR\", y=\"Binary F1\", hue=\"Model\", data=gn_wesad_results, marker='*'\n",
    ")  # .set_title('GN-WESAD')\n",
    "ax.hlines(\n",
    "    y=wesad_results['Accuracy'].max(),\n",
    "    xmin=0,\n",
    "    xmax=0.6,\n",
    "    linestyles='dashed',\n",
    "    color='green',\n",
    ")\n",
    "plt.ylim([.5,1.05])\n",
    "ax.hlines(y=0.7, xmin=0, xmax=0.6, linestyles='dashed', color='red')\n",
    "ax.set_title('F1 Score vs SNR')\n",
    "ax.set_ylim([0.6, 1])\n",
    "ax.set_xlabel('Signal-to-Noise Ratio'), ax.set_ylabel('F1 Score')\n",
    "ax.text(x=0.45, y=0.71, s='weighted guess', color='red', va='center', ha='center')\n",
    "ax.text(x=0.45, y=0.98, s='best model: XGB = 99.4%', color='green', va='center', ha='center')\n",
    "ax.legend(loc='upper left')\n",
    "\n",
    "sns.move_legend(ax, \"upper left\", bbox_to_anchor=(1, 1))\n",
    "\n"
   ]
  },
  {
   "cell_type": "code",
   "execution_count": null,
   "id": "1d288856",
   "metadata": {},
   "outputs": [],
   "source": [
    "# subset.loc['mean']\n",
    "# plt.errorbar(x=snrs, y=subset.loc['mean']['Accuracy'], yerr=subset.loc['std']['Accuracy'], fmt='o')\n",
    "wesad_results, gn_wesad_results\n",
    "# now plot same with seaborn\n",
    "sns.set_theme(style=\"whitegrid\")\n",
    "sns.set_palette(\"Set2\")\n",
    "sns.set_context(\"paper\")\n",
    "sns.set(\n",
    "    font_scale=1.2,\n",
    ")\n",
    "sns.set_style(\"ticks\")\n",
    "plt.figure(figsize=(12, 8))\n",
    "ax = sns.lineplot(\n",
    "    x=\"SNR\", y=\"Specificity\", hue=\"Model\", data=gn_wesad_results, marker='*'\n",
    ")  # .set_title('GN-WESAD')\n",
    "ax.hlines(\n",
    "    y=wesad_results['Accuracy'].max(),\n",
    "    xmin=0,\n",
    "    xmax=0.6,\n",
    "    linestyles='dashed',\n",
    "    color='green',\n",
    ")\n",
    "#plt.ylim([.5,1.05])\n",
    "#ax.hlines(y=0.7, xmin=0, xmax=0.6, linestyles='dashed', color='red')\n",
    "ax.set_title('Specificity vs SNR')\n",
    "#ax.set_ylim([0.6, 1])\n",
    "ax.set_xlabel('Signal-to-Noise Ratio'), ax.set_ylabel('Specificity')\n",
    "#ax.text(x=0.45, y=0.71, s='weighted guess', color='red', va='center', ha='center')\n",
    "#ax.text(x=0.45, y=0.98, s='best model: XGB = 99.4%', color='green', va='center', ha='center')\n",
    "ax.legend(loc='upper left')\n",
    "\n",
    "sns.move_legend(ax, \"upper left\", bbox_to_anchor=(1, 1))\n",
    "\n"
   ]
  },
  {
   "cell_type": "code",
   "execution_count": null,
   "id": "a63c52fa",
   "metadata": {},
   "outputs": [],
   "source": [
    "# now plot same with seaborn\n",
    "sns.set_theme(style=\"whitegrid\")\n",
    "sns.set_palette(\"Set2\")\n",
    "sns.set_context(\"paper\")\n",
    "sns.set(\n",
    "    font_scale=1.2,\n",
    ")\n",
    "sns.set_style(\"ticks\")\n",
    "plt.figure(figsize=(12, 8))\n",
    "ax = sns.lineplot(\n",
    "    x=\"SNR\", y=\"Binary F1\", hue=\"Model\", data=gn_wesad_results, marker='*'\n",
    ")  # .set_title('GN-WESAD')\n",
    "ax.hlines(\n",
    "    y=wesad_results['Accuracy'].max(),\n",
    "    xmin=0,\n",
    "    xmax=0.6,\n",
    "    linestyles='dashed',\n",
    "    color='green',\n",
    ")\n",
    "plt.ylim([.5,1.05])\n",
    "ax.hlines(y=0.7, xmin=0, xmax=0.6, linestyles='dashed', color='red')\n",
    "ax.set_title('F1 Score vs SNR')\n",
    "ax.set_ylim([0.6, 1])\n",
    "ax.set_xlabel('Signal-to-Noise Ratio'), ax.set_ylabel('F1 Score')\n",
    "ax.text(x=0.45, y=0.71, s='weighted guess', color='red', va='center', ha='center')\n",
    "ax.text(x=0.45, y=0.98, s='best model: XGB = 99.4%', color='green', va='center', ha='center')\n",
    "ax.legend(loc='upper left')\n",
    "\n",
    "sns.move_legend(ax, \"upper left\", bbox_to_anchor=(1, 1))"
   ]
  },
  {
   "cell_type": "markdown",
   "metadata": {},
   "source": [
    "## Tabulate results "
   ]
  },
  {
   "cell_type": "code",
   "execution_count": null,
   "metadata": {},
   "outputs": [],
   "source": [
    "if os.path.isfile(\n",
    "    drive + 'Users/alkurdi/data/w60s10_wesad_gn_combined_mean_performances.csv'\n",
    "):\n",
    "    print('file exists, will load it')\n",
    "    combined_mean_performances = pd.read_csv(\n",
    "        drive + 'Users/alkurdi/data/w60s10_wesad_gn_combined_mean_performances.csv',\n",
    "        index_col=0,\n",
    "    )\n",
    "else:\n",
    "    current_df = pd.DataFrame(\n",
    "        columns=[\n",
    "            'SNR',\n",
    "            'Accuracy',\n",
    "            'F1 Score',\n",
    "            'dataset',\n",
    "            'n_i',\n",
    "            'n',\n",
    "            'noise gen function',\n",
    "            'Precision',\n",
    "            'Recall',\n",
    "            'Model',\n",
    "        ]\n",
    "    )\n",
    "    for snr in snrs:\n",
    "        for model in fb_model_list:\n",
    "            current = (\n",
    "                gn_wesad_results.loc[\n",
    "                    (gn_wesad_results['SNR'] == snr)\n",
    "                    & (gn_wesad_results['Model'] == model)\n",
    "                ]\n",
    "                .mean()\n",
    "                .to_frame()\n",
    "                .T\n",
    "            )\n",
    "            current['Binary F1 stdv'] = gn_wesad_results.loc[\n",
    "                (gn_wesad_results['SNR'] == snr) & (gn_wesad_results['Model'] == model)\n",
    "            ].std()['Binary F1']\n",
    "            current['Accuracy stdv'] = gn_wesad_results.loc[\n",
    "                (gn_wesad_results['SNR'] == snr) & (gn_wesad_results['Model'] == model)\n",
    "            ].std()['Accuracy']\n",
    "            current['Model'] = model\n",
    "            current['dataset'] = 'GN-WESAD'\n",
    "            current['noise gen function'] = 'Gaussian Noise'\n",
    "            current_df = pd.concat([current_df, current])\n",
    "            # display(current)\n",
    "    combined_mean_performances = pd.concat([wesad_results, current_df])\n",
    "    combined_mean_performances.to_csv(\n",
    "        'data/w60s10_wesad_gn_combined_mean_performances.csv'\n",
    "    )"
   ]
  },
  {
   "cell_type": "code",
   "execution_count": null,
   "metadata": {},
   "outputs": [],
   "source": [
    "combined_mean_performances"
   ]
  },
  {
   "cell_type": "markdown",
   "metadata": {},
   "source": [
    "## Feature Importances"
   ]
  },
  {
   "cell_type": "code",
   "execution_count": null,
   "id": "9cd2d697",
   "metadata": {},
   "outputs": [],
   "source": [
    "import scipy.stats as ss\n",
    "'''\n",
    "for ft in range(0, len(ft_imp_matrix)):\n",
    "    ft_imp_matrix[ft] = [\n",
    "        sorted(ft_imp_matrix[ft], reverse=True).index(x) for x in ft_imp_matrix[ft]\n",
    "    ]\n",
    "ft_imp_df = pd.DataFrame(ft_imp_matrix, columns=features)\n",
    "\n",
    "ft_imp_df.head()\n",
    "ft_imp_df.columns.values\n",
    "ft_imp_df.reset_index().pivot(index=ft_imp_df, columns=ft_imp_df.columns.values)\n",
    "'''"
   ]
  },
  {
   "cell_type": "markdown",
   "metadata": {},
   "source": [
    "# E2E Models "
   ]
  },
  {
   "cell_type": "code",
   "execution_count": null,
   "metadata": {},
   "outputs": [],
   "source": [
    "e2e_path = 'delta_e2e_results/'\n",
    "#os.listdir(e2e_path)\n",
    "if False:\n",
    "    for folder in os.listdir(e2e_path):\n",
    "        for subfolder in os.listdir(e2e_path + folder):\n",
    "            try:\n",
    "                for subsub in os.listdir(e2e_path + folder + '/' + subfolder):\n",
    "                    try:\n",
    "                        for subsubsub in os.listdir(\n",
    "                            e2e_path + folder + '/' + subfolder + '/' + subsub\n",
    "                        ):\n",
    "                            print(\n",
    "                                e2e_path\n",
    "                                + folder\n",
    "                                + '/'\n",
    "                                + subfolder\n",
    "                                + '/'\n",
    "                                + subsub\n",
    "                                + '/'\n",
    "                                + subsubsub\n",
    "                            )\n",
    "                            # os.listdir(e2e_path+folder+'/'+subfolder)\n",
    "                    except:\n",
    "                        print(\n",
    "                            e2e_path\n",
    "                            + folder\n",
    "                            + '/'\n",
    "                            + subfolder\n",
    "                            + '/'\n",
    "                            + subsub\n",
    "                            + '/'\n",
    "                            + subfolder\n",
    "                        )\n",
    "            except:\n",
    "                print(e2e_path + folder + '/' + subfolder + '/' + subsub)\n"
   ]
  },
  {
   "cell_type": "code",
   "execution_count": null,
   "metadata": {},
   "outputs": [],
   "source": [
    "import pandas as pd\n",
    "\n",
    "path2 = drive+'Users/alkurdi/anxietyE2E/results_archive'\n",
    "\n",
    "complete_results = pd.read_csv(path2 + '/complete_results.csv', index_col=0)"
   ]
  },
  {
   "cell_type": "code",
   "execution_count": null,
   "metadata": {},
   "outputs": [],
   "source": [
    "goldenpath = \"/mnt/d/Users/alkurdi/OneDrive - University of Illinois - Urbana/delta_old_results/e2e/e2e\"\n",
    "i = 0\n",
    "book = {}\n",
    "for root, dirs, files in os.walk(goldenpath):\n",
    "    for file in files:\n",
    "        if 'trials_objs' in root:\n",
    "            break\n",
    "        else:\n",
    "            pass\n",
    "        if 'complete_results' in file:\n",
    "            i += 1\n",
    "            # rt_splt = root.split('/')\n",
    "            metrics = pd.read_csv(root + '/' + file, index_col=0)\n",
    "            book[root] = metrics\n",
    "            # print(rt_splt)\n",
    "            # metrics['iter'] = int(rt_splt[-1][-2:])+1\n",
    "            # metrics['fold'] = int(root[-2:])+1\n",
    "            # metrics['tune'] = int(rt_splt[-3][-2:])+1\n",
    "            # metrics['model'] = rt_splt[-2]\n",
    "            # metrics['dataset'] = rt_splt[-4].split('_')[0]\n",
    "            # print(rt_splt)\n",
    "            # print(rt_splt[-5].split('_')[2])\n",
    "            # print('snr', rt_splt[-5].split('_')[2])\n",
    "print(i)"
   ]
  },
  {
   "cell_type": "code",
   "execution_count": null,
   "metadata": {},
   "outputs": [],
   "source": [
    "# print(metrics)\n",
    "print(list(book.keys()))\n",
    "# book[list(book.keys())]"
   ]
  },
  {
   "cell_type": "code",
   "execution_count": null,
   "metadata": {},
   "outputs": [],
   "source": [
    "# subset.loc['mean']\n",
    "# plt.errorbar(x=snrs, y=subset.loc['mean']['Accuracy'], yerr=subset.loc['std']['Accuracy'], fmt='o')\n",
    "\n",
    "# now plot same with seaborn\n",
    "sns.set_theme(style=\"whitegrid\")\n",
    "sns.set_palette(\"Set2\")\n",
    "sns.set_context(\"paper\")\n",
    "sns.set(\n",
    "    font_scale=1.2,\n",
    ")\n",
    "sns.set_style(\"ticks\")\n",
    "plt.figure(figsize=(12, 8))\n",
    "ax = sns.barplot(x=\"model\", y=\"f1\", data=complete_results)\n",
    "ax.hlines(\n",
    "    y=complete_results['f1'].max(), xmin=0, xmax=5, linestyles='dashed', color='green'\n",
    ")\n",
    "ax.hlines(y=0.7, xmin=0, xmax=5, linestyles='dashed', color='red')\n",
    "ax.set_title('F1 Score vs SNR')\n",
    "# ax.set_ylim([0.6, 1])\n",
    "ax.set_xlabel('Signal-to-Noise Ratio'), ax.set_ylabel('F1 Score')\n",
    "ax.text(x=0.45, y=0.71, s='weighted guess', color='red', va='center', ha='center')\n",
    "ax.text(x=0.45, y=0.98, s='best model: DT', color='green', va='center', ha='center')\n",
    "ax.legend(loc='upper left')"
   ]
  },
  {
   "cell_type": "code",
   "execution_count": null,
   "metadata": {},
   "outputs": [],
   "source": [
    "i = 0\n",
    "# I need df_metrics\n",
    "fileslist = []\n",
    "for root, subfolders, filenames in os.walk(e2e_path):\n",
    "    for filename in filenames:\n",
    "        filepath = root + \"/\" + filename\n",
    "        # print(filename[-4:])\n",
    "        # do stuff with filepath\n",
    "        if (\n",
    "            \".hdf5\" not in filename\n",
    "            and '.txt' not in filename\n",
    "            and '.lock' not in filename\n",
    "            and '.pkl' not in filename\n",
    "        ):\n",
    "            fileslist.append(filename.split('.')[0])\n",
    "            print(filepath)\n",
    "            i += 1\n",
    "print(i)"
   ]
  },
  {
   "cell_type": "code",
   "execution_count": null,
   "metadata": {},
   "outputs": [],
   "source": [
    "import itertools\n",
    "\n",
    "n_samples = 3\n",
    "snrs = [1, 2, 3]\n",
    "subject_ids = [1, 2, 3]\n",
    "factor = [4]\n",
    "list(itertools.product(list(range(n_samples)), snrs, subject_ids, factor))"
   ]
  }
 ],
 "metadata": {
  "kernelspec": {
   "display_name": "Python 3 (ipykernel)",
   "language": "python",
   "name": "python3"
  },
  "language_info": {
   "codemirror_mode": {
    "name": "ipython",
    "version": 3
   },
   "file_extension": ".py",
   "mimetype": "text/x-python",
   "name": "python",
   "nbconvert_exporter": "python",
   "pygments_lexer": "ipython3",
   "version": "3.10.9"
  },
  "latex_envs": {
   "LaTeX_envs_menu_present": true,
   "autoclose": false,
   "autocomplete": true,
   "bibliofile": "biblio.bib",
   "cite_by": "apalike",
   "current_citInitial": 1,
   "eqLabelWithNumbers": true,
   "eqNumInitial": 1,
   "hotkeys": {
    "equation": "Ctrl-E",
    "itemize": "Ctrl-I"
   },
   "labels_anchors": false,
   "latex_user_defs": false,
   "report_style_numbering": false,
   "user_envs_cfg": false
  },
  "toc": {
   "base_numbering": 1,
   "nav_menu": {},
   "number_sections": true,
   "sideBar": true,
   "skip_h1_title": false,
   "title_cell": "Table of Contents",
   "title_sidebar": "Contents",
   "toc_cell": false,
   "toc_position": {
    "height": "1055px",
    "left": "216px",
    "top": "111.12px",
    "width": "343.299px"
   },
   "toc_section_display": true,
   "toc_window_display": true
  }
 },
 "nbformat": 4,
 "nbformat_minor": 5
}
