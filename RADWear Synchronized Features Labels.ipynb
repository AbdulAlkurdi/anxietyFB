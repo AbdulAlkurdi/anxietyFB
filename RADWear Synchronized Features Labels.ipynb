{
 "cells": [
  {
   "cell_type": "markdown",
   "id": "0b0d8b2d",
   "metadata": {},
   "source": [
    "## Imports"
   ]
  },
  {
   "cell_type": "code",
   "execution_count": 68,
   "id": "f8766f26",
   "metadata": {},
   "outputs": [],
   "source": [
    "import os\n",
    "import pandas as pd\n",
    "import numpy as np"
   ]
  },
  {
   "cell_type": "code",
   "execution_count": 12,
   "id": "bd66d534",
   "metadata": {},
   "outputs": [],
   "source": [
    "all_participants_dict = pd.read_pickle('all_dict.pkl')"
   ]
  },
  {
   "cell_type": "code",
   "execution_count": 17,
   "id": "eea65a98",
   "metadata": {},
   "outputs": [
    {
     "name": "stdout",
     "output_type": "stream",
     "text": [
      "Subjects ['4', '5', '7', '9', '12', '14']\n"
     ]
    }
   ],
   "source": [
    "print('Subjects', [key for key in all_participants_dict.keys()])"
   ]
  },
  {
   "cell_type": "markdown",
   "id": "a6ce4005",
   "metadata": {},
   "source": [
    "## Parse Data"
   ]
  },
  {
   "cell_type": "code",
   "execution_count": 75,
   "id": "19d61a0f",
   "metadata": {},
   "outputs": [],
   "source": [
    "relevant_keys = ['daily_check_in_date', 'daily_feeling', 'daily_distressed_level', 'daily_anxious_level', \n",
    "                 'daily_overall_anxiety']\n",
    "subject_labels = []"
   ]
  },
  {
   "cell_type": "code",
   "execution_count": 76,
   "id": "7232c980",
   "metadata": {
    "scrolled": false
   },
   "outputs": [
    {
     "name": "stdout",
     "output_type": "stream",
     "text": [
      "Subject 4\n",
      "Subject 5\n",
      "Subject 7\n",
      "Subject 9\n",
      "Subject 12\n",
      "Subject 14\n"
     ]
    }
   ],
   "source": [
    "for key in all_participants_dict.keys():\n",
    "    subject_data = []\n",
    "    for instance in all_participants_dict[key]['local_info_dict'].keys():\n",
    "        key_data = []\n",
    "        for rel_key in relevant_keys:\n",
    "            # Ensure that the relevant keys exist to avoid runtime error\n",
    "            if len(all_participants_dict[key]['local_info_dict'][instance]) > 0:\n",
    "                key_data.append(all_participants_dict[key]['local_info_dict'][instance][rel_key])\n",
    "            else:\n",
    "                break\n",
    "        # Ensure that subject labels contain all the necessary information      \n",
    "        if len(key_data) == len(relevant_keys):\n",
    "            key_data.insert(0, key)\n",
    "            subject_labels.append(key_data)"
   ]
  },
  {
   "cell_type": "markdown",
   "id": "fc59b444",
   "metadata": {},
   "source": [
    "## Create Dataframe"
   ]
  },
  {
   "cell_type": "code",
   "execution_count": 96,
   "id": "9f881219",
   "metadata": {},
   "outputs": [],
   "source": [
    "label_df = pd.DataFrame(subject_labels, \n",
    "                        columns={'subject', 'daily_check_in_date', 'daily_feeling', 'daily_distressed_level', \n",
    "                                 'daily_anxious_level', 'daily_overall_anxiety'})\n",
    "\n",
    "for key in relevant_keys: \n",
    "    if key != 'daily_check_in_date': \n",
    "        label_df[key] = label_df[key].astype(int)"
   ]
  },
  {
   "cell_type": "code",
   "execution_count": 97,
   "id": "60a66844",
   "metadata": {},
   "outputs": [
    {
     "data": {
      "text/html": [
       "<div>\n",
       "<style scoped>\n",
       "    .dataframe tbody tr th:only-of-type {\n",
       "        vertical-align: middle;\n",
       "    }\n",
       "\n",
       "    .dataframe tbody tr th {\n",
       "        vertical-align: top;\n",
       "    }\n",
       "\n",
       "    .dataframe thead th {\n",
       "        text-align: right;\n",
       "    }\n",
       "</style>\n",
       "<table border=\"1\" class=\"dataframe\">\n",
       "  <thead>\n",
       "    <tr style=\"text-align: right;\">\n",
       "      <th></th>\n",
       "      <th>daily_anxious_level</th>\n",
       "      <th>daily_check_in_date</th>\n",
       "      <th>subject</th>\n",
       "      <th>daily_overall_anxiety</th>\n",
       "      <th>daily_distressed_level</th>\n",
       "      <th>daily_feeling</th>\n",
       "    </tr>\n",
       "  </thead>\n",
       "  <tbody>\n",
       "    <tr>\n",
       "      <th>0</th>\n",
       "      <td>5</td>\n",
       "      <td>2022-06-27</td>\n",
       "      <td>3</td>\n",
       "      <td>6</td>\n",
       "      <td>1</td>\n",
       "      <td>2</td>\n",
       "    </tr>\n",
       "    <tr>\n",
       "      <th>1</th>\n",
       "      <td>5</td>\n",
       "      <td>2022-06-28</td>\n",
       "      <td>4</td>\n",
       "      <td>5</td>\n",
       "      <td>1</td>\n",
       "      <td>3</td>\n",
       "    </tr>\n",
       "    <tr>\n",
       "      <th>2</th>\n",
       "      <td>5</td>\n",
       "      <td>2022-06-29</td>\n",
       "      <td>5</td>\n",
       "      <td>2</td>\n",
       "      <td>2</td>\n",
       "      <td>3</td>\n",
       "    </tr>\n",
       "    <tr>\n",
       "      <th>3</th>\n",
       "      <td>5</td>\n",
       "      <td>2022-06-30</td>\n",
       "      <td>5</td>\n",
       "      <td>7</td>\n",
       "      <td>2</td>\n",
       "      <td>7</td>\n",
       "    </tr>\n",
       "    <tr>\n",
       "      <th>4</th>\n",
       "      <td>5</td>\n",
       "      <td>2022-07-01</td>\n",
       "      <td>8</td>\n",
       "      <td>2</td>\n",
       "      <td>3</td>\n",
       "      <td>2</td>\n",
       "    </tr>\n",
       "  </tbody>\n",
       "</table>\n",
       "</div>"
      ],
      "text/plain": [
       "   daily_anxious_level daily_check_in_date subject  daily_overall_anxiety  \\\n",
       "0                    5          2022-06-27       3                      6   \n",
       "1                    5          2022-06-28       4                      5   \n",
       "2                    5          2022-06-29       5                      2   \n",
       "3                    5          2022-06-30       5                      7   \n",
       "4                    5          2022-07-01       8                      2   \n",
       "\n",
       "   daily_distressed_level  daily_feeling  \n",
       "0                       1              2  \n",
       "1                       1              3  \n",
       "2                       2              3  \n",
       "3                       2              7  \n",
       "4                       3              2  "
      ]
     },
     "execution_count": 97,
     "metadata": {},
     "output_type": "execute_result"
    }
   ],
   "source": [
    "label_df.head()"
   ]
  }
 ],
 "metadata": {
  "kernelspec": {
   "display_name": "Python 3 (ipykernel)",
   "language": "python",
   "name": "python3"
  },
  "language_info": {
   "codemirror_mode": {
    "name": "ipython",
    "version": 3
   },
   "file_extension": ".py",
   "mimetype": "text/x-python",
   "name": "python",
   "nbconvert_exporter": "python",
   "pygments_lexer": "ipython3",
   "version": "3.10.4"
  },
  "latex_envs": {
   "LaTeX_envs_menu_present": true,
   "autoclose": false,
   "autocomplete": true,
   "bibliofile": "biblio.bib",
   "cite_by": "apalike",
   "current_citInitial": 1,
   "eqLabelWithNumbers": true,
   "eqNumInitial": 1,
   "hotkeys": {
    "equation": "Ctrl-E",
    "itemize": "Ctrl-I"
   },
   "labels_anchors": false,
   "latex_user_defs": false,
   "report_style_numbering": false,
   "user_envs_cfg": false
  },
  "toc": {
   "base_numbering": 1,
   "nav_menu": {},
   "number_sections": true,
   "sideBar": true,
   "skip_h1_title": false,
   "title_cell": "Table of Contents",
   "title_sidebar": "Contents",
   "toc_cell": false,
   "toc_position": {},
   "toc_section_display": true,
   "toc_window_display": false
  }
 },
 "nbformat": 4,
 "nbformat_minor": 5
}
