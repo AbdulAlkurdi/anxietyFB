{
 "cells": [
  {
   "cell_type": "code",
   "execution_count": 463,
   "metadata": {},
   "outputs": [],
   "source": [
    "import pandas as pd\n",
    "import seaborn as sns\n",
    "\n",
    "df_counter = None\n",
    "csv_name = 'fixed_resampled140hz_counter.csv'\n",
    "path = 'C:/Users/alkurdi/Downloads/WESAD'\n",
    "df_counter = pd.read_csv(path + '/' + csv_name, index_col=0,  header=1 )\n",
    "df_counter.reset_index( inplace=True, drop=True)\n",
    "df_counter.name = 'Len of column vector in original data'\n",
    "df_columns = [i.split(' ')[0].upper() for i in list(df_counter.columns)]\n",
    "df_counter.columns = df_columns\n",
    "df_counter['SUBJECT'] = df_counter['SUBJECT'].str.replace('S','')"
   ]
  },
  {
   "cell_type": "code",
   "execution_count": 464,
   "metadata": {},
   "outputs": [],
   "source": [
    "import numpy as np \n",
    "df = df_counter.loc[:,~df_counter.columns.duplicated()].copy()\n",
    "df_counter['SUBJECT'] = [int(i) for i in df_counter['SUBJECT'].values]\n",
    "\n",
    "df.drop(columns='SUBJECT', inplace=True)    \n",
    "melted = df.melt()\n",
    "melted.rename(columns={'variable':'signal', 'value':'len'}, inplace=True)"
   ]
  },
  {
   "cell_type": "code",
   "execution_count": 465,
   "metadata": {},
   "outputs": [
    {
     "data": {
      "image/png": "[encoded data removed]",
      "text/plain": [
       "<Figure size 640x480 with 1 Axes>"
      ]
     },
     "metadata": {},
     "output_type": "display_data"
    }
   ],
   "source": [
    "sns.set_theme(style=\"whitegrid\", palette=\"pastel\");\n",
    "sns.pointplot(\n",
    "    data=melted, x=\"signal\", y=\"len\", hue=\"signal\",\n",
    "    dodge=.4, linestyle=\"none\", errorbar=None,\n",
    "    marker=\"_\", markersize=20, markeredgewidth=3,\n",
    ")\n",
    "sns.stripplot(\n",
    "    data=melted, x=\"signal\", y=\"len\", hue=\"signal\",\n",
    "    dodge=True,  legend=False,\n",
    ");\n"
   ]
  },
  {
   "cell_type": "markdown",
   "metadata": {},
   "source": [
    "# Modify wesad to binary dataset"
   ]
  },
  {
   "cell_type": "code",
   "execution_count": 502,
   "metadata": {},
   "outputs": [
    {
     "name": "stdout",
     "output_type": "stream",
     "text": [
      "how many labels = 1 800800\n",
      "how many labels = 1 after 1054200\n",
      "how many labels = 1 798000\n",
      "how many labels = 1 after 1060500\n",
      "how many labels = 1 810601\n",
      "how many labels = 1 after 1071001\n",
      "how many labels = 1 838600\n",
      "how many labels = 1 after 1100400\n",
      "how many labels = 1 826000\n",
      "how many labels = 1 after 1086400\n",
      "how many labels = 1 830200\n",
      "how many labels = 1 after 1090601\n",
      "how many labels = 1 818300\n",
      "how many labels = 1 after 1077299\n",
      "how many labels = 1 826000\n",
      "how many labels = 1 after 1086400\n",
      "how many labels = 1 826000\n",
      "how many labels = 1 after 1086400\n",
      "how many labels = 1 826000\n",
      "how many labels = 1 after 1083600\n",
      "how many labels = 1 826001\n",
      "how many labels = 1 after 1093401\n",
      "how many labels = 1 826000\n",
      "how many labels = 1 after 1086401\n",
      "how many labels = 1 822500\n",
      "how many labels = 1 after 1082900\n",
      "how many labels = 1 826000\n",
      "how many labels = 1 after 1083600\n",
      "how many labels = 1 826700\n",
      "how many labels = 1 after 1087100\n"
     ]
    }
   ],
   "source": [
    "import os\n",
    "import pickle\n",
    "\n",
    "subject_ids = [2, 3, 4, 5, 6, 7, 8, 9, 10, 11, 13, 14, 15, 16, 17]\n",
    "\n",
    "subject_list = {}\n",
    "root = 'C:/Users/alkurdi/Downloads/WESAD/WESAD'\n",
    "for i in subject_ids:\n",
    "    with open(f'{root}/S{i}/S{i}.pkl', 'rb') as file:\n",
    "            subject_list[i] = pickle.load(file, encoding='latin1')\n",
    "    print('how many labels = 1', len(subject_list[i]['label'][subject_list[i]['label']==1]))\n",
    "    subject_list[i]['label'][subject_list[i]['label'] == 3] = 1\n",
    "    print('how many labels = 1 after', len(subject_list[i]['label'][subject_list[i]['label']==1]))\n",
    "    with open(f'{root}/S{i}/S{i}binary.pkl', 'wb') as file:\n",
    "            pickle.dump(subject_list[i], file)"
   ]
  },
  {
   "cell_type": "code",
   "execution_count": 498,
   "metadata": {},
   "outputs": [],
   "source": [
    "subject_list[i]['label'][subject_list[i]['label'] == 3] = 1"
   ]
  },
  {
   "cell_type": "code",
   "execution_count": null,
   "metadata": {},
   "outputs": [],
   "source": [
    "for key in subject17['signal']['chest'].keys():\n",
    "    print(len(subject17['signal']['chest'][key]))\n",
    "    print(len(subject17B['signal']['chest'][key]))\n",
    "\n",
    "for key in subject17['signal']['wrist'].keys():\n",
    "    print(len(subject17['signal']['wrist'][key]))\n",
    "    print(len(subject17B['signal']['wrist'][key]))\n",
    "\n"
   ]
  },
  {
   "cell_type": "code",
   "execution_count": 528,
   "metadata": {},
   "outputs": [],
   "source": [
    "with open(f'{root}/S{17}/S{17}.pkl', 'rb') as file:\n",
    "            subject17 = pickle.load(file, encoding='latin1')\n",
    "with open(f'{root}/S{17}/S{17}_2.pkl', 'wb') as file:\n",
    "            pickle.dump(subject17, file)"
   ]
  }
 ],
 "metadata": {
  "kernelspec": {
   "display_name": "ahmed",
   "language": "python",
   "name": "python3"
  },
  "language_info": {
   "codemirror_mode": {
    "name": "ipython",
    "version": 3
   },
   "file_extension": ".py",
   "mimetype": "text/x-python",
   "name": "python",
   "nbconvert_exporter": "python",
   "pygments_lexer": "ipython3",
   "version": "3.11.4"
  }
 },
 "nbformat": 4,
 "nbformat_minor": 2
}
