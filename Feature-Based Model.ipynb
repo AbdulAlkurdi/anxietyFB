{
 "cells": [
  {
   "cell_type": "markdown",
   "id": "6a8af7f1",
   "metadata": {},
   "source": [
    "## Data Imports"
   ]
  },
  {
   "cell_type": "code",
   "execution_count": 4,
   "id": "20604081",
   "metadata": {},
   "outputs": [],
   "source": [
    "## Link: https://github.com/WJMatthew/WESAD/blob/master/data_wrangling.py\n",
    "import os\n",
    "import re\n",
    "import pickle\n",
    "import numpy as np\n",
    "import pandas as pd\n",
    "import scipy.stats\n",
    "import seaborn as sns\n",
    "import scipy.signal as scisig\n",
    "from scipy.signal import find_peaks\n",
    "import matplotlib.pyplot as plt\n",
    "import matplotlib as mpl\n",
    "import heartpy as hp\n",
    "import biosppy\n",
    "import neurokit2 as nk\n",
    "from heartpy.datautils import *\n",
    "from heartpy.peakdetection import *\n",
    "mpl.rcParams['agg.path.chunksize'] = 10000\n",
    "from scipy import stats\n",
    "import cvxEDA\n",
    "from sklearn.model_selection import train_test_split\n",
    "from sklearn.metrics import confusion_matrix, accuracy_score\n",
    "from sklearn.discriminant_analysis import LinearDiscriminantAnalysis\n",
    "from sklearn.discriminant_analysis import QuadraticDiscriminantAnalysis\n",
    "from sklearn.model_selection import cross_val_score, cross_val_predict\n",
    "from sklearn.ensemble import RandomForestClassifier\n",
    "from sklearn.preprocessing import StandardScaler\n",
    "from sklearn.svm import SVC\n",
    "import warnings\n",
    "warnings.filterwarnings('ignore')\n",
    "from sklearn.metrics import classification_report"
   ]
  },
  {
   "cell_type": "markdown",
   "id": "ed758cf9",
   "metadata": {},
   "source": [
    "# Feature Extraction"
   ]
  },
  {
   "cell_type": "markdown",
   "id": "24314e2f",
   "metadata": {},
   "source": [
    "## Parameters"
   ]
  },
  {
   "cell_type": "code",
   "execution_count": 5,
   "id": "23cd49cd",
   "metadata": {},
   "outputs": [],
   "source": [
    "# E4 (wrist) Sampling Frequencies\n",
    "fs_dict = {'ACC': 32, 'BVP': 64, 'EDA': 4, 'TEMP': 4, 'label': 700, 'Resp': 700, 'ECG': 700, \n",
    "           'chest': 700}\n",
    "# Window size\n",
    "WINDOW_IN_SECONDS = 30\n",
    "\n",
    "# Labels\n",
    "label_dict = {'baseline': 1, 'stress': 2, 'amusement': 0}\n",
    "# Int to label mappings\n",
    "int_to_label = {1: 'baseline', 2: 'stress', 0: 'amusement'}\n",
    "# Feature names\n",
    "feat_names = None\n",
    "# Where to save the data\n",
    "savePath = 'data'\n",
    "# Where to get the data\n",
    "subject_feature_path = '/subject_feats'\n",
    "\n",
    "if not os.path.exists(savePath):\n",
    "    os.makedirs(savePath)\n",
    "if not os.path.exists(savePath + subject_feature_path):\n",
    "    os.makedirs(savePath + subject_feature_path)"
   ]
  },
  {
   "cell_type": "markdown",
   "id": "c8087bc7",
   "metadata": {},
   "source": [
    "## Class to Store Subject Data"
   ]
  },
  {
   "cell_type": "code",
   "execution_count": 6,
   "id": "0bec7091",
   "metadata": {},
   "outputs": [],
   "source": [
    "# Class to store the data for each subject\n",
    "class SubjectData:\n",
    "\n",
    "    def __init__(self, main_path, subject_number):\n",
    "        self.name = f'S{subject_number}'\n",
    "        self.subject_keys = ['signal', 'label', 'subject']\n",
    "        self.signal_keys = ['chest', 'wrist']\n",
    "        self.chest_keys = ['ACC', 'ECG', 'EMG', 'EDA', 'Temp', 'Resp']\n",
    "        self.wrist_keys = ['ACC', 'BVP', 'EDA', 'TEMP']\n",
    "        with open(os.path.join(main_path, self.name) + '/' + self.name + '.pkl', 'rb') as file:\n",
    "            self.data = pickle.load(file, encoding='latin1')\n",
    "        self.labels = self.data['label']\n",
    "\n",
    "    def get_wrist_data(self):\n",
    "        data = self.data['signal']['wrist']\n",
    "        data.update({'ACC_C': self.data['signal']['chest']['ACC'],\n",
    "                     'ECG_C': self.data['signal']['chest']['ECG'],\n",
    "                     'EDA_C': self.data['signal']['chest']['EDA'],\n",
    "                     'EMG_C': self.data['signal']['chest']['EMG'],\n",
    "                     'Resp_C': self.data['signal']['chest']['Resp'],\n",
    "                     'Temp_C': self.data['signal']['chest']['Temp']\n",
    "                     })\n",
    "        return data\n",
    "\n",
    "    def get_chest_data(self):\n",
    "        return self.data['signal']['chest']\n",
    "\n",
    "    def extract_features(self):  # only wrist\n",
    "        results = \\\n",
    "            {\n",
    "                key: get_statistics(self.get_wrist_data()[key].flatten(), self.labels, key)\n",
    "                for key in self.wrist_keys\n",
    "            }\n",
    "        return results"
   ]
  },
  {
   "cell_type": "markdown",
   "id": "a1f31671",
   "metadata": {},
   "source": [
    "## EDA"
   ]
  },
  {
   "cell_type": "code",
   "execution_count": 7,
   "id": "9d0e85d8",
   "metadata": {},
   "outputs": [],
   "source": [
    "# cvxEDA\n",
    "def eda_stats(y):\n",
    "    Fs = fs_dict['EDA']\n",
    "    yn = (y - y.mean()) / y.std()\n",
    "    [r, p, t, l, d, e, obj] = cvxEDA.cvxEDA(yn, 1. / Fs)\n",
    "    return [r, p, t, l, d, e, obj]"
   ]
  },
  {
   "cell_type": "markdown",
   "id": "53b7962d",
   "metadata": {},
   "source": [
    "## ACC"
   ]
  },
  {
   "cell_type": "code",
   "execution_count": 8,
   "id": "533e4700",
   "metadata": {},
   "outputs": [],
   "source": [
    "def get_net_accel(data):\n",
    "    return (data['ACC_x'] ** 2 + data['ACC_y'] ** 2 + data['ACC_z'] ** 2).apply(lambda x: np.sqrt(x))"
   ]
  },
  {
   "cell_type": "code",
   "execution_count": 9,
   "id": "8315b603",
   "metadata": {},
   "outputs": [],
   "source": [
    "def get_net_accel_C(data):\n",
    "    return (data['ACC_x'] ** 2 + data['ACC_y'] ** 2 + data['ACC_z'] ** 2).apply(lambda x: np.sqrt(x))"
   ]
  },
  {
   "cell_type": "markdown",
   "id": "de0a6269",
   "metadata": {},
   "source": [
    "## Helper Functions"
   ]
  },
  {
   "cell_type": "markdown",
   "id": "438f0149",
   "metadata": {},
   "source": [
    "### Lowpass"
   ]
  },
  {
   "cell_type": "code",
   "execution_count": 10,
   "id": "7f48211b",
   "metadata": {},
   "outputs": [],
   "source": [
    "# https://github.com/MITMediaLabAffectiveComputing/eda-explorer/blob/master/load_files.py\n",
    "def butter_lowpass(cutoff, fs, order=5):\n",
    "    # Filtering Helper functions\n",
    "    nyq = 0.5 * fs\n",
    "    normal_cutoff = cutoff / nyq\n",
    "    b, a = scisig.butter(order, normal_cutoff, btype='low', analog=False)\n",
    "    return b, a"
   ]
  },
  {
   "cell_type": "markdown",
   "id": "183600cb",
   "metadata": {},
   "source": [
    "### Lowpass Filter"
   ]
  },
  {
   "cell_type": "code",
   "execution_count": 11,
   "id": "2e0719e8",
   "metadata": {},
   "outputs": [],
   "source": [
    "def butter_lowpass_filter(data, cutoff, fs, order=5):\n",
    "    # Filtering Helper functions\n",
    "    b, a = butter_lowpass(cutoff, fs, order=order)\n",
    "    y = scisig.lfilter(b, a, data)\n",
    "    return y"
   ]
  },
  {
   "cell_type": "markdown",
   "id": "b8d2654d",
   "metadata": {},
   "source": [
    "### Slope Calculator"
   ]
  },
  {
   "cell_type": "code",
   "execution_count": 12,
   "id": "04115363",
   "metadata": {},
   "outputs": [],
   "source": [
    "def get_slope(series):\n",
    "    linreg = scipy.stats.linregress(np.arange(len(series)), series )\n",
    "    slope = linreg[0]\n",
    "    return slope"
   ]
  },
  {
   "cell_type": "markdown",
   "id": "449ac3d5",
   "metadata": {},
   "source": [
    "### Mean/Std/Min/Max"
   ]
  },
  {
   "cell_type": "code",
   "execution_count": 13,
   "id": "6a883ff7",
   "metadata": {},
   "outputs": [],
   "source": [
    "def get_window_stats(data, label=-1):\n",
    "    mean_features = np.mean(data)\n",
    "    std_features = np.std(data)\n",
    "    min_features = np.amin(data)\n",
    "    max_features = np.amax(data)\n",
    "\n",
    "    features = {'mean': mean_features, 'std': std_features, 'min': min_features, 'max': max_features,\n",
    "                'label': label}\n",
    "    return features"
   ]
  },
  {
   "cell_type": "markdown",
   "id": "8d2db9b9",
   "metadata": {},
   "source": [
    "### Absolute Integral"
   ]
  },
  {
   "cell_type": "code",
   "execution_count": 14,
   "id": "ffd96c53",
   "metadata": {},
   "outputs": [],
   "source": [
    "def get_absolute_integral(x):\n",
    "    return np.sum(np.abs(x))"
   ]
  },
  {
   "cell_type": "markdown",
   "id": "eb4119bd",
   "metadata": {},
   "source": [
    "### Dynamic Range"
   ]
  },
  {
   "cell_type": "code",
   "execution_count": 15,
   "id": "70ff05c0",
   "metadata": {},
   "outputs": [],
   "source": [
    "def get_dynamic_range(x):\n",
    "    return np.max(x) / np.min(x)"
   ]
  },
  {
   "cell_type": "markdown",
   "id": "797b8431",
   "metadata": {},
   "source": [
    "### Peak Frequency (Periodogram)"
   ]
  },
  {
   "cell_type": "code",
   "execution_count": 16,
   "id": "ac3ab744",
   "metadata": {},
   "outputs": [],
   "source": [
    "def get_peak_freq(x):\n",
    "    f, Pxx = scisig.periodogram(x, fs=8)\n",
    "    psd_dict = {amp: freq for amp, freq in zip(Pxx, f)}\n",
    "    peak_freq = psd_dict[max(psd_dict.keys())]\n",
    "    return peak_freq"
   ]
  },
  {
   "cell_type": "markdown",
   "id": "358976c7",
   "metadata": {},
   "source": [
    "### Respiration Features"
   ]
  },
  {
   "cell_type": "code",
   "execution_count": 17,
   "id": "75316f48",
   "metadata": {},
   "outputs": [],
   "source": [
    "def get_resp_features(resp_data):\n",
    "    resp_rate, filtered, zeros, resp_rate_ts, resp_rate = biosppy.signals.resp.resp(resp_data, sampling_rate=700, show=False)\n",
    "    extremas, values = biosppy.signals.tools.find_extrema(signal=filtered, mode='both')\n",
    "    inhal_durations = []\n",
    "    exhal_durations = []\n",
    "    last_index = 0\n",
    "    for i in range(len(extremas)):\n",
    "        if values[i] * values[last_index] < 0:\n",
    "            if values[last_index] < 0:\n",
    "                inhal_durations.append((extremas[i] - extremas[last_index]) / 700)\n",
    "            else:\n",
    "                exhal_durations.append((extremas[i] - extremas[last_index]) / 700)\n",
    "            last_index = i\n",
    "    return np.mean(resp_rate), np.mean(inhal_durations), np.std(inhal_durations), np.mean(exhal_durations), np.std(exhal_durations), np.sum(inhal_durations) / np.sum(exhal_durations)"
   ]
  },
  {
   "cell_type": "markdown",
   "id": "4a5c7863",
   "metadata": {},
   "source": [
    "### FIR Filter"
   ]
  },
  {
   "cell_type": "code",
   "execution_count": 18,
   "id": "8dd1882c",
   "metadata": {},
   "outputs": [],
   "source": [
    "# https://github.com/MITMediaLabAffectiveComputing/eda-explorer/blob/master/AccelerometerFeatureExtractionScript.py\n",
    "def filterSignalFIR(eda, cutoff=0.4, numtaps=64):\n",
    "    f = cutoff / (fs_dict['ACC'] / 2.0)\n",
    "    FIR_coeff = scisig.firwin(numtaps, f)\n",
    "\n",
    "    return scisig.lfilter(FIR_coeff, 1, eda)"
   ]
  },
  {
   "cell_type": "markdown",
   "id": "f43894c7",
   "metadata": {},
   "source": [
    "## ECG"
   ]
  },
  {
   "cell_type": "code",
   "execution_count": 19,
   "id": "a973f44c",
   "metadata": {},
   "outputs": [],
   "source": [
    "# Calculating window statistics for ECGs\n",
    "def get_window_stats_ecg(data, label=-1):\n",
    "    # Drop nulls\n",
    "    data2 = data['ECG'].dropna().reset_index(drop=True)\n",
    "    # Find R peaks\n",
    "    rr_list = find_peaks(data2, height=0.5, distance=25)[0]\n",
    "    # Find difference between successive R peaks\n",
    "    rr_diff = np.diff(rr_list)\n",
    "    # Find squared difference between successive R peaks\n",
    "    rr_sqdiff = np.diff(rr_list)**2\n",
    "    \n",
    "    # Build measures dictionary\n",
    "    measures = dict()\n",
    "    # Compute beats per minute\n",
    "    measures['bpm'] = (60*fs_dict['ECG'])/np.mean(rr_diff)\n",
    "    # Compute interbeat interval\n",
    "    measures['ibi'] = np.mean(fs_dict['ECG']/rr_diff)\n",
    "    measures['sdnn'] = np.std(fs_dict['ECG']/rr_list)\n",
    "    measures['sdsd'] = np.std(fs_dict['ECG']/rr_diff)\n",
    "    measures['rmssd'] = np.sqrt(np.mean(fs_dict['ECG']**2/rr_sqdiff))\n",
    "    nn20 = rr_diff[np.where(rr_diff > 20.0)]\n",
    "    nn50 = rr_diff[np.where(rr_diff > 50.0)]\n",
    "    try:\n",
    "        measures['pnn20'] = float(len(nn20)) / float(len(rr_diff))\n",
    "    except:\n",
    "        measures['pnn20'] = np.nan\n",
    "    try:\n",
    "        measures['pnn50'] = float(len(nn50)) / float(len(rr_diff))\n",
    "    except:\n",
    "        measures['pnn50'] = np.nan\n",
    "        \n",
    "    return measures"
   ]
  },
  {
   "cell_type": "code",
   "execution_count": 20,
   "id": "1b56005e",
   "metadata": {},
   "outputs": [],
   "source": [
    "def compute_features_chest(ch_data_dict, labels, norm_type=None):\n",
    "    ecg_df = pd.DataFrame(ch_data_dict['ECG'], columns=['ECG'])\n",
    "    \n",
    "    # Adding index for combination due to different sampling frequencies\n",
    "    ecg_df.index = [(1 / fs_dict['ECG']) * i for i in range(len(ecg_df))]\n",
    "    \n",
    "    # Change index to datetime\n",
    "    ecg_df.index = pd.to_datetime(ecg_df.index, unit='s')\n",
    "    \n",
    "    return ecg_df"
   ]
  },
  {
   "cell_type": "markdown",
   "id": "8d6fbcde",
   "metadata": {},
   "source": [
    "## Compute Features"
   ]
  },
  {
   "cell_type": "code",
   "execution_count": 99,
   "id": "7064a5d5",
   "metadata": {},
   "outputs": [],
   "source": [
    "# Computes features for wrist\n",
    "def compute_features(e4_data_dict, ch_data_dict, labels, norm_type=None):\n",
    "    # Dataframes for each sensor type\n",
    "    eda_df = pd.DataFrame(e4_data_dict['EDA'], columns=['EDA'])\n",
    "    bvp_df = pd.DataFrame(e4_data_dict['BVP'], columns=['BVP'])\n",
    "    acc_df = pd.DataFrame(e4_data_dict['ACC'], columns=['ACC_x', 'ACC_y', 'ACC_z'])\n",
    "    temp_df = pd.DataFrame(e4_data_dict['TEMP'], columns=['TEMP'])\n",
    "    label_df = pd.DataFrame(labels, columns=['label'])\n",
    "    resp_df = pd.DataFrame(e4_data_dict['Resp_C'], columns=['Resp_C'])\n",
    "    acc_c_df = pd.DataFrame(e4_data_dict['ACC_C'], columns=['ACC_x_C', 'ACC_y_C', 'ACC_z_C'])\n",
    "    ecg_c_df = pd.DataFrame(e4_data_dict['ECG_C'], columns=['ECG_C'])\n",
    "    eda_c_df = pd.DataFrame(e4_data_dict['EDA_C'], columns=['EDA_C'])\n",
    "    emg_c_df = pd.DataFrame(e4_data_dict['EMG_C'], columns=['EMG_C'])\n",
    "    resp_c_df = pd.DataFrame(e4_data_dict['Resp_C'], columns=['Resp_C'])\n",
    "    temp_c_df = pd.DataFrame(e4_data_dict['Temp_C'], columns=['Temp_C'])\n",
    "\n",
    "    # Filter EDA\n",
    "    eda_df['EDA'] = butter_lowpass_filter(eda_df['EDA'], 1.0, fs_dict['EDA'], 6)\n",
    "    eda_c_df['EDA_C'] = butter_lowpass_filter(eda_c_df['EDA_C'], 1.0, fs_dict['chest'], 6)\n",
    "\n",
    "    \n",
    "    eda_data = nk.eda_phasic(nk.standardize(eda_df['EDA']), sampling_rate=fs_dict['EDA'])\n",
    "    eda_df['EDA_SCR'] = eda_data['EDA_Phasic']\n",
    "    eda_df['EDA_SCL'] = eda_data['EDA_Tonic']\n",
    "    eda_data_c = nk.eda_phasic(nk.standardize(eda_c_df['EDA_C']), sampling_rate=fs_dict['chest'])\n",
    "    eda_c_df['EDA_SCR_C'] = eda_data_c['EDA_Phasic']\n",
    "    eda_c_df['EDA_SCL_C'] = eda_data_c['EDA_Tonic']\n",
    "    \n",
    "    # Filter ACM\n",
    "    for _ in acc_df.columns:\n",
    "        acc_df[_] = filterSignalFIR(acc_df.values)\n",
    "    for _ in acc_c_df.columns:\n",
    "        acc_c_df[_] = filterSignalFIR(acc_c_df.values)\n",
    "\n",
    "    # Adding indices for combination due to differing sampling frequencies\n",
    "    eda_df.index = [(1 / fs_dict['EDA']) * i for i in range(len(eda_df))]\n",
    "    bvp_df.index = [(1 / fs_dict['BVP']) * i for i in range(len(bvp_df))]\n",
    "    acc_df.index = [(1 / fs_dict['ACC']) * i for i in range(len(acc_df))]\n",
    "    temp_df.index = [(1 / fs_dict['TEMP']) * i for i in range(len(temp_df))]\n",
    "    label_df.index = [(1 / fs_dict['label']) * i for i in range(len(label_df))]\n",
    "    resp_df.index = [(1 / fs_dict['Resp']) * i for i in range(len(resp_df))]\n",
    "    acc_c_df.index = [(1 / fs_dict['chest']) * i for i in range(len(acc_c_df))]\n",
    "    ecg_c_df.index = [(1 / fs_dict['chest']) * i for i in range(len(ecg_c_df))]\n",
    "    eda_c_df.index = [(1 / fs_dict['chest']) * i for i in range(len(eda_c_df))]\n",
    "    emg_c_df.index = [(1 / fs_dict['chest']) * i for i in range(len(emg_c_df))]\n",
    "    resp_c_df.index = [(1 / fs_dict['chest']) * i for i in range(len(resp_c_df))]\n",
    "    temp_c_df.index = [(1 / fs_dict['chest']) * i for i in range(len(temp_c_df))]\n",
    "\n",
    "    # Change indices to datetime\n",
    "    eda_df.index = pd.to_datetime(eda_df.index, unit='s')\n",
    "    bvp_df.index = pd.to_datetime(bvp_df.index, unit='s')\n",
    "    temp_df.index = pd.to_datetime(temp_df.index, unit='s')\n",
    "    acc_df.index = pd.to_datetime(acc_df.index, unit='s')\n",
    "    label_df.index = pd.to_datetime(label_df.index, unit='s')\n",
    "    resp_df.index = pd.to_datetime(resp_df.index, unit='s')\n",
    "\n",
    "    # New EDA features\n",
    "    r, p, t, l, d, e, obj = eda_stats(eda_df['EDA'])\n",
    "    eda_df['EDA_phasic'] = r\n",
    "    eda_df['EDA_smna'] = p\n",
    "    eda_df['EDA_tonic'] = t\n",
    "\n",
    "    # Getting ECG features\n",
    "    ecg_df = compute_features_chest(ch_data_dict, labels, norm_type=None)\n",
    "        \n",
    "    # Combined dataframe - not used yet\n",
    "    df = eda_df.join(bvp_df, how='outer')\n",
    "    df = df.join(temp_df, how='outer')\n",
    "    df = df.join(acc_df, how='outer')\n",
    "    df = df.join(label_df, how='outer')\n",
    "    df = df.join(ecg_df, how='outer')\n",
    "    df = df.join(eda_c_df, how='outer')\n",
    "    df = df.join(acc_c_df, how='outer')\n",
    "    df = df.join(emg_c_df, how='outer')\n",
    "    df = df.join(resp_c_df, how='outer')\n",
    "    df = df.join(temp_c_df, how='outer')\n",
    "    df['label'] = df['label'].fillna(method='bfill')\n",
    "    df.reset_index(drop=True, inplace=True)\n",
    "    print(df.isna().sum())\n",
    "    if norm_type == 'std':\n",
    "        # std norm\n",
    "        df = (df - df.mean()) / df.std()\n",
    "    elif norm_type == 'minmax':\n",
    "        # minmax norm\n",
    "        df = (df - df.min()) / (df.max() - df.min())\n",
    "\n",
    "    # Groupby\n",
    "    grouped = df.groupby('label')\n",
    "    baseline = grouped.get_group(1)\n",
    "    stress = grouped.get_group(2)\n",
    "    amusement = grouped.get_group(3)\n",
    "    return grouped, baseline, stress, amusement"
   ]
  },
  {
   "cell_type": "markdown",
   "id": "0c0585d3",
   "metadata": {},
   "source": [
    "## Get Samples"
   ]
  },
  {
   "cell_type": "code",
   "execution_count": 117,
   "id": "628ed513",
   "metadata": {},
   "outputs": [],
   "source": [
    "def get_samples(data, n_windows, label):\n",
    "    global feat_names\n",
    "    global WINDOW_IN_SECONDS\n",
    "\n",
    "    samples = []\n",
    "    # Using label freq (700 Hz) as our reference frequency due to it being the largest\n",
    "    # and thus encompassing the lesser ones in its resolution.\n",
    "    window_len = fs_dict['label'] * WINDOW_IN_SECONDS\n",
    "\n",
    "    for i in range(n_windows):\n",
    "        # Get window of data\n",
    "        w = data[window_len * i: window_len * (i + 1)]\n",
    "\n",
    "        # Add/Calc rms acc\n",
    "        w = pd.concat([get_net_accel(w), w])\n",
    "        cols = list(w.columns)\n",
    "        cols[0] = 'net_acc'\n",
    "        w.columns = cols\n",
    "        \n",
    "        w = pd.concat([get_net_accel_C(w), w])\n",
    "        cols = list(w.columns)\n",
    "        cols[0] = 'net_acc_C'\n",
    "        w.columns = cols\n",
    "        \n",
    "        # Calculate stats for window\n",
    "        wstats = get_window_stats(data=w, label=label)\n",
    "        \n",
    "        # Calculate stats for window (ECG)\n",
    "        wstats_ecg = get_window_stats_ecg(data=w, label=label)\n",
    "        \n",
    "        # Seperating sample and label\n",
    "        x = pd.DataFrame(wstats).drop('label', axis=0)\n",
    "        y = x['label'][0]\n",
    "        x.drop('label', axis=1, inplace=True)\n",
    "        \n",
    "        feat_names = None\n",
    "        if feat_names is None:\n",
    "            feat_names = []\n",
    "            for row in x.index:\n",
    "                for col in x.columns:\n",
    "                    feat_names.append('_'.join([str(row), str(col)]))\n",
    "\n",
    "        # sample df\n",
    "        wdf = pd.DataFrame(x.values.flatten()).T\n",
    "        wdf.columns = feat_names\n",
    "        wdf = pd.concat([wdf, pd.DataFrame({'label': y}, index=[0])], axis=1)\n",
    "        \n",
    "        # More feats\n",
    "        wdf['BVP_peak_freq'] = get_peak_freq(w['BVP'].dropna())\n",
    "        \n",
    "        # Add more features here\n",
    "        # ACC (w and c)\n",
    "        wdf['net_acc_abs_integral'] = get_absolute_integral(w['net_acc'].dropna())\n",
    "        wdf['ACC_x_abs_integral'] = get_absolute_integral(w['ACC_x'].dropna())\n",
    "        wdf['ACC_y_abs_integral'] = get_absolute_integral(w['ACC_y'].dropna())\n",
    "        wdf['ACC_z_abs_integral'] = get_absolute_integral(w['ACC_z'].dropna())\n",
    "        wdf['net_acc_C_abs_integral'] = get_absolute_integral(w['net_acc_C'].dropna())\n",
    "        wdf['ACC_x_C_abs_integral'] = get_absolute_integral(w['ACC_x_C'].dropna())\n",
    "        wdf['ACC_y_C_abs_integral'] = get_absolute_integral(w['ACC_y_C'].dropna())\n",
    "        wdf['ACC_z_C_abs_integral'] = get_absolute_integral(w['ACC_z_C'].dropna())\n",
    "        wdf['ACC_x_peak_freq'] = get_peak_freq(w['ACC_x'].dropna())\n",
    "        wdf['ACC_y_peak_freq'] = get_peak_freq(w['ACC_y'].dropna())\n",
    "        wdf['ACC_z_peak_freq'] = get_peak_freq(w['ACC_z'].dropna())\n",
    "        wdf['ACC_x_C_peak_freq'] = None if len(w['ACC_x_C'].dropna()) == 0 else get_peak_freq(w['ACC_x_C'].dropna())\n",
    "        wdf['ACC_y_C_peak_freq'] = None if len(w['ACC_y_C'].dropna()) == 0 else get_peak_freq(w['ACC_y_C'].dropna())\n",
    "        wdf['ACC_z_C_peak_freq'] = None if len(w['ACC_z_C'].dropna()) == 0 else get_peak_freq(w['ACC_z_C'].dropna())\n",
    "        \n",
    "        # ECG\n",
    "        for key in wstats_ecg.keys():\n",
    "            wdf['ECG_'+key] = wstats_ecg[key]\n",
    "        \n",
    "        # EDA(w and c)\n",
    "        wdf['EDA_slope'] = get_slope(w['EDA'].dropna())\n",
    "        wdf['EDA_C_slope'] = None if len(w['ACC_z_C'].dropna()) == 0 else get_slope(w['EDA_C'].dropna())\n",
    "        wdf['EDA_drange'] = get_dynamic_range(w['EDA'].dropna())\n",
    "        wdf['EDA_C_drange'] = None if len(w['EDA_C'].dropna()) == 0 else get_dynamic_range(w['EDA_C'].dropna())\n",
    "\n",
    "        # EMG(c)\n",
    "        wdf['EMG_drange'] = get_dynamic_range(w['EMG_C'].dropna())\n",
    "        wdf['EMG_abs_integral'] = get_absolute_integral(w['EMG_C'].dropna())\n",
    "        # RESP(c)\n",
    "        \n",
    "        if len(w['Resp_C'].dropna()) > 0:\n",
    "            wdf['Resp_C_rate'], wdf['Resp_C_Inhal_mean'], wdf['Resp_C_Inhal_std'], wdf['Resp_C_Exhal_mean'], wdf['Resp_C_Exhal_std'], wdf['Resp_C_I/E'] = get_resp_features(w['Resp_C'].dropna())\n",
    "\n",
    "        # TEMP(w and c)\n",
    "        wdf['TEMP_drange'] = get_dynamic_range(w['TEMP'].dropna())\n",
    "        wdf['TEMP_C_drange'] = None if len(w['Temp_C'].dropna()) == 0 else get_dynamic_range(w['Temp_C'].dropna())\n",
    "        wdf['TEMP_slope'] = get_slope(w['TEMP'].dropna())\n",
    "        wdf['TEMP_C_slope'] = None if len(w['Temp_C'].dropna()) == 0 else get_slope(w['Temp_C'].dropna())\n",
    "        \n",
    "        samples.append(wdf)\n",
    "\n",
    "    return pd.concat(samples)"
   ]
  },
  {
   "cell_type": "markdown",
   "id": "444dd7bb",
   "metadata": {},
   "source": [
    "## Make Patient Data"
   ]
  },
  {
   "cell_type": "code",
   "execution_count": 118,
   "id": "6821e412",
   "metadata": {
    "scrolled": true
   },
   "outputs": [],
   "source": [
    "def make_patient_data(subject_id):\n",
    "    global savePath\n",
    "    global WINDOW_IN_SECONDS\n",
    "\n",
    "    # Make subject data object for Sx\n",
    "    subject = SubjectData(main_path='data/WESAD', subject_number=subject_id)\n",
    "\n",
    "    # Empatica E4 data - now with resp\n",
    "    e4_data_dict = subject.get_wrist_data()\n",
    "    \n",
    "    # Chest data\n",
    "    ch_data_dict = subject.get_chest_data()\n",
    "\n",
    "    # norm type\n",
    "    norm_type = None\n",
    "\n",
    "    # The 3 classes we are classifying\n",
    "    grouped, baseline, stress, amusement = compute_features(e4_data_dict, ch_data_dict, subject.labels, norm_type)\n",
    "\n",
    "    # print(f'Available windows for {subject.name}:')\n",
    "    n_baseline_wdws = int(len(baseline) / (fs_dict['label'] * WINDOW_IN_SECONDS))\n",
    "    n_stress_wdws = int(len(stress) / (fs_dict['label'] * WINDOW_IN_SECONDS))\n",
    "    n_amusement_wdws = int(len(amusement) / (fs_dict['label'] * WINDOW_IN_SECONDS))\n",
    "    # print(f'Baseline: {n_baseline_wdws}\\nStress: {n_stress_wdws}\\nAmusement: {n_amusement_wdws}\\n')\n",
    "\n",
    "    #\n",
    "    baseline_samples = get_samples(baseline, n_baseline_wdws, 1)\n",
    "#     for col in baseline_samples.columns:\n",
    "#         print(col)\n",
    "     # Downsampling\n",
    "    # baseline_samples = baseline_samples[::2]\n",
    "    stress_samples = get_samples(stress, n_stress_wdws, 2)\n",
    "    amusement_samples = get_samples(amusement, n_amusement_wdws, 0)\n",
    "\n",
    "    all_samples = pd.concat([baseline_samples, stress_samples, amusement_samples])\n",
    "    all_samples = pd.concat([all_samples.drop('label', axis=1), pd.get_dummies(all_samples['label'])], axis=1)\n",
    "    # Save file as csv\n",
    "    all_samples.to_csv(f'{savePath}{subject_feature_path}/S{subject_id}_feats_4.csv')\n",
    "\n",
    "    subject = None"
   ]
  },
  {
   "cell_type": "markdown",
   "id": "6e7a131f",
   "metadata": {},
   "source": [
    "## Combine Patient Files"
   ]
  },
  {
   "cell_type": "code",
   "execution_count": null,
   "id": "53da46c6",
   "metadata": {
    "scrolled": false
   },
   "outputs": [
    {
     "name": "stdout",
     "output_type": "stream",
     "text": [
      "Processing data for S2...\n",
      "     pcost       dcost       gap    pres   dres\n",
      " 0: -1.2093e+04 -1.2039e+04  5e+04  2e+02  2e-01\n",
      " 1: -1.2093e+04 -2.0218e+04  1e+04  4e+01  5e-02\n",
      " 2: -1.2100e+04 -1.5246e+04  3e+03  1e+01  1e-02\n",
      " 3: -1.2100e+04 -1.3551e+04  1e+03  4e+00  5e-03\n",
      " 4: -1.2097e+04 -1.2876e+04  8e+02  2e+00  2e-03\n",
      " 5: -1.2092e+04 -1.2599e+04  5e+02  8e-01  1e-03\n",
      " 6: -1.2089e+04 -1.2320e+04  2e+02  3e-01  4e-04\n",
      " 7: -1.2102e+04 -1.2158e+04  6e+01  2e-02  3e-05\n",
      " 8: -1.2127e+04 -1.2148e+04  2e+01  6e-03  8e-06\n",
      " 9: -1.2137e+04 -1.2146e+04  9e+00  2e-03  2e-06\n",
      "10: -1.2142e+04 -1.2146e+04  4e+00  5e-04  6e-07\n",
      "11: -1.2144e+04 -1.2145e+04  1e+00  1e-04  2e-07\n",
      "12: -1.2145e+04 -1.2145e+04  5e-01  2e-05  3e-08\n",
      "13: -1.2145e+04 -1.2145e+04  2e-01  5e-06  6e-09\n",
      "14: -1.2145e+04 -1.2145e+04  7e-02  1e-06  2e-09\n",
      "15: -1.2145e+04 -1.2145e+04  2e-02  3e-07  3e-10\n",
      "16: -1.2145e+04 -1.2145e+04  5e-03  3e-08  4e-11\n",
      "17: -1.2145e+04 -1.2145e+04  2e-03  6e-09  8e-12\n",
      "18: -1.2145e+04 -1.2145e+04  4e-04  7e-10  9e-13\n",
      "19: -1.2145e+04 -1.2145e+04  1e-04  2e-10  2e-13\n",
      "20: -1.2145e+04 -1.2145e+04  3e-05  2e-11  3e-14\n",
      "21: -1.2145e+04 -1.2145e+04  5e-06  4e-12  2e-14\n",
      "Optimal solution found.\n",
      "EDA           8851024\n",
      "EDA_SCR       8851024\n",
      "EDA_SCL       8851024\n",
      "EDA_phasic    8851024\n",
      "EDA_smna      8851024\n",
      "EDA_tonic     8851024\n",
      "BVP           8486284\n",
      "TEMP          8851024\n",
      "ACC_x         8680812\n",
      "ACC_y         8680812\n",
      "ACC_z         8680812\n",
      "label         4255300\n",
      "ECG           4620040\n",
      "EDA_C         4620040\n",
      "EDA_SCR_C     4620040\n",
      "EDA_SCL_C     4620040\n",
      "ACC_x_C       4620040\n",
      "ACC_y_C       4620040\n",
      "ACC_z_C       4620040\n",
      "EMG_C         4620040\n",
      "Resp_C        4620040\n",
      "Temp_C        4620040\n",
      "dtype: int64\n",
      "Processing data for S3...\n",
      "     pcost       dcost       gap    pres   dres\n",
      " 0: -1.2964e+04 -1.2924e+04  5e+04  2e+02  2e-01\n",
      " 1: -1.2950e+04 -1.7544e+04  5e+03  2e+01  2e-02\n",
      " 2: -1.2952e+04 -1.3618e+04  7e+02  3e+00  2e-03\n",
      " 3: -1.2951e+04 -1.3155e+04  2e+02  7e-01  5e-04\n",
      " 4: -1.2953e+04 -1.3016e+04  6e+01  1e-01  1e-04\n",
      " 5: -1.2971e+04 -1.2985e+04  1e+01  2e-02  1e-05\n",
      " 6: -1.2978e+04 -1.2983e+04  6e+00  5e-03  4e-06\n",
      " 7: -1.2981e+04 -1.2983e+04  2e+00  1e-03  1e-06\n",
      " 8: -1.2982e+04 -1.2983e+04  9e-01  3e-04  2e-07\n",
      " 9: -1.2983e+04 -1.2983e+04  3e-01  8e-05  6e-08\n",
      "10: -1.2983e+04 -1.2983e+04  2e-01  3e-05  2e-08\n",
      "11: -1.2983e+04 -1.2983e+04  5e-02  5e-06  3e-09\n",
      "12: -1.2983e+04 -1.2983e+04  1e-02  8e-07  6e-10\n",
      "13: -1.2983e+04 -1.2983e+04  4e-03  9e-08  6e-11\n",
      "14: -1.2983e+04 -1.2983e+04  9e-04  1e-08  8e-12\n",
      "15: -1.2983e+04 -1.2983e+04  4e-04  3e-09  2e-12\n",
      "16: -1.2983e+04 -1.2983e+04  1e-04  5e-10  4e-13\n",
      "17: -1.2983e+04 -1.2983e+04  3e-05  6e-11  4e-14\n",
      "18: -1.2983e+04 -1.2983e+04  6e-06  6e-12  8e-15\n",
      "Optimal solution found.\n"
     ]
    }
   ],
   "source": [
    "def combine_files(subjects):\n",
    "    df_list = []\n",
    "    for s in subjects:\n",
    "        df = pd.read_csv(f'{savePath}{subject_feature_path}/S{s}_feats_4.csv', index_col=0)\n",
    "        df['subject'] = s\n",
    "        df_list.append(df)\n",
    "\n",
    "    df = pd.concat(df_list)\n",
    "\n",
    "    df['label'] = (df['0'].astype(str) + df['1'].astype(str) + df['2'].astype(str)).apply(lambda x: x.index('1'))\n",
    "    df.drop(['0', '1', '2'], axis=1, inplace=True)\n",
    "\n",
    "    df.reset_index(drop=True, inplace=True)\n",
    "\n",
    "    df.to_csv(f'{savePath}/may14_feats4.csv')\n",
    "\n",
    "    counts = df['label'].value_counts()\n",
    "    print('Number of samples per class:')\n",
    "    for label, number in zip(counts.index, counts.values):\n",
    "        print(f'{int_to_label[label]}: {number}')\n",
    "\n",
    "\n",
    "if __name__ == '__main__':\n",
    "\n",
    "    subject_ids = [2, 3, 4, 5, 6, 7, 8, 9, 10, 11, 13, 14, 15, 16, 17]\n",
    "\n",
    "    for patient in subject_ids:\n",
    "        print(f'Processing data for S{patient}...')\n",
    "        make_patient_data(patient)\n",
    "\n",
    "    combine_files(subject_ids)\n",
    "    print('Processing complete.')"
   ]
  },
  {
   "cell_type": "markdown",
   "id": "830cd5aa",
   "metadata": {},
   "source": [
    "## Add Demographic Data"
   ]
  },
  {
   "cell_type": "code",
   "execution_count": null,
   "id": "b79b4632",
   "metadata": {},
   "outputs": [],
   "source": [
    "class rparser:\n",
    "    # Code adapted from https://github.com/arsen-movsesyan/springboard_WESAD/blob/master/parsers/readme_parser.py\n",
    "    VALUE_EXTRACT_KEYS = {\n",
    "        \"age\": {\n",
    "            'search_key': 'Age',\n",
    "            'delimiter': ':'\n",
    "        },\n",
    "        \"height\": {\n",
    "            'search_key': 'Height',\n",
    "            'delimiter': ':'\n",
    "        },\n",
    "        \"weight\": {\n",
    "            'search_key': 'Weight',\n",
    "            'delimiter': ':'\n",
    "        },\n",
    "        \"gender\": {\n",
    "            'search_key': 'Gender',\n",
    "            'delimiter': ':'\n",
    "        },\n",
    "        \"dominant_hand\": {\n",
    "            'search_key': 'Dominant',\n",
    "            'delimiter': ':'\n",
    "        },\n",
    "        \"coffee_today\": {\n",
    "            'search_key': 'Did you drink coffee today',\n",
    "            'delimiter': '? '\n",
    "        },\n",
    "        \"coffee_last_hour\": {\n",
    "            'search_key': 'Did you drink coffee within the last hour',\n",
    "            'delimiter': '? '\n",
    "        },\n",
    "        \"sport_today\": {\n",
    "            'search_key': 'Did you do any sports today',\n",
    "            'delimiter': '? '\n",
    "        },\n",
    "        \"smoker\": {\n",
    "            'search_key': 'Are you a smoker',\n",
    "            'delimiter': '? '\n",
    "        },\n",
    "        \"smoke_last_hour\": {\n",
    "            'search_key': 'Did you smoke within the last hour',\n",
    "            'delimiter': '? '\n",
    "        },\n",
    "        \"feel_ill_today\": {\n",
    "            'search_key': 'Do you feel ill today',\n",
    "            'delimiter': '? '\n",
    "        }\n",
    "    }\n",
    "    \n",
    "    DATA_PATH = 'data/WESAD/'\n",
    "    parse_file_suffix = '_readme.txt'\n",
    "    \n",
    "    \n",
    "    def __init__(self):\n",
    "        \n",
    "        self.readme_locations = {subject_directory: self.DATA_PATH + subject_directory + '/' \n",
    "                          for subject_directory in os.listdir(self.DATA_PATH)\n",
    "                              if re.match('^S[0-9]{1,2}$', subject_directory)}\n",
    "        \n",
    "        # Check if parsed readme file is available ( should be as it is saved above )\n",
    "        if not os.path.isfile('data/readmes.csv'):\n",
    "            print('Parsing Readme files')\n",
    "            self.parse_all_readmes()\n",
    "        else:\n",
    "            print('Files already parsed.')\n",
    "            \n",
    "        self.merge_with_feature_data()\n",
    "        \n",
    "        \n",
    "    def parse_readme(self, subject_id):\n",
    "        with open(self.readme_locations[subject_id] + subject_id + self.parse_file_suffix, 'r') as f:\n",
    "\n",
    "            x = f.read().split('\\n')\n",
    "\n",
    "        readme_dict = {}\n",
    "\n",
    "        for item in x:\n",
    "            for key in self.VALUE_EXTRACT_KEYS.keys():\n",
    "                search_key = self.VALUE_EXTRACT_KEYS[key]['search_key']\n",
    "                delimiter = self.VALUE_EXTRACT_KEYS[key]['delimiter']\n",
    "                if item.startswith(search_key):\n",
    "                    d, v = item.split(delimiter)\n",
    "                    readme_dict.update({key: v})\n",
    "                    break\n",
    "        return readme_dict\n",
    "\n",
    "\n",
    "    def parse_all_readmes(self):\n",
    "        \n",
    "        dframes = []\n",
    "\n",
    "        for subject_id, path in self.readme_locations.items():\n",
    "            readme_dict = self.parse_readme(subject_id)\n",
    "            df = pd.DataFrame(readme_dict, index=[subject_id])\n",
    "            dframes.append(df)\n",
    "\n",
    "        df = pd.concat(dframes)\n",
    "        df.to_csv(self.DATA_PATH + 'readmes.csv')\n",
    "\n",
    "        \n",
    "    def merge_with_feature_data(self):\n",
    "        # Confirm feature files are available\n",
    "        if os.path.isfile('data/may14_feats4.csv'):\n",
    "            feat_df = pd.read_csv('data/may14_feats4.csv', index_col=0)\n",
    "            print(feat_df.info())\n",
    "        else:\n",
    "            print('No feature data available. Exiting...')\n",
    "            return\n",
    "           \n",
    "        # Combine data and save\n",
    "        df = pd.read_csv(f'{self.DATA_PATH}readmes.csv', index_col=0)\n",
    "\n",
    "        dummy_df = pd.get_dummies(df)\n",
    "        \n",
    "        dummy_df['subject'] = dummy_df.index.str[1:].astype(int)\n",
    "\n",
    "        dummy_df = dummy_df[['age', 'height', 'weight', 'gender_ female', 'gender_ male',\n",
    "                           'coffee_today_YES', 'sport_today_YES', 'smoker_NO', 'smoker_YES',\n",
    "                           'feel_ill_today_YES', 'subject']]\n",
    "\n",
    "        merged_df = pd.merge(feat_df, dummy_df, on='subject')\n",
    "\n",
    "        merged_df.to_csv('data/m14_merged.csv')\n",
    "        "
   ]
  },
  {
   "cell_type": "code",
   "execution_count": null,
   "id": "d0b5c59b",
   "metadata": {},
   "outputs": [],
   "source": [
    "rp = rparser()"
   ]
  },
  {
   "cell_type": "markdown",
   "id": "9c12d804",
   "metadata": {},
   "source": [
    "# Data Preparation"
   ]
  },
  {
   "cell_type": "code",
   "execution_count": 251,
   "id": "3385104c",
   "metadata": {},
   "outputs": [],
   "source": [
    "df = pd.read_csv('data/m14_merged.csv', index_col=0)\n",
    "pd.set_option('display.max_columns', None) "
   ]
  },
  {
   "cell_type": "code",
   "execution_count": 252,
   "id": "e4de70d4",
   "metadata": {},
   "outputs": [
    {
     "data": {
      "text/html": [
       "<div>\n",
       "<style scoped>\n",
       "    .dataframe tbody tr th:only-of-type {\n",
       "        vertical-align: middle;\n",
       "    }\n",
       "\n",
       "    .dataframe tbody tr th {\n",
       "        vertical-align: top;\n",
       "    }\n",
       "\n",
       "    .dataframe thead th {\n",
       "        text-align: right;\n",
       "    }\n",
       "</style>\n",
       "<table border=\"1\" class=\"dataframe\">\n",
       "  <thead>\n",
       "    <tr style=\"text-align: right;\">\n",
       "      <th></th>\n",
       "      <th>ECG_bpm</th>\n",
       "      <th>label</th>\n",
       "    </tr>\n",
       "  </thead>\n",
       "  <tbody>\n",
       "    <tr>\n",
       "      <th>ECG_bpm</th>\n",
       "      <td>1.000000</td>\n",
       "      <td>0.536791</td>\n",
       "    </tr>\n",
       "    <tr>\n",
       "      <th>label</th>\n",
       "      <td>0.536791</td>\n",
       "      <td>1.000000</td>\n",
       "    </tr>\n",
       "  </tbody>\n",
       "</table>\n",
       "</div>"
      ],
      "text/plain": [
       "          ECG_bpm     label\n",
       "ECG_bpm  1.000000  0.536791\n",
       "label    0.536791  1.000000"
      ]
     },
     "execution_count": 252,
     "metadata": {},
     "output_type": "execute_result"
    }
   ],
   "source": [
    "df[['ECG_bpm', 'label']].corr()"
   ]
  },
  {
   "cell_type": "code",
   "execution_count": 253,
   "id": "d019ea6c",
   "metadata": {
    "scrolled": true
   },
   "outputs": [
    {
     "name": "stdout",
     "output_type": "stream",
     "text": [
      "net_acc_mean\n",
      "net_acc_std\n",
      "net_acc_min\n",
      "net_acc_max\n",
      "net_acc_bpm\n",
      "net_acc_ibi\n",
      "net_acc_sdnn\n",
      "net_acc_sdsd\n",
      "net_acc_rmssd\n",
      "net_acc_pnn20\n",
      "net_acc_pnn50\n",
      "EDA_phasic_mean\n",
      "EDA_phasic_std\n",
      "EDA_phasic_min\n",
      "EDA_phasic_max\n",
      "EDA_phasic_bpm\n",
      "EDA_phasic_ibi\n",
      "EDA_phasic_sdnn\n",
      "EDA_phasic_sdsd\n",
      "EDA_phasic_rmssd\n",
      "EDA_phasic_pnn20\n",
      "EDA_phasic_pnn50\n",
      "EDA_smna_mean\n",
      "EDA_smna_std\n",
      "EDA_smna_min\n",
      "EDA_smna_max\n",
      "EDA_smna_bpm\n",
      "EDA_smna_ibi\n",
      "EDA_smna_sdnn\n",
      "EDA_smna_sdsd\n",
      "EDA_smna_rmssd\n",
      "EDA_smna_pnn20\n",
      "EDA_smna_pnn50\n",
      "EDA_tonic_mean\n",
      "EDA_tonic_std\n",
      "EDA_tonic_min\n",
      "EDA_tonic_max\n",
      "EDA_tonic_bpm\n",
      "EDA_tonic_ibi\n",
      "EDA_tonic_sdnn\n",
      "EDA_tonic_sdsd\n",
      "EDA_tonic_rmssd\n",
      "EDA_tonic_pnn20\n",
      "EDA_tonic_pnn50\n",
      "BVP_mean\n",
      "BVP_std\n",
      "BVP_min\n",
      "BVP_max\n",
      "BVP_bpm\n",
      "BVP_ibi\n",
      "BVP_sdnn\n",
      "BVP_sdsd\n",
      "BVP_rmssd\n",
      "BVP_pnn20\n",
      "BVP_pnn50\n",
      "TEMP_mean\n",
      "TEMP_std\n",
      "TEMP_min\n",
      "TEMP_max\n",
      "TEMP_bpm\n",
      "TEMP_ibi\n",
      "TEMP_sdnn\n",
      "TEMP_sdsd\n",
      "TEMP_rmssd\n",
      "TEMP_pnn20\n",
      "TEMP_pnn50\n",
      "ACC_x_mean\n",
      "ACC_x_std\n",
      "ACC_x_min\n",
      "ACC_x_max\n",
      "ACC_x_bpm\n",
      "ACC_x_ibi\n",
      "ACC_x_sdnn\n",
      "ACC_x_sdsd\n",
      "ACC_x_rmssd\n",
      "ACC_x_pnn20\n",
      "ACC_x_pnn50\n",
      "ACC_y_mean\n",
      "ACC_y_std\n",
      "ACC_y_min\n",
      "ACC_y_max\n",
      "ACC_y_bpm\n",
      "ACC_y_ibi\n",
      "ACC_y_sdnn\n",
      "ACC_y_sdsd\n",
      "ACC_y_rmssd\n",
      "ACC_y_pnn20\n",
      "ACC_y_pnn50\n",
      "ACC_z_mean\n",
      "ACC_z_std\n",
      "ACC_z_min\n",
      "ACC_z_max\n",
      "ACC_z_bpm\n",
      "ACC_z_ibi\n",
      "ACC_z_sdnn\n",
      "ACC_z_sdsd\n",
      "ACC_z_rmssd\n",
      "ACC_z_pnn20\n",
      "ACC_z_pnn50\n",
      "Resp_mean\n",
      "Resp_std\n",
      "Resp_min\n",
      "Resp_max\n",
      "Resp_bpm\n",
      "Resp_ibi\n",
      "Resp_sdnn\n",
      "Resp_sdsd\n",
      "Resp_rmssd\n",
      "Resp_pnn20\n",
      "Resp_pnn50\n",
      "ECG_mean\n",
      "ECG_std\n",
      "ECG_min\n",
      "ECG_max\n",
      "ECG_bpm\n",
      "ECG_ibi\n",
      "ECG_sdnn\n",
      "ECG_sdsd\n",
      "ECG_rmssd\n",
      "ECG_pnn20\n",
      "ECG_pnn50\n",
      "0_mean\n",
      "0_std\n",
      "0_min\n",
      "0_max\n",
      "0_bpm\n",
      "0_ibi\n",
      "0_sdnn\n",
      "0_sdsd\n",
      "0_rmssd\n",
      "0_pnn20\n",
      "0_pnn50\n",
      "BVP_peak_freq\n",
      "TEMP_slope\n",
      "subject\n",
      "label\n",
      "age\n",
      "height\n",
      "weight\n",
      "gender_ female\n",
      "gender_ male\n",
      "coffee_today_YES\n",
      "sport_today_YES\n",
      "smoker_NO\n",
      "smoker_YES\n",
      "feel_ill_today_YES\n"
     ]
    }
   ],
   "source": [
    "for column in df.columns:\n",
    "    print(column)"
   ]
  },
  {
   "cell_type": "code",
   "execution_count": 254,
   "id": "308a8bc7",
   "metadata": {},
   "outputs": [
    {
     "data": {
      "text/html": [
       "<div>\n",
       "<style scoped>\n",
       "    .dataframe tbody tr th:only-of-type {\n",
       "        vertical-align: middle;\n",
       "    }\n",
       "\n",
       "    .dataframe tbody tr th {\n",
       "        vertical-align: top;\n",
       "    }\n",
       "\n",
       "    .dataframe thead th {\n",
       "        text-align: right;\n",
       "    }\n",
       "</style>\n",
       "<table border=\"1\" class=\"dataframe\">\n",
       "  <thead>\n",
       "    <tr style=\"text-align: right;\">\n",
       "      <th></th>\n",
       "      <th>0_mean</th>\n",
       "      <th>0_std</th>\n",
       "      <th>0_min</th>\n",
       "      <th>0_max</th>\n",
       "    </tr>\n",
       "  </thead>\n",
       "  <tbody>\n",
       "    <tr>\n",
       "      <th>0</th>\n",
       "      <td>0.029937</td>\n",
       "      <td>0.009942</td>\n",
       "      <td>0.000000</td>\n",
       "      <td>0.087383</td>\n",
       "    </tr>\n",
       "    <tr>\n",
       "      <th>1</th>\n",
       "      <td>0.021986</td>\n",
       "      <td>0.015845</td>\n",
       "      <td>0.000000</td>\n",
       "      <td>0.071558</td>\n",
       "    </tr>\n",
       "    <tr>\n",
       "      <th>2</th>\n",
       "      <td>0.020839</td>\n",
       "      <td>0.011034</td>\n",
       "      <td>0.002752</td>\n",
       "      <td>0.054356</td>\n",
       "    </tr>\n",
       "    <tr>\n",
       "      <th>3</th>\n",
       "      <td>0.034449</td>\n",
       "      <td>0.003185</td>\n",
       "      <td>0.013761</td>\n",
       "      <td>0.040595</td>\n",
       "    </tr>\n",
       "    <tr>\n",
       "      <th>4</th>\n",
       "      <td>0.028870</td>\n",
       "      <td>0.004379</td>\n",
       "      <td>0.013761</td>\n",
       "      <td>0.038531</td>\n",
       "    </tr>\n",
       "    <tr>\n",
       "      <th>...</th>\n",
       "      <td>...</td>\n",
       "      <td>...</td>\n",
       "      <td>...</td>\n",
       "      <td>...</td>\n",
       "    </tr>\n",
       "    <tr>\n",
       "      <th>1173</th>\n",
       "      <td>0.033900</td>\n",
       "      <td>0.000894</td>\n",
       "      <td>0.028898</td>\n",
       "      <td>0.038531</td>\n",
       "    </tr>\n",
       "    <tr>\n",
       "      <th>1174</th>\n",
       "      <td>0.032774</td>\n",
       "      <td>0.002033</td>\n",
       "      <td>0.028898</td>\n",
       "      <td>0.041283</td>\n",
       "    </tr>\n",
       "    <tr>\n",
       "      <th>1175</th>\n",
       "      <td>0.028112</td>\n",
       "      <td>0.001486</td>\n",
       "      <td>0.024770</td>\n",
       "      <td>0.031650</td>\n",
       "    </tr>\n",
       "    <tr>\n",
       "      <th>1176</th>\n",
       "      <td>0.027860</td>\n",
       "      <td>0.000512</td>\n",
       "      <td>0.026146</td>\n",
       "      <td>0.028898</td>\n",
       "    </tr>\n",
       "    <tr>\n",
       "      <th>1177</th>\n",
       "      <td>0.027939</td>\n",
       "      <td>0.000709</td>\n",
       "      <td>0.025458</td>\n",
       "      <td>0.035779</td>\n",
       "    </tr>\n",
       "  </tbody>\n",
       "</table>\n",
       "<p>1178 rows × 4 columns</p>\n",
       "</div>"
      ],
      "text/plain": [
       "        0_mean     0_std     0_min     0_max\n",
       "0     0.029937  0.009942  0.000000  0.087383\n",
       "1     0.021986  0.015845  0.000000  0.071558\n",
       "2     0.020839  0.011034  0.002752  0.054356\n",
       "3     0.034449  0.003185  0.013761  0.040595\n",
       "4     0.028870  0.004379  0.013761  0.038531\n",
       "...        ...       ...       ...       ...\n",
       "1173  0.033900  0.000894  0.028898  0.038531\n",
       "1174  0.032774  0.002033  0.028898  0.041283\n",
       "1175  0.028112  0.001486  0.024770  0.031650\n",
       "1176  0.027860  0.000512  0.026146  0.028898\n",
       "1177  0.027939  0.000709  0.025458  0.035779\n",
       "\n",
       "[1178 rows x 4 columns]"
      ]
     },
     "execution_count": 254,
     "metadata": {},
     "output_type": "execute_result"
    }
   ],
   "source": [
    "df[['0_mean', '0_std', '0_min', '0_max']]"
   ]
  },
  {
   "cell_type": "code",
   "execution_count": 255,
   "id": "c2ed895b",
   "metadata": {},
   "outputs": [],
   "source": [
    "features = ['net_acc_mean', 'net_acc_std', 'net_acc_min', 'net_acc_max',\n",
    "           'BVP_mean', 'BVP_std', 'BVP_min', 'BVP_max', \n",
    "            #'EDA_mean', 'EDA_std', 'EDA_min', 'EDA_max',\n",
    "            'EDA_phasic_mean', 'EDA_phasic_std', 'EDA_phasic_min', 'EDA_phasic_max',\n",
    "            'EDA_smna_mean', 'EDA_smna_std', 'EDA_smna_min', 'EDA_smna_max',\n",
    "            'EDA_tonic_mean', 'EDA_tonic_std', 'EDA_tonic_min', 'EDA_tonic_max',\n",
    "            'TEMP_mean', 'TEMP_std', 'TEMP_min', 'TEMP_max',\n",
    "           'ACC_x_mean', 'ACC_x_std', 'ACC_x_min', 'ACC_x_max',\n",
    "           'ACC_y_mean', 'ACC_y_std', 'ACC_y_min', 'ACC_y_max',\n",
    "           'ACC_z_mean', 'ACC_z_std', 'ACC_z_min', 'ACC_z_max',\n",
    "           'Resp_mean', 'Resp_std', 'Resp_min', 'Resp_max',\n",
    "           'ECG_bpm', 'ECG_ibi', 'ECG_sdnn', 'ECG_sdsd', 'ECG_rmssd',\n",
    "           'ECG_pnn20', 'ECG_pnn50', 'BVP_peak_freq', 'TEMP_slope',\n",
    "           'subject', 'age', 'height', 'weight', 'gender_ female',\n",
    "           'gender_ male', 'coffee_today_YES', 'sport_today_YES',\n",
    "           'smoker_NO', 'smoker_YES', 'feel_ill_today_YES', 'label']"
   ]
  },
  {
   "cell_type": "code",
   "execution_count": 256,
   "id": "963cd42f",
   "metadata": {},
   "outputs": [
    {
     "data": {
      "image/png": "[encoded data removed]",
      "text/plain": [
       "<Figure size 1152x720 with 2 Axes>"
      ]
     },
     "metadata": {
      "needs_background": "light"
     },
     "output_type": "display_data"
    }
   ],
   "source": [
    "corr = df.corr()\n",
    "plt.figure(figsize=(16,10))\n",
    "sns.heatmap(corr);"
   ]
  },
  {
   "cell_type": "code",
   "execution_count": 257,
   "id": "3a6898be",
   "metadata": {},
   "outputs": [],
   "source": [
    "X = df.drop('label', axis=1).values\n",
    "y = df['label'].values\n",
    "\n",
    "X_train, X_test, y_train, y_test = train_test_split(X, y, test_size=0.2, random_state=0)  "
   ]
  },
  {
   "cell_type": "markdown",
   "id": "95a4ee52",
   "metadata": {},
   "source": [
    "# Modeling"
   ]
  },
  {
   "cell_type": "markdown",
   "id": "ffc9b03e",
   "metadata": {},
   "source": [
    "## Linear Discriminant Analysis"
   ]
  },
  {
   "cell_type": "code",
   "execution_count": 258,
   "id": "471cf325",
   "metadata": {},
   "outputs": [],
   "source": [
    "sc = StandardScaler()  \n",
    "X_train = sc.fit_transform(X_train)  \n",
    "X_test = sc.transform(X_test)  \n",
    "\n",
    "\n",
    "lda = LinearDiscriminantAnalysis()\n",
    "lda.fit(X_train, y_train)\n",
    "y_pred = lda.predict(X_test)"
   ]
  },
  {
   "cell_type": "code",
   "execution_count": 259,
   "id": "453f0a0e",
   "metadata": {},
   "outputs": [
    {
     "name": "stdout",
     "output_type": "stream",
     "text": [
      "[[ 22  20   1]\n",
      " [  9 116   1]\n",
      " [  1   2  64]]\n",
      "Accuracy: 0.8559322033898306\n"
     ]
    }
   ],
   "source": [
    "cm = confusion_matrix(y_test, y_pred)  \n",
    "print(cm)  \n",
    "print('Accuracy: ' + str(accuracy_score(y_test, y_pred)))  "
   ]
  },
  {
   "cell_type": "markdown",
   "id": "0e58bc21",
   "metadata": {},
   "source": [
    "## Random Forest Classifier"
   ]
  },
  {
   "cell_type": "code",
   "execution_count": 85,
   "id": "2410057b",
   "metadata": {},
   "outputs": [],
   "source": [
    "classifier = RandomForestClassifier(max_depth=4, random_state=0)\n",
    "classifier.fit(X_train, y_train)  \n",
    "y_pred = classifier.predict(X_test)  "
   ]
  },
  {
   "cell_type": "code",
   "execution_count": 86,
   "id": "a3eed821",
   "metadata": {},
   "outputs": [
    {
     "name": "stdout",
     "output_type": "stream",
     "text": [
      "[[ 14  28   1]\n",
      " [  1 124   1]\n",
      " [  0   9  58]]\n",
      "Accuracy: 0.8305084745762712\n"
     ]
    }
   ],
   "source": [
    "cm = confusion_matrix(y_test, y_pred)  \n",
    "print(cm)  \n",
    "print('Accuracy: ' + str(accuracy_score(y_test, y_pred)))  "
   ]
  },
  {
   "cell_type": "markdown",
   "id": "ac1af563",
   "metadata": {},
   "source": [
    "## Support Vector Machine"
   ]
  },
  {
   "cell_type": "code",
   "execution_count": 88,
   "id": "0416733b",
   "metadata": {},
   "outputs": [
    {
     "name": "stdout",
     "output_type": "stream",
     "text": [
      "              precision    recall  f1-score   support\n",
      "\n",
      "           0     0.7500    0.4186    0.5373        43\n",
      "           1     0.8345    0.9206    0.8755       126\n",
      "           2     0.8904    0.9701    0.9286        67\n",
      "\n",
      "    accuracy                         0.8432       236\n",
      "   macro avg     0.8250    0.7698    0.7805       236\n",
      "weighted avg     0.8350    0.8432    0.8289       236\n",
      "\n"
     ]
    }
   ],
   "source": [
    "# Create a SVC classifier using a linear kernel\n",
    "clf = SVC(kernel='linear', C=1, random_state=0)\n",
    "# Train the classifier\n",
    "clf.fit(X_train, y_train)\n",
    "\n",
    "#Predict the response for test dataset\n",
    "y_out = clf.predict(X_test)\n",
    "lm_svc=(classification_report(y_test, y_out, digits=4))\n",
    "print(lm_svc)"
   ]
  },
  {
   "cell_type": "markdown",
   "id": "014b3084",
   "metadata": {},
   "source": [
    "# Adding Noise"
   ]
  },
  {
   "cell_type": "markdown",
   "id": "0d737390",
   "metadata": {},
   "source": [
    "## Signal to Noise Ratio"
   ]
  },
  {
   "cell_type": "markdown",
   "id": "b099bbe0",
   "metadata": {},
   "source": [
    "For a non-constant signal $S$ and noise $N$, the signal to noise ratio is defined as the following:\n",
    "$$ SNR = \\frac{\\mathbb{E}[S^2]}{\\mathbb{E}[N^2]} $$"
   ]
  },
  {
   "cell_type": "markdown",
   "id": "5d70b232",
   "metadata": {},
   "source": [
    "The expected value $\\mathbb{E}[X]$ of any continuous random variable $X$ is $\\int_{-\\infty}^{\\infty} x p(x) dx $, where $p(x)$ is its associated probability density function."
   ]
  },
  {
   "cell_type": "markdown",
   "id": "3aa6d01d",
   "metadata": {},
   "source": [
    "For homoskedastic noise, we can use closed form expressions to compute $E[N^2]$.\n",
    "\n",
    "- For Gaussian distributed noise $N$ ~ $n(\\mu, \\sigma^2)$, notice that $\\text{V}[N] = \\mathbb{E}[N^2] - (\\mathbb{E}[N])^2,$ so $\\mathbb{E}[N^2] = \\text{V}[N] + (\\mathbb{E}[N])^2 = \\sigma^2 + \\mu$. In our case $\\mu = 0$, so $\\mathbb{E}[N^2] = \\sigma^2$.\n",
    "\n",
    "- For uniformly distributed noise $N$ ~ $u(\\alpha, \\beta)$, by the same logic as above $\\mathbb{E}[N^2] = \\left(\\frac{\\alpha - \\beta}{2}\\right)^2$.\n",
    "\n",
    "- For frequency-domain noise $N$ of the form $A\\sin(2\\pi x \\frac{1}{f}) + y, \\mathbb{E}[N^2] \\approx y^2 + \\frac{A^2}{2}$. Note the $\\approx$ since we cannot guarantee that the signal will end precisely on the end of the sin wave.\n",
    "\n",
    "For heteroskedastic noise, because there is no closed form expression, we simply take `N.mean()` where $N$ is our noise"
   ]
  },
  {
   "cell_type": "code",
   "execution_count": 106,
   "id": "beccc63a",
   "metadata": {},
   "outputs": [],
   "source": [
    "def signal_to_noise_ratio(signal, noise_type, noise_dist, noise=None, sigma=None, alpha=None, beta=None, \n",
    "                          vertical_shift=None, amplitude=None):\n",
    "    \"\"\"\n",
    "    Function: Computes the signal to noise ratio for a given signal and its corresponding noise.\n",
    "    \n",
    "    :param:\n",
    "        signal (array or ndarray): The signal we are evaluating\n",
    "        noise_type (string): 'Heteroskedastic' or 'Homoskedastic'\n",
    "        noise_dist (string): 'Uniform', 'Gaussian', or 'Frequency' for now\n",
    "        noise (array or ndarray): Only passed in if we have heteroskedastic noise\n",
    "        sigma (float): Sigma parameter of the gaussian\n",
    "        alpha (float): Alpha parameter of the uniform\n",
    "        beta (float): Beta parameter of the uniform\n",
    "        vertical_shift (float): Vertical shift parameter of the frequency\n",
    "        amplitude (float): Amplitude parameter of the frequency\n",
    "        \n",
    "    :return\n",
    "        signal_to_noise_ratio (float): Signal to noise ratio... E[S^2]/E[N^2]\n",
    "    \"\"\"\n",
    "    \n",
    "    # Calculate E[S^2]\n",
    "    e_s2 = (signal**2).mean()\n",
    "    e_n2 = None\n",
    "    \n",
    "    if noise_type == 'Homoskedastic':\n",
    "        # Calculate E[N^2] for the pertinent case\n",
    "        if noise_dist == 'Uniform':\n",
    "            e_n2 = (0.5*(alpha - beta))**2\n",
    "        elif noise_dist == 'Gaussian':\n",
    "            e_n2 = sigma**2\n",
    "        elif noise_dist == 'Frequency':\n",
    "            e_n2 = vertical_shift**2 + (amplitude**2)/2\n",
    "    elif noise_type == 'Heteroskedastic':\n",
    "        e_n2 = (noise**2).mean()\n",
    "    \n",
    "    # Return the signal to noise ratio\n",
    "    return e_s2/e_n2"
   ]
  },
  {
   "cell_type": "markdown",
   "id": "f542fdb4",
   "metadata": {},
   "source": [
    "## Calculate Distribution Parameters from SNR"
   ]
  },
  {
   "cell_type": "markdown",
   "id": "bebb7d2c",
   "metadata": {},
   "source": [
    "Given a signal $S$, we can specify a signal to noise ratio $SNR = \\frac{\\mathbb{E}[S^2]}{\\mathbb{E}[N^2]}$ and use this to calculate $\\mathbb{E}[N^2]$ because $SNR$ and $\\mathbb{E}[S^2]$ are known. So $\\mathbb{E}[N^2] = \\frac{SNR}{\\mathbb{E}[S^2]}$.\n",
    "\n",
    "Then, for any homoskedastic noise following a well-defined probability density function (PDF), we can solve for the parameters of the PDF using the known value $\\mathbb{E}[N^2]$.\n",
    "\n",
    "- For Gaussian distributed noise $N$ ~ $n(\\mu, \\sigma^2)$, notice that $\\text{V}[N] = \\mathbb{E}[N^2] - (\\mathbb{E}[N])^2,$ so $\\mathbb{E}[N^2] = \\text{V}[N] + (\\mathbb{E}[N])^2 = \\sigma^2 + \\mu$. In our case $\\mu = 0$, so $\\mathbb{E}[N^2] = \\sigma^2$. Thus, $\\sigma^2 = \\frac{SNR}{\\mathbb{E}[S^2]}$."
   ]
  },
  {
   "cell_type": "code",
   "execution_count": 151,
   "id": "42057019",
   "metadata": {},
   "outputs": [],
   "source": [
    "def calculate_param(signal, noise_type, signal_to_noise_ratio):\n",
    "    \"\"\"\n",
    "    Function: Calculates the parameters of a continuous probability density function given\n",
    "    our desired signal to noise ratio and signal.\n",
    "    \n",
    "    :param:\n",
    "        signal (array or ndarray): Our signal\n",
    "        noise_type (string): Probability distribution of our noise (i.e., Gaussian)\n",
    "        signal_to_noise_ratio (float): Desired signal to noise ratio\n",
    "    \n",
    "    :return\n",
    "    (for now, just)\n",
    "        sigma (float): sigma of the gaussian\n",
    "    \"\"\"\n",
    "    \n",
    "    return signal_to_noise_ratio/(signal**2).mean()"
   ]
  },
  {
   "cell_type": "markdown",
   "id": "e8d9eb5f",
   "metadata": {},
   "source": [
    "## Uniform Noise"
   ]
  },
  {
   "cell_type": "markdown",
   "id": "4c3be96e",
   "metadata": {},
   "source": [
    "The uniform probability density function is of the following form:\n",
    "$$\n",
    "f(x) = \n",
    "\\left \\{\n",
    "    \\begin{array}{lr}\n",
    "        \\frac{1}{\\beta - \\alpha}, & \\text{if } \\alpha \\leq x \\leq \\beta \\\\\n",
    "        0, & \\text{otherwise }\n",
    "    \\end{array}\n",
    "\\right \\}\n",
    "$$"
   ]
  },
  {
   "cell_type": "markdown",
   "id": "df8aa479",
   "metadata": {},
   "source": [
    "### Estimating $\\alpha$ and $\\beta$ of the Uniform Distribution"
   ]
  },
  {
   "cell_type": "markdown",
   "id": "1644f069",
   "metadata": {},
   "source": [
    "#### Greatest $n$-Differential with Homoskedasticity Approach"
   ]
  },
  {
   "cell_type": "markdown",
   "id": "fb5f18e5",
   "metadata": {},
   "source": [
    "For a signal $S$, the greatest $n$-differential with homoskedasticity approach constructs a Gaussian distribution such that $\\mu$ = 0 and $\\sigma = \\alpha \\cdot max(|S_i - S_{i+n}|)$, where $max(|S_i - S_{i+n}|)$ denotes the maximum absolute difference of the signal between index $i$ and $i+n$ in the entire signal, and $\\alpha$ is a parameter that multiplicatively scales the intensity of the added noise. We can choose to set $n$ to any value, although we have empirically found $n = 5$ to be the best. We set $\\mu$ to $0$ so we don't vertically shift the original signal after adding noise. \n",
    "\n",
    "In conclusion, we randomly sample from the following probability density function:\n",
    "$$\n",
    "f(x) = \\frac{1}{\\alpha \\cdot max(|S_i - S_{i+n}|) \\sqrt{2 \\pi}}exp\\left(-\\frac{1}{2}\\left(\\frac{x}{\\alpha \\cdot max(|S_i - S_{i+n}|)}\\right)^2\\right)\n",
    "$$\n",
    "\n",
    "This noise exhbits homoskedasticity because it does not vary with time."
   ]
  },
  {
   "cell_type": "code",
   "execution_count": 152,
   "id": "74086785",
   "metadata": {},
   "outputs": [],
   "source": [
    "def uniform_homoskedastic(signal):\n",
    "    \"\"\"\n",
    "    Constructs a uniform gaussian probability density function, samples noise from it,\n",
    "    then adds noise to the signal\n",
    "    \n",
    "    :param:\n",
    "        signal (array or ndarray): The signal we wish to add noise to\n",
    "        \n",
    "    :return\n",
    "        noisy_signal (array or ndarray): The signal after we have added noise to it\n",
    "        signal_to_noise_ratio (float): The signal to noise ratio\n",
    "    \"\"\"\n",
    "    \n",
    "    # Store original shape\n",
    "    original_shape = signal.shape\n",
    "    \n",
    "    # Calculate alpha and beta\n",
    "    alpha = 0.5\n",
    "    beta = 0\n",
    "    sigma = alpha*abs(signal - np.roll(signal, 5)).max()\n",
    "    \n",
    "    # Sample from the Gaussian\n",
    "    s = np.random.normal(mu, sigma, 1000)\n",
    "    \n",
    "    # Create new signal\n",
    "    signal_new = np.copy(signal)\n",
    "        \n",
    "    # Add noise to it\n",
    "    for i in range(len(signal)):\n",
    "        signal_new[i] += float(np.random.normal(mu, sigma, 1))\n",
    "        \n",
    "    return np.array(x_new).reshape(original_shape), signal_to_noise_ratio"
   ]
  },
  {
   "cell_type": "markdown",
   "id": "3819be01",
   "metadata": {},
   "source": [
    "## Gaussian Noise"
   ]
  },
  {
   "cell_type": "markdown",
   "id": "99319416",
   "metadata": {},
   "source": [
    "The Gaussian probability density function is of the following form:\n",
    "\\begin{equation}\\label{eq:}\n",
    "f(x) = \\frac{1}{\\sigma \\sqrt{2 \\pi}}exp\\left(-\\frac{1}{2}\\left(\\frac{x-\\mu}{\\sigma}\\right)^2\\right)\n",
    "\\end{equation}"
   ]
  },
  {
   "cell_type": "markdown",
   "id": "a4198cb0",
   "metadata": {},
   "source": [
    "### Estimating $\\mu$ and $\\sigma$ of the Gaussian"
   ]
  },
  {
   "cell_type": "markdown",
   "id": "1330a231",
   "metadata": {},
   "source": [
    "#### Greatest $n$-Differential with Homoskedasticity Approach"
   ]
  },
  {
   "cell_type": "markdown",
   "id": "e6a4116e",
   "metadata": {},
   "source": [
    "For a signal $S$, the greatest $n$-differential with homoskedasticity approach constructs a Gaussian distribution such that $\\mu$ = 0 and $\\sigma = \\alpha \\cdot max(|S_i - S_{i+n}|)$, where $max(|S_i - S_{i+n}|)$ denotes the maximum absolute difference of the signal between index $i$ and $i+n$ in the entire signal, and $\\alpha$ is a parameter that multiplicatively scales the intensity of the added noise. We can choose to set $n$ to any value, although we have empirically found $n = 5$ to be the best. We set $\\mu$ to $0$ so we don't vertically shift the original signal after adding noise. \n",
    "\n",
    "In conclusion, we randomly sample from the following probability density function:\n",
    "$$\n",
    "f(x) = \\frac{1}{\\alpha \\cdot max(|S_i - S_{i+n}|) \\sqrt{2 \\pi}}exp\\left(-\\frac{1}{2}\\left(\\frac{x}{\\alpha \\cdot max(|S_i - S_{i+n}|)}\\right)^2\\right)\n",
    "$$\n",
    "\n",
    "This noise exhbits homoskedasticity because it does not vary with time."
   ]
  },
  {
   "cell_type": "code",
   "execution_count": 153,
   "id": "2e2d44c0",
   "metadata": {},
   "outputs": [],
   "source": [
    "def gaussian_homoskedastic(signal_name, signal, signal_to_noise_ratio=None):\n",
    "    \"\"\"\n",
    "    Constructs a homoskedastic gaussian probability density function, samples noise from it,\n",
    "    then adds noise to the signal\n",
    "    \n",
    "    :param:\n",
    "        signal_name (string): The name of the signal (i.e., ECG)\n",
    "        signal (array or ndarray): The signal we wish to add noise to\n",
    "        signal_to_noise_ratio (float): [default: None] If specified, our desired SNR.\n",
    "        \n",
    "    :return\n",
    "        noisy_signal: The signal after we have added noise to it\n",
    "    \"\"\"\n",
    "    \n",
    "    x_new = None\n",
    "\n",
    "    if signal_name == 'ACC':\n",
    "        alpha = 0.5\n",
    "        mu = 0\n",
    "        # Noise X Axis\n",
    "        x_axis = signal[:,0]\n",
    "        sigma = calculate_param(x_axis, 'Gaussian', signal_to_noise_ratio)\n",
    "        s = np.random.normal(mu, sigma, 1000)\n",
    "        x_axis_new = np.copy(x_axis)\n",
    "        for i in range(len(x_axis_new)):\n",
    "            x_axis_new[i] += float(np.random.normal(mu, sigma, 1))\n",
    "        # Noise Y Axis\n",
    "        y_axis = signal[:,1]\n",
    "        sigma = calculate_param(y_axis, 'Gaussian', signal_to_noise_ratio)\n",
    "        s = np.random.normal(mu, sigma, 1000)\n",
    "        y_axis_new = np.copy(y_axis)\n",
    "        for i in range(len(y_axis_new)):\n",
    "            y_axis_new[i] += float(np.random.normal(mu, sigma, 1))\n",
    "        # Noise Z Axis\n",
    "        z_axis = signal[:,2]\n",
    "        sigma = calculate_param(z_axis, 'Gaussian', signal_to_noise_ratio)\n",
    "        s = np.random.normal(mu, sigma, 1000)\n",
    "        z_axis_new = np.copy(z_axis)\n",
    "        for i in range(len(z_axis_new)):\n",
    "            z_axis_new[i] += float(np.random.normal(mu, sigma, 1))\n",
    "\n",
    "        # Put together noisy signal\n",
    "        x_new = np.zeros((len(signal), 3))\n",
    "        x_new[:,0] = x_axis_new\n",
    "        x_new[:,1] = y_axis_new\n",
    "        x_new[:,2] = z_axis_new\n",
    "\n",
    "        return (x_new, sigma)\n",
    "    else: \n",
    "        # Store original shape\n",
    "        original_shape = signal.shape\n",
    "\n",
    "        # Caveat: some signals like ACC have three axes\n",
    "        # Flatten signal to be 1d\n",
    "        x = np.ravel(signal)\n",
    "\n",
    "        # Calculate mean and Standard deviation\n",
    "        alpha = 0.5\n",
    "        mu = 0\n",
    "        sigma = calculate_param(x, 'Gaussian', signal_to_noise_ratio)\n",
    "\n",
    "        # test that this works\n",
    "        x_new = x + np.random.normal(mu, sigma, (len(x),))\n",
    "        plt.plot(x_new[:5000])\n",
    "\n",
    "#         for i in range(len(x_new)):\n",
    "#             x_new[i] += float(np.random.normal(mu, sigma, 1))\n",
    "\n",
    "        return (np.array(x_new).reshape(original_shape), sigma)"
   ]
  },
  {
   "cell_type": "markdown",
   "id": "17482202",
   "metadata": {},
   "source": [
    "#### Greatest $n$-Differential Approach with Heteroskedasticity"
   ]
  },
  {
   "cell_type": "markdown",
   "id": "87306268",
   "metadata": {},
   "source": [
    "For a signal $S$, the greatest $n$-differential with heteroskedasticity approach constructs a Gaussian probability density function such that $\\mu$ = 0 and $\\sigma = \\alpha \\cdot max(|S_{t-100\\thinspace\\leq\\thinspace i \\thinspace\\leq\\thinspace t} - S_{t-100\\thinspace\\leq\\thinspace i+n \\thinspace\\leq\\thinspace t}|)$, where $max(|S_{t-100\\thinspace\\leq\\thinspace i \\thinspace\\leq\\thinspace t} - S_{t-100\\thinspace\\leq\\thinspace i+n \\thinspace\\leq\\thinspace t}|)$ denotes the maximum absolute difference of the signal between any index $i$ and $i+n$ in the last $100$ samples from index $t$, and $\\alpha$ is a parameter that multiplicatively scales the intensity of the added noise. We can choose to set $n$ to any value, although we have empirically found $n = 5$ to be the best. We set $\\mu$ to $0$ so we don't vertically shift the original signal after adding noise. \n",
    "\n",
    "At each fixed time value $t \\in [S_{start}, S_{end}]$, we randomly sample from the following probability density function:\n",
    "$$\n",
    "\\epsilon_t = f(x, t) = \\frac{1}{\\alpha \\cdot max(|S_{t-100\\thinspace\\leq\\thinspace i \\thinspace\\leq\\thinspace t} - S_{t-100\\thinspace\\leq\\thinspace i+n \\thinspace\\leq\\thinspace t}|) \\sqrt{2 \\pi}}exp\\left(-\\frac{1}{2}\\left(\\frac{x}{\\alpha \\cdot max(|S_{t-100\\thinspace\\leq\\thinspace i \\thinspace\\leq\\thinspace t} - S_{t-100\\thinspace\\leq\\thinspace i+n \\thinspace\\leq\\thinspace t}|)}\\right)^2\\right)\n",
    "$$\n",
    "\n",
    "We add each $\\epsilon_t$ to its respective value of $S_t$ to add noise to the signal. "
   ]
  },
  {
   "cell_type": "code",
   "execution_count": 134,
   "id": "a3f2cb20",
   "metadata": {},
   "outputs": [],
   "source": [
    "def gaussian_heteroskedastic(signal):\n",
    "    \"\"\"\n",
    "    Constructs a heteroskedastic gaussian probability density function, samples noise from it,\n",
    "    then adds noise to the signal\n",
    "    \n",
    "    :param:\n",
    "        signal (array or ndarray): The signal we wish to add noise to\n",
    "        \n",
    "    :return\n",
    "        noisy_signal: The signal after we have added noise to it\n",
    "    \"\"\"\n",
    "    \n",
    "    # Store original shape\n",
    "    original_shape = signal.shape\n",
    "    \n",
    "    # Caveat: some signals like ACC have three axes\n",
    "    # Flatten signal to be 1d\n",
    "    x = np.ravel(signal)\n",
    "    \n",
    "    # Calculate mean and Standard deviation\n",
    "    alpha = 0.5\n",
    "    mu = 0\n",
    "    sigma = None\n",
    "    \n",
    "    # Add heteroskedastic noise\n",
    "    x_new = np.copy(x)\n",
    "    noise = np.array([])\n",
    "    window_len = 100\n",
    "    for i in range(100, len(x)):\n",
    "        x_rolling = x[i-100:i]\n",
    "        sigma = alpha*abs(x_rolling - np.roll(x_rolling, 5)).max()\n",
    "        noise_i = float(np.random.normal(mu, sigma, 1))\n",
    "        np.append(noise, noise_i)\n",
    "        x_new[i] += noise_i\n",
    "    for i in range(len(x)-100, len(x)):\n",
    "        x_new[len(x)-i] += float(np.random.normal(mu, sigma, 1))  \n",
    "\n",
    "    return (np.array(x_new).reshape(original_shape), signal_to_noise_ratio(signal=x, noise=noise, noise_type='Heteroskedastic', \n",
    "                                        noise_dist='Gaussian'))"
   ]
  },
  {
   "cell_type": "markdown",
   "id": "d2d643f1",
   "metadata": {},
   "source": [
    "## Exponential Noise"
   ]
  },
  {
   "cell_type": "markdown",
   "id": "3db46431",
   "metadata": {},
   "source": [
    "The exponential probability density function is of the following form:\n",
    "$$\n",
    "f(x) =\n",
    "\\left \\{\n",
    "    \\begin{array}{lr}\n",
    "        \\lambda e^{-\\lambda x}, & \\text{if } x \\geq 0 \\\\\n",
    "        0, & \\text{otherwise }\n",
    "    \\end{array}\n",
    "\\right \\}\n",
    "$$"
   ]
  },
  {
   "cell_type": "markdown",
   "id": "0211f660",
   "metadata": {},
   "source": [
    "### Estimating $\\lambda$ of the Exponential Distribution"
   ]
  },
  {
   "cell_type": "markdown",
   "id": "20018d54",
   "metadata": {},
   "source": [
    "Note that the expected value of an exponential probability density function $E[X] = \\int_{0}^{\\infty} x(\\lambda e^{-\\lambda x})dx = \\frac{1}{\\lambda}$, meaning whatever our estimate of $\\lambda$ is, it will be inversely proportional to the expected value of this distribution."
   ]
  },
  {
   "cell_type": "markdown",
   "id": "fe612ffe",
   "metadata": {},
   "source": [
    "## Frequency Domain Noise"
   ]
  },
  {
   "cell_type": "markdown",
   "id": "a9f99a38",
   "metadata": {},
   "source": [
    "A sinusoidal wave is of the form:\n",
    "\n",
    "\\begin{equation}\\label{eq:1}\n",
    "f(x) = Asin(2 \\pi T*x) + y\n",
    "\\end{equation}\n",
    "\n",
    "where $A$ is the amplitude of the wave, $T = \\frac{1}{f}$ is the period, and $y$ is the vertical shift. Note that we have omitted the phase shift parameter since we will overlay the noise to the data at pre-determined locations."
   ]
  },
  {
   "cell_type": "code",
   "execution_count": 58,
   "id": "469b832f",
   "metadata": {},
   "outputs": [],
   "source": [
    "# Constructs a sinusoidal wave\n",
    "def sinusoidal_wave(amplitude, frequency, vertical_shift, x):\n",
    "    return amplitude * np.sin(2*np.pi*(1/frequency)*x) + vertical_shift"
   ]
  },
  {
   "cell_type": "markdown",
   "id": "c89bbf9a",
   "metadata": {},
   "source": [
    "Each physiological signal has a different sampling frequency."
   ]
  },
  {
   "cell_type": "code",
   "execution_count": null,
   "id": "b89f7054",
   "metadata": {},
   "outputs": [],
   "source": [
    "fs_dict = {'ACC': 32, 'BVP': 64, 'EDA': 4, 'TEMP': 4, 'label': 700, 'Resp': 700, 'ECG': 700}"
   ]
  },
  {
   "cell_type": "code",
   "execution_count": null,
   "id": "658acac7",
   "metadata": {},
   "outputs": [],
   "source": [
    "def frequency(signal, hz):\n",
    "    \"\"\"\n",
    "    Constructs a heteroskedastic gaussian probability density function, samples noise from it,\n",
    "    then adds noise to the signal\n",
    "    \n",
    "    :param:\n",
    "        signal (array or ndarray): The signal we wish to add noise to\n",
    "        hz (float): The hertz (frequency) at which we wish to add noise)\n",
    "        \n",
    "    :return\n",
    "        noisy_signal: The signal after we have added noise to it\n",
    "    \"\"\"\n",
    "    \n",
    "    # Store original shape\n",
    "    original_shape = signal.shape\n",
    "    \n",
    "    # Caveat: some signals like ACC have three axes\n",
    "    # Flatten signal to be 1d\n",
    "    x = np.ravel(signal)\n",
    "    \n",
    "    # Caveat: each signal has a different base sampling frequency\n",
    "    # Add frequency noise\n",
    "    sinusoidal_wave(amplitude, 1/hz, vertical_shift, x)\n",
    "    x_new = np.copy(x)\n",
    "\n",
    "    return np.array(x_new).reshape(original_shape)"
   ]
  },
  {
   "cell_type": "markdown",
   "id": "71592233",
   "metadata": {},
   "source": [
    "### Estimating $A$, $T$ and $y$ of the Sinusoidal"
   ]
  },
  {
   "cell_type": "markdown",
   "id": "c47eadcf",
   "metadata": {},
   "source": []
  },
  {
   "cell_type": "markdown",
   "id": "28f5e839",
   "metadata": {},
   "source": [
    "## Exporting Noisy Files"
   ]
  },
  {
   "cell_type": "markdown",
   "id": "1d546927",
   "metadata": {},
   "source": [
    "### Function to Write File"
   ]
  },
  {
   "cell_type": "code",
   "execution_count": 109,
   "id": "806d8214",
   "metadata": {},
   "outputs": [],
   "source": [
    "def write_file(path, file_name, data):\n",
    "    \"\"\"\n",
    "    Function: Writes filename to its specified path and then dumps data in .pkl format to that file.\n",
    "    \n",
    "    :param:\n",
    "        path (string): Where you want to write (create) the file\n",
    "        file_name (string): What you want to name the file you're creating\n",
    "        data (array or ndarray or pd.DataFrame): What you want inside the file you're creating\n",
    "    \n",
    "    \"\"\"\n",
    "    \n",
    "    filename = file_name + '.pkl'\n",
    "    with open(os.path.join(path, filename), 'wb') as dest:\n",
    "        pickle.dump(data, dest)"
   ]
  },
  {
   "cell_type": "markdown",
   "id": "4c50265a",
   "metadata": {},
   "source": [
    "Root Directory (you will likely need to change, unless you are Sam)"
   ]
  },
  {
   "cell_type": "code",
   "execution_count": 110,
   "id": "66245ec5",
   "metadata": {},
   "outputs": [],
   "source": [
    "rootdir = '/Users/samuelschapiro/Desktop/Research/HCDL/data/WESAD'"
   ]
  },
  {
   "cell_type": "markdown",
   "id": "0783e4a1",
   "metadata": {},
   "source": [
    "### Function to Add Noise"
   ]
  },
  {
   "cell_type": "code",
   "execution_count": 154,
   "id": "e434422b",
   "metadata": {},
   "outputs": [],
   "source": [
    "snrs = [0.1, 0.3, 0.5]"
   ]
  },
  {
   "cell_type": "code",
   "execution_count": 155,
   "id": "5fc5dc38",
   "metadata": {},
   "outputs": [],
   "source": [
    "def add_noise(rootdir, snrs, body_parts=['wrist', 'chest'],\n",
    "              signals={'wrist': ['ACC', 'BVP', 'EDA', 'TEMP'],'chest': ['ECG', 'Temp', 'EMG', 'Resp', 'ACC']}):\n",
    "    \"\"\"\n",
    "    Function: Adds noise to the WESAD data, stored in the specified root directory\n",
    "    \n",
    "    :param:\n",
    "        rootdir (string): The root directory from which to read the WESAD data.\n",
    "        body_parts (list): [Default: '[wrist', 'chest']] Body parts from which to read the WESAD data\n",
    "        signals (dict): [Default: see above] The physiological signals each body part has\n",
    "    :return\n",
    "        None\n",
    "    \"\"\"\n",
    "    snr=snrs\n",
    "    patients = []\n",
    "    patients_with_noise1 = []\n",
    "    patients_with_noise2 = []\n",
    "    patients_with_noise3 = []\n",
    "    patient_idx = 0\n",
    "    # Iterate through each patient's folder and construct a df with all patient data\n",
    "    for subdir, dirs, files in os.walk(rootdir):\n",
    "        for file in files:\n",
    "            # If this is a .pkl file then it's the synchronized features/labels\n",
    "            # and we want to serialize the file\n",
    "            if '.pkl' in file and 'gauss' not in file: \n",
    "                # For each signal to noise ratio we want to test\n",
    "                # Serialize\n",
    "                patients.append(pd.read_pickle(subdir + '/' + file))\n",
    "                patients_with_noise1.append(pd.read_pickle(subdir + '/' + file))\n",
    "                patients_with_noise2.append(pd.read_pickle(subdir + '/' + file))\n",
    "                patients_with_noise3.append(pd.read_pickle(subdir + '/' + file))\n",
    "                for body_part in body_parts:\n",
    "                    # Add noise\n",
    "                    for sgl in signals[body_part]:\n",
    "                        # Get signal\n",
    "                        signal = patients[patient_idx]['signal'][body_part][sgl]\n",
    "\n",
    "                        # Get gaussian homoskedastic noise1\n",
    "                        x_gaussian_homoskedastic1, sigma1 = gaussian_homoskedastic(sgl, signal, snr[0])\n",
    "                        patients_with_noise1[patient_idx]['signal'][body_part][sgl] = x_gaussian_homoskedastic1\n",
    "\n",
    "                        # Get gaussian homoskedastic noise2\n",
    "                        x_gaussian_homoskedastic2, sigma2 = gaussian_homoskedastic(sgl, signal, snr[1])\n",
    "                        patients_with_noise2[patient_idx]['signal'][body_part][sgl] = x_gaussian_homoskedastic2\n",
    "                        \n",
    "                        # Get gaussian homoskedastic noise3\n",
    "                        x_gaussian_homoskedastic3, sigma3 = gaussian_homoskedastic(sgl, signal, snr[2])\n",
    "                        patients_with_noise3[patient_idx]['signal'][body_part][sgl] = x_gaussian_homoskedastic3\n",
    "                        \n",
    "                # Export each noise type\n",
    "                write_file(subdir, file.split('.')[0]+'_gauss_homo_snr_'+str(snr[0])+'_sigma_'+str(round(sigma1, 2)), \n",
    "                           patients_with_noise1[patient_idx])\n",
    "                \n",
    "                # Export each noise type\n",
    "                write_file(subdir, file.split('.')[0]+'_gauss_homo_snr_'+str(snr[1])+'_sigma_'+str(round(sigma2, 2)), \n",
    "                           patients_with_noise2[patient_idx])\n",
    "                \n",
    "                # Export each noise type\n",
    "                write_file(subdir, file.split('.')[0]+'_gauss_homo_snr_'+str(snr[2])+'_sigma_'+str(round(sigma3, 2)), \n",
    "                           patients_with_noise3[patient_idx])\n",
    "                \n",
    "                # Increment patient index\n",
    "                patient_idx += 1"
   ]
  },
  {
   "cell_type": "code",
   "execution_count": 156,
   "id": "dec21026",
   "metadata": {
    "scrolled": true
   },
   "outputs": [
    {
     "ename": "KeyboardInterrupt",
     "evalue": "",
     "output_type": "error",
     "traceback": [
      "\u001b[0;31m---------------------------------------------------------------------------\u001b[0m",
      "\u001b[0;31mKeyboardInterrupt\u001b[0m                         Traceback (most recent call last)",
      "Input \u001b[0;32mIn [156]\u001b[0m, in \u001b[0;36m<cell line: 1>\u001b[0;34m()\u001b[0m\n\u001b[0;32m----> 1\u001b[0m \u001b[43madd_noise\u001b[49m\u001b[43m(\u001b[49m\u001b[43mrootdir\u001b[49m\u001b[43m,\u001b[49m\u001b[43m \u001b[49m\u001b[43msnrs\u001b[49m\u001b[43m)\u001b[49m\n",
      "Input \u001b[0;32mIn [155]\u001b[0m, in \u001b[0;36madd_noise\u001b[0;34m(rootdir, snrs, body_parts, signals)\u001b[0m\n\u001b[1;32m     35\u001b[0m signal \u001b[38;5;241m=\u001b[39m patients[patient_idx][\u001b[38;5;124m'\u001b[39m\u001b[38;5;124msignal\u001b[39m\u001b[38;5;124m'\u001b[39m][body_part][sgl]\n\u001b[1;32m     37\u001b[0m \u001b[38;5;66;03m# Get gaussian homoskedastic noise1\u001b[39;00m\n\u001b[0;32m---> 38\u001b[0m x_gaussian_homoskedastic1, sigma1 \u001b[38;5;241m=\u001b[39m \u001b[43mgaussian_homoskedastic\u001b[49m\u001b[43m(\u001b[49m\u001b[43msgl\u001b[49m\u001b[43m,\u001b[49m\u001b[43m \u001b[49m\u001b[43msignal\u001b[49m\u001b[43m,\u001b[49m\u001b[43m \u001b[49m\u001b[43msnr\u001b[49m\u001b[43m[\u001b[49m\u001b[38;5;241;43m0\u001b[39;49m\u001b[43m]\u001b[49m\u001b[43m)\u001b[49m\n\u001b[1;32m     39\u001b[0m patients_with_noise1[patient_idx][\u001b[38;5;124m'\u001b[39m\u001b[38;5;124msignal\u001b[39m\u001b[38;5;124m'\u001b[39m][body_part][sgl] \u001b[38;5;241m=\u001b[39m x_gaussian_homoskedastic1\n\u001b[1;32m     41\u001b[0m \u001b[38;5;66;03m# Get gaussian homoskedastic noise2\u001b[39;00m\n",
      "Input \u001b[0;32mIn [153]\u001b[0m, in \u001b[0;36mgaussian_homoskedastic\u001b[0;34m(signal_name, signal, signal_to_noise_ratio)\u001b[0m\n\u001b[1;32m     38\u001b[0m z_axis_new \u001b[38;5;241m=\u001b[39m np\u001b[38;5;241m.\u001b[39mcopy(z_axis)\n\u001b[1;32m     39\u001b[0m \u001b[38;5;28;01mfor\u001b[39;00m i \u001b[38;5;129;01min\u001b[39;00m \u001b[38;5;28mrange\u001b[39m(\u001b[38;5;28mlen\u001b[39m(z_axis_new)):\n\u001b[0;32m---> 40\u001b[0m     z_axis_new[i] \u001b[38;5;241m+\u001b[39m\u001b[38;5;241m=\u001b[39m \u001b[38;5;28mfloat\u001b[39m(np\u001b[38;5;241m.\u001b[39mrandom\u001b[38;5;241m.\u001b[39mnormal(mu, sigma, \u001b[38;5;241m1\u001b[39m))\n\u001b[1;32m     42\u001b[0m \u001b[38;5;66;03m# Put together noisy signal\u001b[39;00m\n\u001b[1;32m     43\u001b[0m x_new \u001b[38;5;241m=\u001b[39m np\u001b[38;5;241m.\u001b[39mzeros((\u001b[38;5;28mlen\u001b[39m(signal), \u001b[38;5;241m3\u001b[39m))\n",
      "\u001b[0;31mKeyboardInterrupt\u001b[0m: "
     ]
    }
   ],
   "source": [
    "add_noise(rootdir, snrs)"
   ]
  },
  {
   "cell_type": "markdown",
   "id": "02e3f98b",
   "metadata": {},
   "source": [
    "# Feature Extraction (pt. 2)"
   ]
  },
  {
   "cell_type": "markdown",
   "id": "fab017de",
   "metadata": {},
   "source": [
    "Do feature extraction again, this time with the noisy data"
   ]
  },
  {
   "cell_type": "code",
   "execution_count": 137,
   "id": "8988c8e7",
   "metadata": {},
   "outputs": [
    {
     "name": "stdout",
     "output_type": "stream",
     "text": [
      "S5_gauss_homo_snr_0.1_sigma_0.01.pkl\n",
      "S5_gauss_homo_snr_0.5_sigma_0.06.pkl\n",
      "S5_gauss_homo_snr_0.3_sigma_0.04.pkl\n",
      "S2_gauss_homo_snr_0.3_sigma_0.08.pkl\n",
      "S2_gauss_homo_snr_0.1_sigma_0.03.pkl\n",
      "S2_gauss_homo_snr_0.5_sigma_0.13.pkl\n",
      "S3_gauss_homo_snr_0.5_sigma_0.05.pkl\n",
      "S3_gauss_homo_snr_0.3_sigma_0.03.pkl\n",
      "S3_gauss_homo_snr_0.1_sigma_0.01.pkl\n",
      "S4_gauss_homo_snr_0.3_sigma_0.05.pkl\n",
      "S4_gauss_homo_snr_0.1_sigma_0.02.pkl\n",
      "S4_gauss_homo_snr_0.5_sigma_0.09.pkl\n",
      "S17_gauss_homo_snr_0.1_sigma_0.04.pkl\n",
      "S17_gauss_homo_snr_0.3_sigma_0.13.pkl\n",
      "S17_gauss_homo_snr_0.5_sigma_0.22.pkl\n",
      "S10_gauss_homo_snr_0.5_sigma_0.09.pkl\n",
      "S10_gauss_homo_snr_0.1_sigma_0.02.pkl\n",
      "S10_gauss_homo_snr_0.3_sigma_0.06.pkl\n",
      "S11_gauss_homo_snr_0.3_sigma_0.02.pkl\n",
      "S11_gauss_homo_snr_0.5_sigma_0.03.pkl\n",
      "S11_gauss_homo_snr_0.1_sigma_0.01.pkl\n",
      "S16_gauss_homo_snr_0.5_sigma_0.02.pkl\n",
      "S16_gauss_homo_snr_0.3_sigma_0.01.pkl\n",
      "S16_gauss_homo_snr_0.1_sigma_0.0.pkl\n",
      "S8_gauss_homo_snr_0.1_sigma_0.02.pkl\n",
      "S8_gauss_homo_snr_0.3_sigma_0.05.pkl\n",
      "S8_gauss_homo_snr_0.5_sigma_0.08.pkl\n",
      "S6_gauss_homo_snr_0.3_sigma_0.11.pkl\n",
      "S6_gauss_homo_snr_0.1_sigma_0.04.pkl\n",
      "S6_gauss_homo_snr_0.5_sigma_0.18.pkl\n",
      "S7_gauss_homo_snr_0.1_sigma_0.01.pkl\n",
      "S7_gauss_homo_snr_0.5_sigma_0.03.pkl\n",
      "S7_gauss_homo_snr_0.3_sigma_0.02.pkl\n",
      "S9_gauss_homo_snr_0.3_sigma_0.05.pkl\n",
      "S9_gauss_homo_snr_0.1_sigma_0.02.pkl\n",
      "S9_gauss_homo_snr_0.5_sigma_0.09.pkl\n",
      "S13_gauss_homo_snr_0.3_sigma_0.02.pkl\n",
      "S13_gauss_homo_snr_0.5_sigma_0.04.pkl\n",
      "S13_gauss_homo_snr_0.1_sigma_0.01.pkl\n",
      "S14_gauss_homo_snr_0.5_sigma_0.11.pkl\n",
      "S14_gauss_homo_snr_0.3_sigma_0.06.pkl\n",
      "S14_gauss_homo_snr_0.1_sigma_0.02.pkl\n",
      "S15_gauss_homo_snr_0.1_sigma_0.01.pkl\n",
      "S15_gauss_homo_snr_0.5_sigma_0.07.pkl\n",
      "S15_gauss_homo_snr_0.3_sigma_0.04.pkl\n"
     ]
    }
   ],
   "source": [
    "patients_new_noise1 = []\n",
    "patients_new_noise2 = []\n",
    "patients_new_noise3 = []\n",
    "# Iterate through each patient's folder and construct a\n",
    "# df with all patient data\n",
    "for subdir, dirs, files in os.walk(rootdir):\n",
    "    for file in files:\n",
    "        # If this is a .pkl file then it's the synchronized features/labels\n",
    "        # and we want to serialize the file\n",
    "        if '.pkl' in file and 'gauss' in file and 'snr_0.1' in file:\n",
    "            print(file)\n",
    "            patients_new_noise1.append(pd.read_pickle(subdir + '/' + file))\n",
    "        elif '.pkl' in file and 'gauss' in file and 'snr_0.3' in file:\n",
    "            print(file)\n",
    "            patients_new_noise2.append(pd.read_pickle(subdir + '/' + file))\n",
    "        elif '.pkl' in file and 'gauss' in file and 'snr_0.5' in file:\n",
    "            print(file)\n",
    "            patients_new_noise3.append(pd.read_pickle(subdir + '/' + file))"
   ]
  },
  {
   "cell_type": "code",
   "execution_count": 168,
   "id": "5ca5a055",
   "metadata": {},
   "outputs": [
    {
     "data": {
      "text/plain": [
       "Text(0.5, 1.0, 'SNR: 0.5')"
      ]
     },
     "execution_count": 168,
     "metadata": {},
     "output_type": "execute_result"
    },
    {
     "data": {
      "image/png": "[encoded data removed]",
      "text/plain": [
       "<Figure size 864x288 with 3 Axes>"
      ]
     },
     "metadata": {
      "needs_background": "light"
     },
     "output_type": "display_data"
    }
   ],
   "source": [
    "fig, axs = plt.subplots(nrows=1, ncols=3, figsize=(12,4))\n",
    "axs[0].plot(np.ravel(patients_new_noise1[0]['signal']['chest']['Resp'])[4015000:4020000])\n",
    "axs[0].set_title('SNR: 0.1')\n",
    "axs[1].plot(np.ravel(patients_new_noise2[0]['signal']['chest']['Resp'])[4015000:4020000])\n",
    "axs[1].set_title('SNR: 0.3')\n",
    "axs[2].plot(np.ravel(patients_new_noise3[0]['signal']['chest']['Resp'])[4015000:4020000])\n",
    "axs[2].set_title('SNR: 0.5')"
   ]
  },
  {
   "cell_type": "markdown",
   "id": "38022334",
   "metadata": {},
   "source": [
    "# Data Preparation (pt. 2)"
   ]
  },
  {
   "cell_type": "markdown",
   "id": "4ce48d1c",
   "metadata": {},
   "source": [
    "Prepare the data again, this time with the noisy data"
   ]
  },
  {
   "cell_type": "code",
   "execution_count": 173,
   "id": "06fb3350",
   "metadata": {},
   "outputs": [],
   "source": [
    "# Class to store the data for each subject\n",
    "class SubjectDataWithNoise:\n",
    "\n",
    "    def __init__(self, main_path, subject_number):\n",
    "        self.name = f'S{subject_number}'\n",
    "        self.subject_keys = ['signal', 'label', 'subject']\n",
    "        self.signal_keys = ['chest', 'wrist']\n",
    "        self.chest_keys = ['ACC', 'ECG', 'EMG', 'EDA', 'Temp', 'Resp']\n",
    "        self.wrist_keys = ['ACC', 'BVP', 'EDA', 'TEMP']\n",
    "        with open(os.path.join(main_path, self.name) + '/' + self.name + '_gauss_homo_snr_0.5.pkl', 'rb') as file:\n",
    "            self.data = pickle.load(file, encoding='latin1')\n",
    "        self.labels = self.data['label']\n",
    "\n",
    "    def get_wrist_data(self):\n",
    "        data = self.data['signal']['wrist']\n",
    "        data.update({'Resp': self.data['signal']['chest']['Resp']})\n",
    "        return data\n",
    "\n",
    "    def get_chest_data(self):\n",
    "        return self.data['signal']['chest']\n",
    "\n",
    "    def extract_features(self):  # only wrist\n",
    "        results = \\\n",
    "            {\n",
    "                key: get_statistics(self.get_wrist_data()[key].flatten(), self.labels, key)\n",
    "                for key in self.wrist_keys\n",
    "            }\n",
    "        return results"
   ]
  },
  {
   "cell_type": "code",
   "execution_count": 174,
   "id": "2f442ecd",
   "metadata": {},
   "outputs": [],
   "source": [
    "def make_patient_data_with_noise(subject_id):\n",
    "    global savePath\n",
    "    global WINDOW_IN_SECONDS\n",
    "\n",
    "    # Make subject data object for Sx\n",
    "    subject = SubjectDataWithNoise(main_path='data/WESAD', subject_number=subject_id)\n",
    "\n",
    "    # Empatica E4 data - now with resp\n",
    "    e4_data_dict = subject.get_wrist_data()\n",
    "    \n",
    "    # Chest data\n",
    "    ch_data_dict = subject.get_chest_data()\n",
    "\n",
    "    # norm type\n",
    "    norm_type = None\n",
    "\n",
    "    # The 3 classes we are classifying\n",
    "    grouped, baseline, stress, amusement = compute_features(e4_data_dict, ch_data_dict, subject.labels, norm_type)\n",
    "\n",
    "    # print(f'Available windows for {subject.name}:')\n",
    "    n_baseline_wdws = int(len(baseline) / (fs_dict['label'] * WINDOW_IN_SECONDS))\n",
    "    n_stress_wdws = int(len(stress) / (fs_dict['label'] * WINDOW_IN_SECONDS))\n",
    "    n_amusement_wdws = int(len(amusement) / (fs_dict['label'] * WINDOW_IN_SECONDS))\n",
    "    # print(f'Baseline: {n_baseline_wdws}\\nStress: {n_stress_wdws}\\nAmusement: {n_amusement_wdws}\\n')\n",
    "\n",
    "    #\n",
    "    baseline_samples = get_samples(baseline, n_baseline_wdws, 1)\n",
    "    for col in baseline_samples.columns:\n",
    "        print(col)\n",
    "    # Downsampling\n",
    "    # baseline_samples = baseline_samples[::2]\n",
    "    stress_samples = get_samples(stress, n_stress_wdws, 2)\n",
    "    amusement_samples = get_samples(amusement, n_amusement_wdws, 0)\n",
    "\n",
    "    all_samples = pd.concat([baseline_samples, stress_samples, amusement_samples])\n",
    "    all_samples = pd.concat([all_samples.drop('label', axis=1), pd.get_dummies(all_samples['label'])], axis=1)\n",
    "    # Save file as csv\n",
    "    all_samples.to_csv(f'{savePath}{subject_feature_path}/S{subject_id}_feats_with_noise_4.csv')\n",
    "\n",
    "    subject = None"
   ]
  },
  {
   "cell_type": "code",
   "execution_count": 178,
   "id": "4bf9872f",
   "metadata": {},
   "outputs": [
    {
     "name": "stdout",
     "output_type": "stream",
     "text": [
      "Processing data for S2...\n",
      "dict_keys(['ACC', 'BVP', 'EDA', 'TEMP', 'Resp'])\n"
     ]
    },
    {
     "ename": "KeyError",
     "evalue": "'Resp_C'",
     "output_type": "error",
     "traceback": [
      "\u001b[0;31m---------------------------------------------------------------------------\u001b[0m",
      "\u001b[0;31mKeyError\u001b[0m                                  Traceback (most recent call last)",
      "Input \u001b[0;32mIn [178]\u001b[0m, in \u001b[0;36m<cell line: 23>\u001b[0;34m()\u001b[0m\n\u001b[1;32m     27\u001b[0m \u001b[38;5;28;01mfor\u001b[39;00m patient \u001b[38;5;129;01min\u001b[39;00m subject_ids:\n\u001b[1;32m     28\u001b[0m     \u001b[38;5;28mprint\u001b[39m(\u001b[38;5;124mf\u001b[39m\u001b[38;5;124m'\u001b[39m\u001b[38;5;124mProcessing data for S\u001b[39m\u001b[38;5;132;01m{\u001b[39;00mpatient\u001b[38;5;132;01m}\u001b[39;00m\u001b[38;5;124m...\u001b[39m\u001b[38;5;124m'\u001b[39m)\n\u001b[0;32m---> 29\u001b[0m     \u001b[43mmake_patient_data_with_noise\u001b[49m\u001b[43m(\u001b[49m\u001b[43mpatient\u001b[49m\u001b[43m)\u001b[49m\n\u001b[1;32m     31\u001b[0m combine_files(subject_ids)\n\u001b[1;32m     32\u001b[0m \u001b[38;5;28mprint\u001b[39m(\u001b[38;5;124m'\u001b[39m\u001b[38;5;124mProcessing complete.\u001b[39m\u001b[38;5;124m'\u001b[39m)\n",
      "Input \u001b[0;32mIn [174]\u001b[0m, in \u001b[0;36mmake_patient_data_with_noise\u001b[0;34m(subject_id)\u001b[0m\n\u001b[1;32m     15\u001b[0m norm_type \u001b[38;5;241m=\u001b[39m \u001b[38;5;28;01mNone\u001b[39;00m\n\u001b[1;32m     17\u001b[0m \u001b[38;5;66;03m# The 3 classes we are classifying\u001b[39;00m\n\u001b[0;32m---> 18\u001b[0m grouped, baseline, stress, amusement \u001b[38;5;241m=\u001b[39m \u001b[43mcompute_features\u001b[49m\u001b[43m(\u001b[49m\u001b[43me4_data_dict\u001b[49m\u001b[43m,\u001b[49m\u001b[43m \u001b[49m\u001b[43mch_data_dict\u001b[49m\u001b[43m,\u001b[49m\u001b[43m \u001b[49m\u001b[43msubject\u001b[49m\u001b[38;5;241;43m.\u001b[39;49m\u001b[43mlabels\u001b[49m\u001b[43m,\u001b[49m\u001b[43m \u001b[49m\u001b[43mnorm_type\u001b[49m\u001b[43m)\u001b[49m\n\u001b[1;32m     20\u001b[0m \u001b[38;5;66;03m# print(f'Available windows for {subject.name}:')\u001b[39;00m\n\u001b[1;32m     21\u001b[0m n_baseline_wdws \u001b[38;5;241m=\u001b[39m \u001b[38;5;28mint\u001b[39m(\u001b[38;5;28mlen\u001b[39m(baseline) \u001b[38;5;241m/\u001b[39m (fs_dict[\u001b[38;5;124m'\u001b[39m\u001b[38;5;124mlabel\u001b[39m\u001b[38;5;124m'\u001b[39m] \u001b[38;5;241m*\u001b[39m WINDOW_IN_SECONDS))\n",
      "Input \u001b[0;32mIn [74]\u001b[0m, in \u001b[0;36mcompute_features\u001b[0;34m(e4_data_dict, ch_data_dict, labels, norm_type)\u001b[0m\n\u001b[1;32m      8\u001b[0m temp_df \u001b[38;5;241m=\u001b[39m pd\u001b[38;5;241m.\u001b[39mDataFrame(e4_data_dict[\u001b[38;5;124m'\u001b[39m\u001b[38;5;124mTEMP\u001b[39m\u001b[38;5;124m'\u001b[39m], columns\u001b[38;5;241m=\u001b[39m[\u001b[38;5;124m'\u001b[39m\u001b[38;5;124mTEMP\u001b[39m\u001b[38;5;124m'\u001b[39m])\n\u001b[1;32m      9\u001b[0m label_df \u001b[38;5;241m=\u001b[39m pd\u001b[38;5;241m.\u001b[39mDataFrame(labels, columns\u001b[38;5;241m=\u001b[39m[\u001b[38;5;124m'\u001b[39m\u001b[38;5;124mlabel\u001b[39m\u001b[38;5;124m'\u001b[39m])\n\u001b[0;32m---> 10\u001b[0m resp_df \u001b[38;5;241m=\u001b[39m pd\u001b[38;5;241m.\u001b[39mDataFrame(\u001b[43me4_data_dict\u001b[49m\u001b[43m[\u001b[49m\u001b[38;5;124;43m'\u001b[39;49m\u001b[38;5;124;43mResp_C\u001b[39;49m\u001b[38;5;124;43m'\u001b[39;49m\u001b[43m]\u001b[49m, columns\u001b[38;5;241m=\u001b[39m[\u001b[38;5;124m'\u001b[39m\u001b[38;5;124mResp_C\u001b[39m\u001b[38;5;124m'\u001b[39m])\n\u001b[1;32m     11\u001b[0m acc_c_df \u001b[38;5;241m=\u001b[39m pd\u001b[38;5;241m.\u001b[39mDataFrame(e4_data_dict[\u001b[38;5;124m'\u001b[39m\u001b[38;5;124mACC_C\u001b[39m\u001b[38;5;124m'\u001b[39m], columns\u001b[38;5;241m=\u001b[39m[\u001b[38;5;124m'\u001b[39m\u001b[38;5;124mACC_x_C\u001b[39m\u001b[38;5;124m'\u001b[39m, \u001b[38;5;124m'\u001b[39m\u001b[38;5;124mACC_y_C\u001b[39m\u001b[38;5;124m'\u001b[39m, \u001b[38;5;124m'\u001b[39m\u001b[38;5;124mACC_z_C\u001b[39m\u001b[38;5;124m'\u001b[39m])\n\u001b[1;32m     12\u001b[0m ecg_c_df \u001b[38;5;241m=\u001b[39m pd\u001b[38;5;241m.\u001b[39mDataFrame(e4_data_dict[\u001b[38;5;124m'\u001b[39m\u001b[38;5;124mECG_C\u001b[39m\u001b[38;5;124m'\u001b[39m], columns\u001b[38;5;241m=\u001b[39m[\u001b[38;5;124m'\u001b[39m\u001b[38;5;124mECG_C\u001b[39m\u001b[38;5;124m'\u001b[39m])\n",
      "\u001b[0;31mKeyError\u001b[0m: 'Resp_C'"
     ]
    }
   ],
   "source": [
    "def combine_files_with_noise(subjects):\n",
    "    df_list = []\n",
    "    for s in subjects:\n",
    "        df = pd.read_csv(f'{savePath}{subject_feature_path}/S{s}_feats_with_noise_4.csv', index_col=0)\n",
    "        df['subject'] = s\n",
    "        df_list.append(df)\n",
    "\n",
    "    df = pd.concat(df_list)\n",
    "\n",
    "    df['label'] = (df['0'].astype(str) + df['1'].astype(str) + df['2'].astype(str)).apply(lambda x: x.index('1'))\n",
    "    df.drop(['0', '1', '2'], axis=1, inplace=True)\n",
    "\n",
    "    df.reset_index(drop=True, inplace=True)\n",
    "\n",
    "    df.to_csv(f'{savePath}/may14_feats4_with_noise.csv')\n",
    "\n",
    "    counts = df['label'].value_counts()\n",
    "    print('Number of samples per class:')\n",
    "    for label, number in zip(counts.index, counts.values):\n",
    "        print(f'{int_to_label[label]}: {number}')\n",
    "\n",
    "\n",
    "if __name__ == '__main__':\n",
    "\n",
    "    subject_ids = [2, 3, 4, 5, 6, 7, 8, 9, 10, 11, 13, 14, 15, 16, 17]\n",
    "\n",
    "    for patient in subject_ids:\n",
    "        print(f'Processing data for S{patient}...')\n",
    "        make_patient_data_with_noise(patient)\n",
    "\n",
    "    combine_files(subject_ids)\n",
    "    print('Processing complete.')"
   ]
  },
  {
   "cell_type": "code",
   "execution_count": null,
   "id": "624e57d8",
   "metadata": {},
   "outputs": [],
   "source": [
    "class rparser_with_noise:\n",
    "    # Code adapted from https://github.com/arsen-movsesyan/springboard_WESAD/blob/master/parsers/readme_parser.py\n",
    "    VALUE_EXTRACT_KEYS = {\n",
    "        \"age\": {\n",
    "            'search_key': 'Age',\n",
    "            'delimiter': ':'\n",
    "        },\n",
    "        \"height\": {\n",
    "            'search_key': 'Height',\n",
    "            'delimiter': ':'\n",
    "        },\n",
    "        \"weight\": {\n",
    "            'search_key': 'Weight',\n",
    "            'delimiter': ':'\n",
    "        },\n",
    "        \"gender\": {\n",
    "            'search_key': 'Gender',\n",
    "            'delimiter': ':'\n",
    "        },\n",
    "        \"dominant_hand\": {\n",
    "            'search_key': 'Dominant',\n",
    "            'delimiter': ':'\n",
    "        },\n",
    "        \"coffee_today\": {\n",
    "            'search_key': 'Did you drink coffee today',\n",
    "            'delimiter': '? '\n",
    "        },\n",
    "        \"coffee_last_hour\": {\n",
    "            'search_key': 'Did you drink coffee within the last hour',\n",
    "            'delimiter': '? '\n",
    "        },\n",
    "        \"sport_today\": {\n",
    "            'search_key': 'Did you do any sports today',\n",
    "            'delimiter': '? '\n",
    "        },\n",
    "        \"smoker\": {\n",
    "            'search_key': 'Are you a smoker',\n",
    "            'delimiter': '? '\n",
    "        },\n",
    "        \"smoke_last_hour\": {\n",
    "            'search_key': 'Did you smoke within the last hour',\n",
    "            'delimiter': '? '\n",
    "        },\n",
    "        \"feel_ill_today\": {\n",
    "            'search_key': 'Do you feel ill today',\n",
    "            'delimiter': '? '\n",
    "        }\n",
    "    }\n",
    "    \n",
    "    DATA_PATH = 'data/WESAD/'\n",
    "    parse_file_suffix = '_readme.txt'\n",
    "    \n",
    "    \n",
    "    def __init__(self):\n",
    "        \n",
    "        self.readme_locations = {subject_directory: self.DATA_PATH + subject_directory + '/' \n",
    "                          for subject_directory in os.listdir(self.DATA_PATH)\n",
    "                              if re.match('^S[0-9]{1,2}$', subject_directory)}\n",
    "        \n",
    "        # Check if parsed readme file is available ( should be as it is saved above )\n",
    "        if not os.path.isfile('data/readmes.csv'):\n",
    "            print('Parsing Readme files')\n",
    "            self.parse_all_readmes()\n",
    "        else:\n",
    "            print('Files already parsed.')\n",
    "            \n",
    "        self.merge_with_feature_data_with_noise()\n",
    "        \n",
    "        \n",
    "    def parse_readme(self, subject_id):\n",
    "        with open(self.readme_locations[subject_id] + subject_id + self.parse_file_suffix, 'r') as f:\n",
    "\n",
    "            x = f.read().split('\\n')\n",
    "\n",
    "        readme_dict = {}\n",
    "\n",
    "        for item in x:\n",
    "            for key in self.VALUE_EXTRACT_KEYS.keys():\n",
    "                search_key = self.VALUE_EXTRACT_KEYS[key]['search_key']\n",
    "                delimiter = self.VALUE_EXTRACT_KEYS[key]['delimiter']\n",
    "                if item.startswith(search_key):\n",
    "                    d, v = item.split(delimiter)\n",
    "                    readme_dict.update({key: v})\n",
    "                    break\n",
    "        return readme_dict\n",
    "\n",
    "\n",
    "    def parse_all_readmes(self):\n",
    "        \n",
    "        dframes = []\n",
    "\n",
    "        for subject_id, path in self.readme_locations.items():\n",
    "            readme_dict = self.parse_readme(subject_id)\n",
    "            df = pd.DataFrame(readme_dict, index=[subject_id])\n",
    "            dframes.append(df)\n",
    "\n",
    "        df = pd.concat(dframes)\n",
    "        df.to_csv(self.DATA_PATH + 'readmes.csv')\n",
    "\n",
    "        \n",
    "    def merge_with_feature_data_with_noise(self):\n",
    "        # Confirm feature files are available\n",
    "        if os.path.isfile('data/may14_feats4.csv'):\n",
    "            feat_df = pd.read_csv('data/may14_feats4.csv', index_col=0)\n",
    "            print(feat_df.info())\n",
    "        else:\n",
    "            print('No feature data available. Exiting...')\n",
    "            return\n",
    "           \n",
    "        # Combine data and save\n",
    "        df = pd.read_csv(f'{self.DATA_PATH}readmes.csv', index_col=0)\n",
    "\n",
    "        dummy_df = pd.get_dummies(df)\n",
    "        \n",
    "        dummy_df['subject'] = dummy_df.index.str[1:].astype(int)\n",
    "\n",
    "        dummy_df = dummy_df[['age', 'height', 'weight', 'gender_ female', 'gender_ male',\n",
    "                           'coffee_today_YES', 'sport_today_YES', 'smoker_NO', 'smoker_YES',\n",
    "                           'feel_ill_today_YES', 'subject']]\n",
    "\n",
    "        merged_df = pd.merge(feat_df, dummy_df, on='subject')\n",
    "\n",
    "        merged_df.to_csv('data/m14_merged_with_noise.csv')\n",
    "        "
   ]
  },
  {
   "cell_type": "code",
   "execution_count": null,
   "id": "25eb1c41",
   "metadata": {},
   "outputs": [],
   "source": [
    "rp_with_noise = rparser_with_noise()"
   ]
  },
  {
   "cell_type": "markdown",
   "id": "afbb3726",
   "metadata": {},
   "source": [
    "# Modeling (pt. 2)"
   ]
  },
  {
   "cell_type": "markdown",
   "id": "3a99893b",
   "metadata": {},
   "source": [
    "Model again, this time with the noisy data"
   ]
  },
  {
   "cell_type": "code",
   "execution_count": 212,
   "id": "c4f997c5",
   "metadata": {},
   "outputs": [],
   "source": [
    "df = pd.read_csv('data/m14_merged.csv', index_col=0)\n",
    "pd.set_option('display.max_columns', None) "
   ]
  },
  {
   "cell_type": "code",
   "execution_count": 213,
   "id": "1b73edd2",
   "metadata": {},
   "outputs": [],
   "source": [
    "X = df.drop('label', axis=1).values\n",
    "y = df['label'].values\n",
    "\n",
    "X_train, X_test, y_train, y_test = train_test_split(X, y, test_size=0.2, random_state=0)  "
   ]
  },
  {
   "cell_type": "code",
   "execution_count": 214,
   "id": "4d47350f",
   "metadata": {},
   "outputs": [],
   "source": [
    "sc = StandardScaler()  \n",
    "X_train = sc.fit_transform(X_train)  \n",
    "X_test = sc.transform(X_test)  \n",
    "\n",
    "\n",
    "lda = LinearDiscriminantAnalysis()\n",
    "lda.fit(X_train, y_train)\n",
    "y_pred = lda.predict(X_test)"
   ]
  },
  {
   "cell_type": "code",
   "execution_count": 215,
   "id": "3fa6b127",
   "metadata": {},
   "outputs": [
    {
     "name": "stdout",
     "output_type": "stream",
     "text": [
      "[[ 22  20   1]\n",
      " [  9 116   1]\n",
      " [  1   2  64]]\n",
      "Accuracy: 0.8559322033898306\n"
     ]
    }
   ],
   "source": [
    "cm = confusion_matrix(y_test, y_pred)  \n",
    "print(cm)  \n",
    "print('Accuracy: ' + str(accuracy_score(y_test, y_pred)))  "
   ]
  },
  {
   "cell_type": "markdown",
   "id": "5973d694",
   "metadata": {},
   "source": [
    "# Compare Results"
   ]
  },
  {
   "cell_type": "markdown",
   "id": "f96f4551",
   "metadata": {},
   "source": [
    "Compare the results of the noisy data models and the clean data models"
   ]
  },
  {
   "cell_type": "markdown",
   "id": "dafb53c5",
   "metadata": {},
   "source": [
    "- Plots of SNR (x-axis) vs. accuracy (y-axis)\n",
    "- Compare feature importances across different noise regimes\n",
    "    - Develop dynamic evaluation method based on original feature importance / added noise"
   ]
  }
 ],
 "metadata": {
  "kernelspec": {
   "display_name": "Python 3 (ipykernel)",
   "language": "python",
   "name": "python3"
  },
  "language_info": {
   "codemirror_mode": {
    "name": "ipython",
    "version": 3
   },
   "file_extension": ".py",
   "mimetype": "text/x-python",
   "name": "python",
   "nbconvert_exporter": "python",
   "pygments_lexer": "ipython3",
   "version": "3.10.4"
  },
  "latex_envs": {
   "LaTeX_envs_menu_present": true,
   "autoclose": false,
   "autocomplete": true,
   "bibliofile": "biblio.bib",
   "cite_by": "apalike",
   "current_citInitial": 1,
   "eqLabelWithNumbers": true,
   "eqNumInitial": 1,
   "hotkeys": {
    "equation": "Ctrl-E",
    "itemize": "Ctrl-I"
   },
   "labels_anchors": false,
   "latex_user_defs": false,
   "report_style_numbering": false,
   "user_envs_cfg": false
  },
  "toc": {
   "base_numbering": 1,
   "nav_menu": {},
   "number_sections": true,
   "sideBar": true,
   "skip_h1_title": false,
   "title_cell": "Table of Contents",
   "title_sidebar": "Contents",
   "toc_cell": false,
   "toc_position": {
    "height": "1055px",
    "left": "216px",
    "top": "111.12px",
    "width": "254px"
   },
   "toc_section_display": true,
   "toc_window_display": true
  }
 },
 "nbformat": 4,
 "nbformat_minor": 5
}
