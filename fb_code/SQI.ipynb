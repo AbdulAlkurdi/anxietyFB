{
 "cells": [
  {
   "attachments": {},
   "cell_type": "markdown",
   "metadata": {},
   "source": [
    "\n",
    "## Introduction\n",
    "\n",
    "We present an algorithm to measure the Signal Quality of E4 wristband data taken from second year medical residents, deeming the following three measures as nontrivial: spectral entropy, skewness, and perfusion. Spectral entropy is a measure of the Shannon entropy of the probability distribution corresponding to the spectral power distribution normalized. Skewness follows the classic statistical formula for measuring the skewness of a distribution. Perfusion is the difference between the maximum and minimum values of a signal, normalized by the average of the segment. "
   ]
  },
  {
   "cell_type": "code",
   "execution_count": 123,
   "metadata": {},
   "outputs": [],
   "source": [
    "import scipy.signal as scisig\n",
    "import matplotlib.pyplot as plt\n",
    "import numpy as np\n",
    "import pandas as pd\n",
    "\n",
    "bvp =  r\"C:\\Users\\Vansh\\Downloads\\BVP_test.csv\" \n",
    "eda =  r\"C:\\Users\\Vansh\\Downloads\\EDA.csv\" \n",
    "\n",
    "fs_dict = {'ACC': 32, 'BVP': 64, 'EDA': 4, 'TEMP': 4, 'label': 700, 'Resp': 700, 'ECG': 700, 'chest': 700} # Frequency dictionary\n",
    "filepath = bvp # change\n",
    "data = pd.read_csv(filepath)\n",
    "time = data.iloc[:, 3]\n",
    "data = data.iloc[:, 2]\n",
    "data = data.to_numpy()\n",
    "#data = data * 1000000"
   ]
  },
  {
   "attachments": {},
   "cell_type": "markdown",
   "metadata": {},
   "source": [
    "### Spectral Entropy\n",
    "\n",
    "Given a segment of the signal, we compute the spectral power as a probability density function and determine its Shannon entropy. This is done for each segment, handled in the evaluation function."
   ]
  },
  {
   "cell_type": "code",
   "execution_count": 124,
   "metadata": {},
   "outputs": [],
   "source": [
    "def spectral_entropy(segment, signal_name):\n",
    "   \n",
    "    f, Pxx_den = scisig.welch(segment, fs_dict[signal_name]) # Welch's Power spectral density.\n",
    "    #f_store.append(f)\n",
    "    #Pxx_store.append(Pxx_den)\n",
    "    scaled_Pxx = Pxx_den/np.sum(Pxx_den)\n",
    "    N_bins = np.sum((f>1)*(f<3))\n",
    "    value = scaled_Pxx*np.log(scaled_Pxx)/N_bins\n",
    "    return (-np.sum(value))\n",
    "    "
   ]
  },
  {
   "attachments": {},
   "cell_type": "markdown",
   "metadata": {},
   "source": [
    "### Perfusion\n",
    "Max subtracted from min of a signal segment divided by the signal segment's average. We pass in a one segment at a time in the evaluation function."
   ]
  },
  {
   "cell_type": "code",
   "execution_count": 126,
   "metadata": {},
   "outputs": [],
   "source": [
    "def perfusion(segment, signal_name): \n",
    "    avg = segment.mean()\n",
    "    bb, aa = scisig.butter(8, 8*2/fs_dict[signal_name])      # filter coefs of 8th order Butterworth filter\n",
    "    y = scisig.filtfilt(bb, aa, segment)                # applying filter forward and backward to segment of signal\n",
    "    return (100*(np.max(y)-np.min(y))/np.abs(avg))"
   ]
  },
  {
   "attachments": {},
   "cell_type": "markdown",
   "metadata": {},
   "source": [
    "### Evaluation\n",
    "Below returns a list for each signal quality measure, where values correspond to measurements taken from a segment of the signal given a time frame (window size). The time series for each measurement is plotted."
   ]
  },
  {
   "cell_type": "code",
   "execution_count": 127,
   "metadata": {},
   "outputs": [],
   "source": [
    "def evaluate_quality(x, signal_name, start_time, sample_freq, window_size=4):\n",
    "    '''\n",
    "    evaluate quality\n",
    "    Parameters\n",
    "    ----------\n",
    "    x : array\n",
    "        signal data to evaluate\n",
    "    signal: string\n",
    "        signal to evaluate, key from frequency dictionary\n",
    "    window_size : int\n",
    "        window size in seconds\n",
    "        \n",
    "    Returns\n",
    "    -------\n",
    "    Ssqi : list\n",
    "           skewness measure of segment\n",
    "    Psqi : list\n",
    "           perfusion of signal\n",
    "    SEsqi: list\n",
    "           spectral entropy of segment\n",
    "    '''\n",
    "    Psqi = []\n",
    "    Ssqi = []\n",
    "    SEsqi = []\n",
    "    i_N = window_size*sample_freq;                          # index per window\n",
    "    f1 = 1; f2=3;                                           # frequency band\n",
    "    #f_store = []\n",
    "    #Pxx_store = []\n",
    "    time_increments = []\n",
    "    for i in range(len(x)//(i_N)):                          # iterates on each window\n",
    "        i_s = i*i_N                                         # counter\n",
    "        i_f = i_s + i_N\n",
    "        segment = x[i_s:i_f]\n",
    "        avg = segment.mean()\n",
    "        stdv = segment.std()\n",
    "        Ssqi.append(np.sum((segment -avg/stdv)**3)/i_N)\n",
    "        p = perfusion(segment, signal_name)\n",
    "        Psqi.append(p)\n",
    "        se = spectral_entropy(segment, signal_name)\n",
    "        SEsqi.append(se)\n",
    "        time_increments.append(time[i_s])                   # every {window_size} seconds\n",
    "        del avg; del stdv\n",
    "    \n",
    "    plot_time_series_SE(SEsqi, time_increments, signal_name, x, window_size, start_time)\n",
    "    plot_time_series_P(Psqi, time_increments, signal_name, x, window_size, start_time)\n",
    "    plot_time_series_skewness(Ssqi, time_increments, signal_name, x, window_size, start_time)\n",
    "    return Ssqi, Psqi, SEsqi"
   ]
  },
  {
   "cell_type": "code",
   "execution_count": 128,
   "metadata": {},
   "outputs": [],
   "source": [
    "def plot_series_helper(measure, time_increments, signal_name, signal_data, window_size, start_time, measure_name, range, c, limit):\n",
    "    df_measure = pd.DataFrame(measure, columns=[measure_name])\n",
    "    df_measure['Seconds'] = time_increments\n",
    "\n",
    "    \n",
    "    df_measure[signal_name] = (signal_data[::(window_size*64)])[:-1]\n",
    "    start_time = start_time // 4\n",
    "    df_measure = df_measure.iloc[start_time:]\n",
    "    fig, ax = plt.subplots(figsize=(30,10)) \n",
    "    graph1 = df_measure.plot(x = 'Seconds', y = signal_name, ax = ax, color = \"black\", fontsize=20) \n",
    "   \n",
    "    #signal measures exceeding 1 std from mean have been ommitted\n",
    "    graph1.set_ylim(signal_data.mean() - signal_data.std(), signal_data.mean() + signal_data.std())\n",
    "\n",
    "    graph2 = df_measure.plot(x = 'Seconds', y = measure_name, ax = ax, secondary_y = True, color = c, fontsize=20) \n",
    "    measure = np.array(measure)\n",
    "    if limit: \n",
    "        graph2.set_ylim(range[0], range[1])\n",
    "    \n",
    "    graph1.set_xlabel('Seconds', fontsize = 20)\n",
    "    graph1.set_ylabel(signal_name, fontsize = 20)\n",
    "    graph2.set_ylabel(measure_name, fontsize = 20)\n",
    "    plt.show()"
   ]
  },
  {
   "cell_type": "code",
   "execution_count": 129,
   "metadata": {},
   "outputs": [],
   "source": [
    "def plot_time_series_SE(measure, time_increments, signal_name, signal_data, window_size, start_time):\n",
    "    plot_series_helper(measure, time_increments, signal_name, signal_data, window_size, start_time, \"SE\", [0, 0], \"blue\", False)\n"
   ]
  },
  {
   "cell_type": "code",
   "execution_count": 130,
   "metadata": {},
   "outputs": [],
   "source": [
    "def plot_time_series_P(measure, time_increments, signal_name, signal_data, window_size, start_time):\n",
    "    plot_series_helper(measure, time_increments, signal_name, signal_data, window_size, start_time, \"Perfusion\", [0, 10000000], \"red\", True)"
   ]
  },
  {
   "cell_type": "code",
   "execution_count": 131,
   "metadata": {},
   "outputs": [],
   "source": [
    "def plot_time_series_skewness(measure, time_increments, signal_name, signal_data, window_size, start_time):\n",
    "    plot_series_helper(measure, time_increments, signal_name, signal_data, window_size, start_time, \"Skewness\", [-5, 5], \"orange\", True)"
   ]
  },
  {
   "attachments": {},
   "cell_type": "markdown",
   "metadata": {},
   "source": [
    "### Validation\n",
    "\n",
    "Given a time frame, we determine the segment's validity using various thresholds relating to the above measurements taken from this segment."
   ]
  },
  {
   "cell_type": "code",
   "execution_count": 132,
   "metadata": {},
   "outputs": [],
   "source": [
    "def validate_segment(data, start, end, signal_name, window_size, sample_freq):\n",
    "    '''\n",
    "    evaluate quality\n",
    "    Parameters\n",
    "    ----------\n",
    "    start : int\n",
    "        start time\n",
    "    end : int\n",
    "        end time\n",
    "    signal_name : string\n",
    "        signal name from frequency dictionary\n",
    "    window_size : int\n",
    "        window size in seconds\n",
    "    sample_freq : int\n",
    "        sampling frequency of signal\n",
    "        \n",
    "    Returns\n",
    "    -------\n",
    "    array with 3 values corresponding to skew, se, and perfusion\n",
    "    1 if needs attention, 0 otherwise\n",
    "    '''\n",
    "    s = (start * window_size * sample_freq)\n",
    "    e = (end * window_size * sample_freq)\n",
    "    segment = data[s:e]\n",
    "    bb, aa = scisig.butter(8, 8*2/fs_dict[signal_name])      # filter coefs of 8th order Butterworth filter\n",
    "    y = scisig.filtfilt(bb, aa, segment)                     # applying filter forward and backward to segment of signal\n",
    "    f, Pxx_den = scisig.welch(segment, fs_dict[signal_name]) # Welch's Power spectral density.\n",
    "    \n",
    "    scaled_Pxx = Pxx_den/np.sum(Pxx_den)\n",
    "    N_bins = np.sum((f>1)*(f<3))\n",
    "    value = scaled_Pxx*np.log(scaled_Pxx)/N_bins\n",
    "    se = -np.sum(value)\n",
    "    avg = segment.mean()\n",
    "    stdv = segment.std()\n",
    "    perfusion = 100*(np.max(y)-np.min(y))/np.abs(avg)\n",
    "    skewness = np.sum((segment -avg/stdv)**3)/(end-start)\n",
    "    \n",
    "    res = {\"skewness\" : 0, \"se\" : 0, \"perfusion\" : 0}\n",
    "    if abs(skewness) > 1: #placeholders, look into value\n",
    "        res[\"skewness\"] = 1\n",
    "    if abs(se) > 0.5:\n",
    "        res[\"se\"] = 1\n",
    "    if perfusion > 500000:       #always positive\n",
    "        res[\"perfusion\"] = 1\n",
    "    \n",
    "    return res\n",
    "    "
   ]
  },
  {
   "cell_type": "code",
   "execution_count": 134,
   "metadata": {},
   "outputs": [],
   "source": [
    "#passing in BVP signal data to function\n",
    "signal_type = \"BVP\"\n",
    "Ssqi, Psqi, SEsqi = evaluate_quality(data, signal_type, window_size = 4, start_time = 120, sample_freq = fs_dict[signal_type])"
   ]
  },
  {
   "cell_type": "code",
   "execution_count": 31,
   "metadata": {},
   "outputs": [
    {
     "data": {
      "text/plain": [
       "{'skewness': 1, 'se': 0, 'perfusion': 1}"
      ]
     },
     "execution_count": 31,
     "metadata": {},
     "output_type": "execute_result"
    }
   ],
   "source": [
    "# time period 2000 - 8000 seems interesting, lets check\n",
    "res = validate_segment(data, 2000, 8000, \"BVP\", 4, 64)\n",
    "res\n"
   ]
  },
  {
   "attachments": {},
   "cell_type": "markdown",
   "metadata": {},
   "source": [
    "### Example Interpretation\n",
    "Looking at the graphs, we see skewness and perfusion do have incredibly high values in this range, prompting further investigation."
   ]
  },
  {
   "cell_type": "code",
   "execution_count": null,
   "metadata": {},
   "outputs": [],
   "source": []
  }
 ],
 "metadata": {
  "kernelspec": {
   "display_name": "base",
   "language": "python",
   "name": "python3"
  },
  "language_info": {
   "codemirror_mode": {
    "name": "ipython",
    "version": 3
   },
   "file_extension": ".py",
   "mimetype": "text/x-python",
   "name": "python",
   "nbconvert_exporter": "python",
   "pygments_lexer": "ipython3",
   "version": "3.9.12"
  },
  "orig_nbformat": 4
 },
 "nbformat": 4,
 "nbformat_minor": 2
}
