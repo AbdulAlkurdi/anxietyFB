{
 "cells": [
  {
   "cell_type": "markdown",
   "metadata": {},
   "source": [
    "# Imports  "
   ]
  },
  {
   "cell_type": "code",
   "execution_count": 9,
   "metadata": {},
   "outputs": [
    {
     "name": "stdout",
     "output_type": "stream",
     "text": [
      "original list of participants:  [4, 7, 9, 12, 14, 16, 17, 18, 21]\n",
      "list of participants to process:  [7, 9, 12, 14, 16, 17, 21]\n",
      "-----------------------\n",
      "redcap dict exists\n",
      "redcap df exists\n",
      "redcap df pickle loaded\n"
     ]
    }
   ],
   "source": [
    "import os, sys\n",
    "import dask \n",
    "import dask.dataframe as dd\n",
    "import pandas as pd\n",
    "import numpy as np\n",
    "import pickle, json\n",
    "import process_redcap \n",
    "from scipy import signal\n",
    "import os.path\n",
    "\n",
    "\n",
    "radwear_path = '/projects/bbnp/Vansh/data/RADWear/'\n",
    "\n",
    "#import all_p_metadata.json\n",
    "with open(radwear_path + 'all_p_metadata.json') as f:\n",
    "    all_p_metadata = json.load(f)\n",
    "\n",
    "list_of_participants = all_p_metadata['list of participant IDs'].copy()\n",
    "print('original list of participants: ',list_of_participants)\n",
    "list_of_participants.remove(4) # remote calibration only participants for now until i add the redcap data for them\n",
    "list_of_participants.remove(18) # remote calibration only participants for now until i add the redcap data for them\n",
    "\n",
    "\n",
    "print('list of participants to process: ', list_of_participants)\n",
    "print('-----------------------')\n",
    "fs = all_p_metadata['fs']\n",
    "\n",
    "\n",
    "\n",
    "redcap_path = radwear_path+'REDCap responses/'\n",
    "\n",
    "# load all participant redcap data\n",
    "redcap_df = process_redcap.process_redcap(redcap_path,all_p_metadata['list of participant IDs'])\n",
    "redcap_dfcalib = redcap_df.copy() # a cheat for now since i don't have redcap data for calibration\n",
    "columns_list = redcap_dfcalib.columns\n",
    "\n",
    "\n",
    "rot_anx_dict = {'calibration': 0, 'LA': 1, 'HA': 2}\n",
    "calib_label = {'not calibration':0, 'calibration':1, 'cpt':2,'meditation':3}"
   ]
  },
  {
   "cell_type": "markdown",
   "metadata": {},
   "source": [
    "## Get RedCap"
   ]
  },
  {
   "cell_type": "markdown",
   "metadata": {},
   "source": [
    "# get metadata"
   ]
  },
  {
   "cell_type": "markdown",
   "metadata": {},
   "source": [
    "# load each P data and process"
   ]
  },
  {
   "cell_type": "markdown",
   "metadata": {},
   "source": [
    "# Create features"
   ]
  },
  {
   "cell_type": "markdown",
   "metadata": {},
   "source": [
    "# Run the correlation "
   ]
  },
  {
   "cell_type": "code",
   "execution_count": 7,
   "metadata": {},
   "outputs": [
    {
     "name": "stdout",
     "output_type": "stream",
     "text": [
      "/projects/bbnp/Vansh/data/RADWear//p_7.pkl:  True\n"
     ]
    }
   ],
   "source": [
    "radwear_path = '/projects/bbnp/Vansh/data/RADWear/'\n",
    "\n",
    "#ppdf = dd.read_parquet(radwear_path+ 'combined_participants/combined_participants.parquet')\n",
    "p = 7\n",
    "#all_p_df.to_parquet(radwear_path+'all_participants.parquet')\n",
    "#all_p_ddf = dd.from_pandas(all_p_df,npartitions=20)\n",
    "print(radwear_path +  '/p_'+str(p)+'.pkl: ', os.path.isfile(radwear_path +  '/p_'+str(p)+'.pkl'))\n",
    "with open(radwear_path +  '/p_'+str(p)+'.pkl', 'rb') as f:\n",
    "    p_data = pd.read_pickle(radwear_path +  '/p_'+str(p)+'.pkl')\n",
    "#df = pd_old.read_pickle('data/RADWear/p_'+str(p)+'.pkl')"
   ]
  },
  {
   "cell_type": "code",
   "execution_count": 23,
   "metadata": {},
   "outputs": [
    {
     "name": "stdout",
     "output_type": "stream",
     "text": [
      "['all_participants.parquet', 'Participant 21', 'Participant 4', 'Participant 14', 'combined_participants.parquet', 'REDCap responses', 'Participant 7', 'p_9.pkl', 'Participant 20', 'p_14.pkl', 'Participant 12', 'Participant X', 'p_16.pkl', 'Participant 19', 'all_p_metadata.json', 'Participant 5', 'Participant 18', 'Participant 16', 'p_17.pkl', 'p_7.pkl', 'Participant 9', 'p_21.pkl', 'Participant 17', 'all_participants.pkl', 'p_12.pkl']\n"
     ]
    }
   ],
   "source": [
    "radwear_path = '/projects/bbnp/Vansh/data/RADWear/'\n",
    "print(os.listdir(radwear_path))\n",
    "#ppdf = dd.read_parquet(radwear_path+ 'combined_participants/')\n",
    "#with open(radwear_path+'all_participants.parquet', 'rb') as f:\n",
    "#    ddf = dd.read_parquet(f, engine='pyarrow')\n",
    "\n",
    "#with open(radwear_path+'combined_participants.parquet/', 'rb') as f:\n",
    "#    ddf = dd.read_parquet(f, engine='pyarrow')\n",
    "\n",
    "ddf = dd.read_parquet(radwear_path+'combined_participants.parquet/*.parquet', engine='pyarrow')"
   ]
  },
  {
   "cell_type": "code",
   "execution_count": 24,
   "metadata": {},
   "outputs": [
    {
     "data": {
      "text/html": [
       "<div><strong>Dask DataFrame Structure:</strong></div>\n",
       "<div>\n",
       "<style scoped>\n",
       "    .dataframe tbody tr th:only-of-type {\n",
       "        vertical-align: middle;\n",
       "    }\n",
       "\n",
       "    .dataframe tbody tr th {\n",
       "        vertical-align: top;\n",
       "    }\n",
       "\n",
       "    .dataframe thead th {\n",
       "        text-align: right;\n",
       "    }\n",
       "</style>\n",
       "<table border=\"1\" class=\"dataframe\">\n",
       "  <thead>\n",
       "    <tr style=\"text-align: right;\">\n",
       "      <th></th>\n",
       "      <th>Timestamp</th>\n",
       "      <th>BVP</th>\n",
       "      <th>Second</th>\n",
       "      <th>ECG</th>\n",
       "      <th>EDA</th>\n",
       "      <th>TEMP</th>\n",
       "      <th>BR</th>\n",
       "      <th>ACCx_hx</th>\n",
       "      <th>ACCy_hx</th>\n",
       "      <th>ACCz_hx</th>\n",
       "      <th>ACCx_e4</th>\n",
       "      <th>ACCy_e4</th>\n",
       "      <th>ACCz_e4</th>\n",
       "      <th>rot_label</th>\n",
       "      <th>calib_label</th>\n",
       "      <th>participant</th>\n",
       "      <th>daily_check_in_date</th>\n",
       "      <th>daily_anxious_level</th>\n",
       "      <th>daily_overall_anxiety</th>\n",
       "      <th>daily_distressed_level</th>\n",
       "      <th>daily_feeling</th>\n",
       "      <th>daily_covid_contact</th>\n",
       "      <th>daily_covid_team_contact</th>\n",
       "    </tr>\n",
       "    <tr>\n",
       "      <th>npartitions=20</th>\n",
       "      <th></th>\n",
       "      <th></th>\n",
       "      <th></th>\n",
       "      <th></th>\n",
       "      <th></th>\n",
       "      <th></th>\n",
       "      <th></th>\n",
       "      <th></th>\n",
       "      <th></th>\n",
       "      <th></th>\n",
       "      <th></th>\n",
       "      <th></th>\n",
       "      <th></th>\n",
       "      <th></th>\n",
       "      <th></th>\n",
       "      <th></th>\n",
       "      <th></th>\n",
       "      <th></th>\n",
       "      <th></th>\n",
       "      <th></th>\n",
       "      <th></th>\n",
       "      <th></th>\n",
       "      <th></th>\n",
       "    </tr>\n",
       "  </thead>\n",
       "  <tbody>\n",
       "    <tr>\n",
       "      <th></th>\n",
       "      <td>float64</td>\n",
       "      <td>float64</td>\n",
       "      <td>float64</td>\n",
       "      <td>float64</td>\n",
       "      <td>float64</td>\n",
       "      <td>float64</td>\n",
       "      <td>float64</td>\n",
       "      <td>float64</td>\n",
       "      <td>float64</td>\n",
       "      <td>float64</td>\n",
       "      <td>float64</td>\n",
       "      <td>float64</td>\n",
       "      <td>float64</td>\n",
       "      <td>float64</td>\n",
       "      <td>float64</td>\n",
       "      <td>float64</td>\n",
       "      <td>object</td>\n",
       "      <td>float64</td>\n",
       "      <td>float64</td>\n",
       "      <td>float64</td>\n",
       "      <td>float64</td>\n",
       "      <td>float64</td>\n",
       "      <td>float64</td>\n",
       "    </tr>\n",
       "    <tr>\n",
       "      <th></th>\n",
       "      <td>...</td>\n",
       "      <td>...</td>\n",
       "      <td>...</td>\n",
       "      <td>...</td>\n",
       "      <td>...</td>\n",
       "      <td>...</td>\n",
       "      <td>...</td>\n",
       "      <td>...</td>\n",
       "      <td>...</td>\n",
       "      <td>...</td>\n",
       "      <td>...</td>\n",
       "      <td>...</td>\n",
       "      <td>...</td>\n",
       "      <td>...</td>\n",
       "      <td>...</td>\n",
       "      <td>...</td>\n",
       "      <td>...</td>\n",
       "      <td>...</td>\n",
       "      <td>...</td>\n",
       "      <td>...</td>\n",
       "      <td>...</td>\n",
       "      <td>...</td>\n",
       "      <td>...</td>\n",
       "    </tr>\n",
       "    <tr>\n",
       "      <th>...</th>\n",
       "      <td>...</td>\n",
       "      <td>...</td>\n",
       "      <td>...</td>\n",
       "      <td>...</td>\n",
       "      <td>...</td>\n",
       "      <td>...</td>\n",
       "      <td>...</td>\n",
       "      <td>...</td>\n",
       "      <td>...</td>\n",
       "      <td>...</td>\n",
       "      <td>...</td>\n",
       "      <td>...</td>\n",
       "      <td>...</td>\n",
       "      <td>...</td>\n",
       "      <td>...</td>\n",
       "      <td>...</td>\n",
       "      <td>...</td>\n",
       "      <td>...</td>\n",
       "      <td>...</td>\n",
       "      <td>...</td>\n",
       "      <td>...</td>\n",
       "      <td>...</td>\n",
       "      <td>...</td>\n",
       "    </tr>\n",
       "    <tr>\n",
       "      <th></th>\n",
       "      <td>...</td>\n",
       "      <td>...</td>\n",
       "      <td>...</td>\n",
       "      <td>...</td>\n",
       "      <td>...</td>\n",
       "      <td>...</td>\n",
       "      <td>...</td>\n",
       "      <td>...</td>\n",
       "      <td>...</td>\n",
       "      <td>...</td>\n",
       "      <td>...</td>\n",
       "      <td>...</td>\n",
       "      <td>...</td>\n",
       "      <td>...</td>\n",
       "      <td>...</td>\n",
       "      <td>...</td>\n",
       "      <td>...</td>\n",
       "      <td>...</td>\n",
       "      <td>...</td>\n",
       "      <td>...</td>\n",
       "      <td>...</td>\n",
       "      <td>...</td>\n",
       "      <td>...</td>\n",
       "    </tr>\n",
       "    <tr>\n",
       "      <th></th>\n",
       "      <td>...</td>\n",
       "      <td>...</td>\n",
       "      <td>...</td>\n",
       "      <td>...</td>\n",
       "      <td>...</td>\n",
       "      <td>...</td>\n",
       "      <td>...</td>\n",
       "      <td>...</td>\n",
       "      <td>...</td>\n",
       "      <td>...</td>\n",
       "      <td>...</td>\n",
       "      <td>...</td>\n",
       "      <td>...</td>\n",
       "      <td>...</td>\n",
       "      <td>...</td>\n",
       "      <td>...</td>\n",
       "      <td>...</td>\n",
       "      <td>...</td>\n",
       "      <td>...</td>\n",
       "      <td>...</td>\n",
       "      <td>...</td>\n",
       "      <td>...</td>\n",
       "      <td>...</td>\n",
       "    </tr>\n",
       "  </tbody>\n",
       "</table>\n",
       "</div>\n",
       "<div>Dask Name: read-parquet, 20 tasks</div>"
      ],
      "text/plain": [
       "Dask DataFrame Structure:\n",
       "               Timestamp      BVP   Second      ECG      EDA     TEMP       BR  ACCx_hx  ACCy_hx  ACCz_hx  ACCx_e4  ACCy_e4  ACCz_e4 rot_label calib_label participant daily_check_in_date daily_anxious_level daily_overall_anxiety daily_distressed_level daily_feeling daily_covid_contact daily_covid_team_contact\n",
       "npartitions=20                                                                                                                                                                                                                                                                                                        \n",
       "                 float64  float64  float64  float64  float64  float64  float64  float64  float64  float64  float64  float64  float64   float64     float64     float64              object             float64               float64                float64       float64             float64                  float64\n",
       "                     ...      ...      ...      ...      ...      ...      ...      ...      ...      ...      ...      ...      ...       ...         ...         ...                 ...                 ...                   ...                    ...           ...                 ...                      ...\n",
       "...                  ...      ...      ...      ...      ...      ...      ...      ...      ...      ...      ...      ...      ...       ...         ...         ...                 ...                 ...                   ...                    ...           ...                 ...                      ...\n",
       "                     ...      ...      ...      ...      ...      ...      ...      ...      ...      ...      ...      ...      ...       ...         ...         ...                 ...                 ...                   ...                    ...           ...                 ...                      ...\n",
       "                     ...      ...      ...      ...      ...      ...      ...      ...      ...      ...      ...      ...      ...       ...         ...         ...                 ...                 ...                   ...                    ...           ...                 ...                      ...\n",
       "Dask Name: read-parquet, 20 tasks"
      ]
     },
     "execution_count": 24,
     "metadata": {},
     "output_type": "execute_result"
    }
   ],
   "source": [
    "ddf"
   ]
  },
  {
   "cell_type": "markdown",
   "metadata": {},
   "source": [
    "# "
   ]
  }
 ],
 "metadata": {
  "kernelspec": {
   "display_name": "TFwesad",
   "language": "python",
   "name": "python3"
  },
  "language_info": {
   "codemirror_mode": {
    "name": "ipython",
    "version": 3
   },
   "file_extension": ".py",
   "mimetype": "text/x-python",
   "name": "python",
   "nbconvert_exporter": "python",
   "pygments_lexer": "ipython3",
   "version": "3.8.18"
  }
 },
 "nbformat": 4,
 "nbformat_minor": 2
}
